{
  "nbformat": 4,
  "nbformat_minor": 0,
  "metadata": {
    "colab": {
      "name": "02 - Automated Ticket Assignment - Capstone Project - Approach1.ipynb",
      "provenance": [],
      "toc_visible": true
    },
    "kernelspec": {
      "display_name": "Python [conda env:nlp] *",
      "language": "python",
      "name": "conda-env-nlp-py"
    },
    "language_info": {
      "codemirror_mode": {
        "name": "ipython",
        "version": 3
      },
      "file_extension": ".py",
      "mimetype": "text/x-python",
      "name": "python",
      "nbconvert_exporter": "python",
      "pygments_lexer": "ipython3",
      "version": "3.6.9"
    },
    "toc": {
      "base_numbering": 1,
      "nav_menu": {},
      "number_sections": true,
      "sideBar": true,
      "skip_h1_title": false,
      "title_cell": "Table of Contents",
      "title_sidebar": "Contents",
      "toc_cell": false,
      "toc_position": {},
      "toc_section_display": true,
      "toc_window_display": false
    }
  },
  "cells": [
    {
      "cell_type": "markdown",
      "metadata": {
        "id": "oQVtDpX9jMaN"
      },
      "source": [
        "# Automatic Ticket Assignment - Capstone Project - Approach1\n",
        "\n",
        "## Problem Statement - \n",
        "\n",
        "In most of the IT organizations, the assignment of incidents to appropriate IT groups is still a manual process. Manual assignment of incidents is time consuming and requires human efforts. There may be mistakes due to human errors and resource consumption is carried out ineffectively because of the misaddressing. On the other hand, manual assignment increases the response and resolution times which result in user satisfaction deterioration / poor customer service. \n",
        "\n",
        "_<font color=blue>This capstone project intends to reduce the manual intervention of IT operations or Service desk teams by automating the ticket assignment process.The goal here is to create a text classification based ML model that can automatically  classify any new tickets by analysing ticket description to one of the relevant Assignment groups, which could be later integrated to any ITSM tool like Service Now. Based on the ticket description our model will output the probability of assigning it to one of the 74 Groups.</font>_\n",
        "\n",
        "The solution would be implemented using below approach:\n",
        "- Approach 1 - Using a traditional machine learning algorithm we would be classifying the tickets into one of the groups having more than 100 tickets.\n"
      ]
    },
    {
      "cell_type": "markdown",
      "metadata": {
        "id": "WJpHvcvhjMaR"
      },
      "source": [
        "### Import necessary libraries"
      ]
    },
    {
      "cell_type": "code",
      "metadata": {
        "colab": {
          "base_uri": "https://localhost:8080/"
        },
        "id": "aZ8LHOn9OVgF",
        "outputId": "d8ec1415-aaa5-4427-82d3-0b622531d2a0"
      },
      "source": [
        "!pwd"
      ],
      "execution_count": null,
      "outputs": [
        {
          "output_type": "stream",
          "text": [
            "/content\n"
          ],
          "name": "stdout"
        }
      ]
    },
    {
      "cell_type": "code",
      "metadata": {
        "colab": {
          "base_uri": "https://localhost:8080/"
        },
        "id": "42QuI3RtOXlJ",
        "outputId": "affe10d4-9a5e-45c1-fba6-368dddff3962"
      },
      "source": [
        "cd drive/MyDrive/projects/AutoTicketAssignment/"
      ],
      "execution_count": null,
      "outputs": [
        {
          "output_type": "stream",
          "text": [
            "/content/drive/MyDrive/projects/AutoTicketAssignment\n"
          ],
          "name": "stdout"
        }
      ]
    },
    {
      "cell_type": "code",
      "metadata": {
        "id": "WVB7bQ4ijMaT"
      },
      "source": [
        "import pandas as pd\n",
        "import matplotlib.pyplot as plt\n",
        "import seaborn as sns\n",
        "import numpy as np\n",
        "\n",
        "from IPython.display import display\n",
        "pd.options.display.max_columns = None\n",
        "pd.options.display.max_rows = None\n",
        "\n",
        "import warnings \n",
        "warnings.filterwarnings('ignore')"
      ],
      "execution_count": null,
      "outputs": []
    },
    {
      "cell_type": "code",
      "metadata": {
        "colab": {
          "base_uri": "https://localhost:8080/"
        },
        "id": "djtQyfR9wRd2",
        "outputId": "a4d6b629-c514-4a1a-e73a-e19bda3c9fd2"
      },
      "source": [
        "from google.colab import drive\n",
        "drive.mount('/content/drive')"
      ],
      "execution_count": null,
      "outputs": [
        {
          "output_type": "stream",
          "text": [
            "Mounted at /content/drive\n"
          ],
          "name": "stdout"
        }
      ]
    },
    {
      "cell_type": "code",
      "metadata": {
        "id": "4zRKyFYSxF86"
      },
      "source": [
        "/content/drive/MyDrive/projects/AutoTicketAssignment/"
      ],
      "execution_count": null,
      "outputs": []
    },
    {
      "cell_type": "code",
      "metadata": {
        "colab": {
          "base_uri": "https://localhost:8080/",
          "height": 408
        },
        "id": "EpwI-jvHxls-",
        "outputId": "ea793c69-ff5f-40db-d74d-9061df58776b"
      },
      "source": [
        "df_tranlated_inc1 = pd.read_csv('/content/drive/MyDrive/projects/AutoTicketAssignment/cleaned_data.csv',encoding='utf-8')\n",
        "df_tranlated_inc1.head()"
      ],
      "execution_count": null,
      "outputs": [
        {
          "output_type": "execute_result",
          "data": {
            "text/html": [
              "<div>\n",
              "<style scoped>\n",
              "    .dataframe tbody tr th:only-of-type {\n",
              "        vertical-align: middle;\n",
              "    }\n",
              "\n",
              "    .dataframe tbody tr th {\n",
              "        vertical-align: top;\n",
              "    }\n",
              "\n",
              "    .dataframe thead th {\n",
              "        text-align: right;\n",
              "    }\n",
              "</style>\n",
              "<table border=\"1\" class=\"dataframe\">\n",
              "  <thead>\n",
              "    <tr style=\"text-align: right;\">\n",
              "      <th></th>\n",
              "      <th>Unnamed: 0</th>\n",
              "      <th>Description</th>\n",
              "      <th>Assignment group</th>\n",
              "      <th>cleaned_description</th>\n",
              "      <th>num_wds</th>\n",
              "      <th>avg_word</th>\n",
              "      <th>uniq_wds</th>\n",
              "      <th>token_desc</th>\n",
              "    </tr>\n",
              "  </thead>\n",
              "  <tbody>\n",
              "    <tr>\n",
              "      <th>0</th>\n",
              "      <td>0</td>\n",
              "      <td>-verified user details.(employee# &amp; manager na...</td>\n",
              "      <td>GRP_0</td>\n",
              "      <td>login issue verified user detailsemployee mana...</td>\n",
              "      <td>19</td>\n",
              "      <td>7.157895</td>\n",
              "      <td>16</td>\n",
              "      <td>login issue verified user detailsemployee mana...</td>\n",
              "    </tr>\n",
              "    <tr>\n",
              "      <th>1</th>\n",
              "      <td>1</td>\n",
              "      <td>\\r\\n\\r\\nreceived from: hmjdrvpb.komuaywn@gmail...</td>\n",
              "      <td>GRP_0</td>\n",
              "      <td>outlook hmjdrvpbkomuaywn teammy meetingsskype ...</td>\n",
              "      <td>13</td>\n",
              "      <td>7.538462</td>\n",
              "      <td>12</td>\n",
              "      <td>outlook hmjdrvpbkomuaywn teammy meetingsskype ...</td>\n",
              "    </tr>\n",
              "    <tr>\n",
              "      <th>2</th>\n",
              "      <td>2</td>\n",
              "      <td>\\r\\n\\r\\nreceived from: eylqgodm.ybqkwiam@gmail...</td>\n",
              "      <td>GRP_0</td>\n",
              "      <td>cant log vpn eylqgodmybqkwiami cannot log vpn</td>\n",
              "      <td>7</td>\n",
              "      <td>5.571429</td>\n",
              "      <td>5</td>\n",
              "      <td>cant log vpn eylqgodmybqkwiami cannot log vpn</td>\n",
              "    </tr>\n",
              "    <tr>\n",
              "      <th>3</th>\n",
              "      <td>3</td>\n",
              "      <td>unable to access hr_tool page</td>\n",
              "      <td>GRP_0</td>\n",
              "      <td>unable access hrtool page unable access hrtool...</td>\n",
              "      <td>8</td>\n",
              "      <td>5.500000</td>\n",
              "      <td>4</td>\n",
              "      <td>unable access hrtool page unable access hrtool...</td>\n",
              "    </tr>\n",
              "    <tr>\n",
              "      <th>4</th>\n",
              "      <td>4</td>\n",
              "      <td>skype error</td>\n",
              "      <td>GRP_0</td>\n",
              "      <td>skype error skype error</td>\n",
              "      <td>4</td>\n",
              "      <td>5.000000</td>\n",
              "      <td>2</td>\n",
              "      <td>skype error skype error</td>\n",
              "    </tr>\n",
              "  </tbody>\n",
              "</table>\n",
              "</div>"
            ],
            "text/plain": [
              "   Unnamed: 0                                        Description  \\\n",
              "0           0  -verified user details.(employee# & manager na...   \n",
              "1           1  \\r\\n\\r\\nreceived from: hmjdrvpb.komuaywn@gmail...   \n",
              "2           2  \\r\\n\\r\\nreceived from: eylqgodm.ybqkwiam@gmail...   \n",
              "3           3                      unable to access hr_tool page   \n",
              "4           4                                       skype error    \n",
              "\n",
              "  Assignment group                                cleaned_description  \\\n",
              "0            GRP_0  login issue verified user detailsemployee mana...   \n",
              "1            GRP_0  outlook hmjdrvpbkomuaywn teammy meetingsskype ...   \n",
              "2            GRP_0      cant log vpn eylqgodmybqkwiami cannot log vpn   \n",
              "3            GRP_0  unable access hrtool page unable access hrtool...   \n",
              "4            GRP_0                            skype error skype error   \n",
              "\n",
              "   num_wds  avg_word  uniq_wds  \\\n",
              "0       19  7.157895        16   \n",
              "1       13  7.538462        12   \n",
              "2        7  5.571429         5   \n",
              "3        8  5.500000         4   \n",
              "4        4  5.000000         2   \n",
              "\n",
              "                                          token_desc  \n",
              "0  login issue verified user detailsemployee mana...  \n",
              "1  outlook hmjdrvpbkomuaywn teammy meetingsskype ...  \n",
              "2      cant log vpn eylqgodmybqkwiami cannot log vpn  \n",
              "3  unable access hrtool page unable access hrtool...  \n",
              "4                            skype error skype error  "
            ]
          },
          "metadata": {
            "tags": []
          },
          "execution_count": 3
        }
      ]
    },
    {
      "cell_type": "code",
      "metadata": {
        "colab": {
          "base_uri": "https://localhost:8080/",
          "height": 289
        },
        "id": "-xqpZqQ6wDb1",
        "outputId": "ab05a941-ed1d-4773-fd50-7bde0d16ece0"
      },
      "source": [
        "df_tranlated_inc = pd.read_csv('processed_file_modellling.csv',encoding='utf-8')\n",
        "df_tranlated_inc.head()"
      ],
      "execution_count": null,
      "outputs": [
        {
          "output_type": "execute_result",
          "data": {
            "text/html": [
              "<div>\n",
              "<style scoped>\n",
              "    .dataframe tbody tr th:only-of-type {\n",
              "        vertical-align: middle;\n",
              "    }\n",
              "\n",
              "    .dataframe tbody tr th {\n",
              "        vertical-align: top;\n",
              "    }\n",
              "\n",
              "    .dataframe thead th {\n",
              "        text-align: right;\n",
              "    }\n",
              "</style>\n",
              "<table border=\"1\" class=\"dataframe\">\n",
              "  <thead>\n",
              "    <tr style=\"text-align: right;\">\n",
              "      <th></th>\n",
              "      <th>Assignment group</th>\n",
              "      <th>cleaned_description</th>\n",
              "      <th>num_wds</th>\n",
              "      <th>avg_word</th>\n",
              "      <th>uniq_wds</th>\n",
              "      <th>token_desc</th>\n",
              "      <th>Target</th>\n",
              "    </tr>\n",
              "  </thead>\n",
              "  <tbody>\n",
              "    <tr>\n",
              "      <th>0</th>\n",
              "      <td>GRP_0</td>\n",
              "      <td>login issue verified user detailsemployee mana...</td>\n",
              "      <td>19</td>\n",
              "      <td>7.157895</td>\n",
              "      <td>16</td>\n",
              "      <td>login issue verified user detailsemployee mana...</td>\n",
              "      <td>L1/L2</td>\n",
              "    </tr>\n",
              "    <tr>\n",
              "      <th>1</th>\n",
              "      <td>GRP_0</td>\n",
              "      <td>outlook hmjdrvpbkomuaywn teammy meetingsskype ...</td>\n",
              "      <td>13</td>\n",
              "      <td>7.538462</td>\n",
              "      <td>12</td>\n",
              "      <td>outlook hmjdrvpbkomuaywn teammy meetingsskype ...</td>\n",
              "      <td>L1/L2</td>\n",
              "    </tr>\n",
              "    <tr>\n",
              "      <th>2</th>\n",
              "      <td>GRP_0</td>\n",
              "      <td>cant log vpn eylqgodmybqkwiami cannot log vpn</td>\n",
              "      <td>7</td>\n",
              "      <td>5.571429</td>\n",
              "      <td>5</td>\n",
              "      <td>cant log vpn eylqgodmybqkwiami cannot log vpn</td>\n",
              "      <td>L1/L2</td>\n",
              "    </tr>\n",
              "    <tr>\n",
              "      <th>3</th>\n",
              "      <td>GRP_0</td>\n",
              "      <td>unable access hrtool page unable access hrtool...</td>\n",
              "      <td>8</td>\n",
              "      <td>5.500000</td>\n",
              "      <td>4</td>\n",
              "      <td>unable access hrtool page unable access hrtool...</td>\n",
              "      <td>L1/L2</td>\n",
              "    </tr>\n",
              "    <tr>\n",
              "      <th>4</th>\n",
              "      <td>GRP_0</td>\n",
              "      <td>skype error skype error</td>\n",
              "      <td>4</td>\n",
              "      <td>5.000000</td>\n",
              "      <td>2</td>\n",
              "      <td>skype error skype error</td>\n",
              "      <td>L1/L2</td>\n",
              "    </tr>\n",
              "  </tbody>\n",
              "</table>\n",
              "</div>"
            ],
            "text/plain": [
              "  Assignment group                                cleaned_description  \\\n",
              "0            GRP_0  login issue verified user detailsemployee mana...   \n",
              "1            GRP_0  outlook hmjdrvpbkomuaywn teammy meetingsskype ...   \n",
              "2            GRP_0      cant log vpn eylqgodmybqkwiami cannot log vpn   \n",
              "3            GRP_0  unable access hrtool page unable access hrtool...   \n",
              "4            GRP_0                            skype error skype error   \n",
              "\n",
              "   num_wds  avg_word  uniq_wds  \\\n",
              "0       19  7.157895        16   \n",
              "1       13  7.538462        12   \n",
              "2        7  5.571429         5   \n",
              "3        8  5.500000         4   \n",
              "4        4  5.000000         2   \n",
              "\n",
              "                                          token_desc Target  \n",
              "0  login issue verified user detailsemployee mana...  L1/L2  \n",
              "1  outlook hmjdrvpbkomuaywn teammy meetingsskype ...  L1/L2  \n",
              "2      cant log vpn eylqgodmybqkwiami cannot log vpn  L1/L2  \n",
              "3  unable access hrtool page unable access hrtool...  L1/L2  \n",
              "4                            skype error skype error  L1/L2  "
            ]
          },
          "metadata": {
            "tags": []
          },
          "execution_count": 8
        }
      ]
    },
    {
      "cell_type": "code",
      "metadata": {
        "id": "R8tmN3LjOlMh"
      },
      "source": [
        "df_tranlated_inc.rename(columns={'Assignment group': 'Assignment_group'}, inplace=True)"
      ],
      "execution_count": null,
      "outputs": []
    },
    {
      "cell_type": "markdown",
      "metadata": {
        "id": "YYNvfyrywDb7"
      },
      "source": [
        "## Modeling"
      ]
    },
    {
      "cell_type": "code",
      "metadata": {
        "id": "rVyjoaGpwDb7"
      },
      "source": [
        "from sklearn.linear_model import LogisticRegression \n",
        "from sklearn.naive_bayes import MultinomialNB\n",
        "from sklearn.multiclass import OneVsRestClassifier\n",
        "from sklearn.feature_extraction.text import CountVectorizer\n",
        "\n",
        "from sklearn.model_selection import cross_val_score\n",
        "\n",
        "from sklearn import metrics\n",
        "from sklearn.metrics import classification_report\n",
        "from sklearn.metrics import confusion_matrix\n",
        "from sklearn.model_selection import GridSearchCV\n",
        "from sklearn.pipeline import make_pipeline"
      ],
      "execution_count": null,
      "outputs": []
    },
    {
      "cell_type": "code",
      "metadata": {
        "id": "iPZUUbDpwDb7"
      },
      "source": [
        "df_inc_sample = df_tranlated_inc[df_tranlated_inc['Assignment_group'].map(df_tranlated_inc['Assignment_group'].value_counts()) > 100]\n",
        "x = df_inc_sample['token_desc']\n",
        "y = df_inc_sample['Assignment_group']\n",
        "\n",
        "from sklearn import preprocessing\n",
        "encoder = preprocessing.LabelEncoder()\n",
        "# encoding train labels \n",
        "encoder.fit(y)\n",
        "y = encoder.transform(y)\n",
        "\n",
        "\n",
        "from sklearn.model_selection import train_test_split\n",
        "X_train, X_test, y_train, y_test = train_test_split(x, y, test_size= 0.2, random_state=13,stratify=y)\n",
        "\n",
        "from sklearn.utils.class_weight import compute_class_weight\n",
        "class_weights = compute_class_weight('balanced', np.unique(y_train), y_train)\n",
        "class_weights\n",
        "\n",
        "w_array = np.ones(y_train.shape[0], dtype = 'float')\n",
        "for i, val in enumerate(y_train):\n",
        "    w_array[i] = class_weights[val]\n",
        "    \n",
        "log_cols=[\"Classifier\", \"accuracy\",\"f1_score\"]\n",
        "log = pd.DataFrame(columns=log_cols)"
      ],
      "execution_count": null,
      "outputs": []
    },
    {
      "cell_type": "code",
      "metadata": {
        "id": "nE0VXKlIwDb7"
      },
      "source": [
        "def multiclass_logloss(actual, predicted, eps=1e-15):\n",
        "    \"\"\"Multi class version of Logarithmic Loss metric.\n",
        "    :param actual: Array containing the actual target classes\n",
        "    :param predicted: Matrix with class predictions, one probability per class\n",
        "    \"\"\"\n",
        "    # Convert 'actual' to a binary array if it's not already:\n",
        "    if len(actual.shape) == 1:\n",
        "        actual2 = np.zeros((actual.shape[0], predicted.shape[1]))\n",
        "        for i, val in enumerate(actual):\n",
        "            actual2[i, val] = 1\n",
        "        actual = actual2\n",
        "\n",
        "    clip = np.clip(predicted, eps, 1 - eps)\n",
        "    rows = actual.shape[0]\n",
        "    vsota = np.sum(actual * np.log(clip))\n",
        "    return -1.0 / rows * vsota"
      ],
      "execution_count": null,
      "outputs": []
    },
    {
      "cell_type": "markdown",
      "metadata": {
        "id": "95T5JMz9wDb7"
      },
      "source": [
        "### Naive Bayes classifier for multinomial models"
      ]
    },
    {
      "cell_type": "code",
      "metadata": {
        "colab": {
          "base_uri": "https://localhost:8080/"
        },
        "id": "UI16_78EwDb7",
        "outputId": "70d93644-0b96-4e56-bbf3-55af8b1b8079"
      },
      "source": [
        "from sklearn.naive_bayes import MultinomialNB\n",
        "from sklearn.pipeline import Pipeline\n",
        "from sklearn.feature_extraction.text import TfidfTransformer\n",
        "\n",
        "nb = Pipeline([('vect', CountVectorizer()),\n",
        "               ('tfidf', TfidfTransformer()),\n",
        "               ('clf', MultinomialNB()),\n",
        "              ])\n",
        "nb.fit(X_train, y_train)"
      ],
      "execution_count": null,
      "outputs": [
        {
          "output_type": "execute_result",
          "data": {
            "text/plain": [
              "Pipeline(memory=None,\n",
              "         steps=[('vect',\n",
              "                 CountVectorizer(analyzer='word', binary=False,\n",
              "                                 decode_error='strict',\n",
              "                                 dtype=<class 'numpy.int64'>, encoding='utf-8',\n",
              "                                 input='content', lowercase=True, max_df=1.0,\n",
              "                                 max_features=None, min_df=1,\n",
              "                                 ngram_range=(1, 1), preprocessor=None,\n",
              "                                 stop_words=None, strip_accents=None,\n",
              "                                 token_pattern='(?u)\\\\b\\\\w\\\\w+\\\\b',\n",
              "                                 tokenizer=None, vocabulary=None)),\n",
              "                ('tfidf',\n",
              "                 TfidfTransformer(norm='l2', smooth_idf=True,\n",
              "                                  sublinear_tf=False, use_idf=True)),\n",
              "                ('clf',\n",
              "                 MultinomialNB(alpha=1.0, class_prior=None, fit_prior=True))],\n",
              "         verbose=False)"
            ]
          },
          "metadata": {
            "tags": []
          },
          "execution_count": 14
        }
      ]
    },
    {
      "cell_type": "code",
      "metadata": {
        "colab": {
          "base_uri": "https://localhost:8080/"
        },
        "id": "-c59-4qiwDcd",
        "outputId": "90f0a70d-9d0a-46ee-b5eb-da00d65ea4e4"
      },
      "source": [
        "from sklearn.metrics import accuracy_score, confusion_matrix, f1_score\n",
        "from sklearn.metrics import classification_report\n",
        "y_pred = nb.predict(X_test)\n",
        "\n",
        "predictions = nb.predict_proba(X_test)\n",
        "\n",
        "print('accuracy %s' % accuracy_score(y_pred, y_test)) \n",
        "print('f1 score %s' % f1_score(y_pred, y_test,average='weighted')) \n",
        "print (\"logloss: %0.3f \" % multiclass_logloss(y_test,predictions))\n",
        "\n",
        "print(classification_report(y_test, y_pred))\n",
        "\n",
        "print(confusion_matrix(y_test,y_pred))\n",
        "\n",
        "log_entry = pd.DataFrame([[\"MultinomialNB\",accuracy_score(y_pred, y_test),f1_score(y_pred, y_test,average='weighted')]], columns=log_cols)\n",
        "log = log.append(log_entry)"
      ],
      "execution_count": null,
      "outputs": [
        {
          "output_type": "stream",
          "text": [
            "accuracy 0.6770981507823614\n",
            "f1 score 0.7867105775905945\n",
            "logloss: 1.318 \n",
            "              precision    recall  f1-score   support\n",
            "\n",
            "           0       0.70      1.00      0.82       795\n",
            "           1       0.00      0.00      0.00        28\n",
            "           2       0.75      0.17      0.28        52\n",
            "           3       0.00      0.00      0.00        29\n",
            "           4       0.00      0.00      0.00        24\n",
            "           5       0.00      0.00      0.00        43\n",
            "           6       0.71      0.10      0.18        48\n",
            "           7       0.92      0.38      0.54        58\n",
            "           8       0.00      0.00      0.00        23\n",
            "           9       0.00      0.00      0.00        40\n",
            "          10       0.00      0.00      0.00        21\n",
            "          11       0.00      0.00      0.00        26\n",
            "          12       0.00      0.00      0.00        36\n",
            "          13       0.54      0.92      0.68       132\n",
            "          14       0.00      0.00      0.00        51\n",
            "\n",
            "    accuracy                           0.68      1406\n",
            "   macro avg       0.24      0.17      0.17      1406\n",
            "weighted avg       0.54      0.68      0.57      1406\n",
            "\n",
            "[[795   0   0   0   0   0   0   0   0   0   0   0   0   0   0]\n",
            " [ 17   0   0   0   0   0   0   0   0   0   0   0   0  11   0]\n",
            " [ 36   0   9   0   0   0   1   0   0   0   0   0   0   6   0]\n",
            " [ 28   0   0   0   0   0   0   0   0   0   0   0   0   1   0]\n",
            " [ 21   0   2   0   0   0   0   0   0   0   0   0   0   1   0]\n",
            " [ 43   0   0   0   0   0   0   0   0   0   0   0   0   0   0]\n",
            " [ 43   0   0   0   0   0   5   0   0   0   0   0   0   0   0]\n",
            " [ 36   0   0   0   0   0   0  22   0   0   0   0   0   0   0]\n",
            " [ 23   0   0   0   0   0   0   0   0   0   0   0   0   0   0]\n",
            " [ 39   0   0   0   0   0   1   0   0   0   0   0   0   0   0]\n",
            " [ 19   0   0   0   0   0   0   2   0   0   0   0   0   0   0]\n",
            " [  3   0   0   0   0   0   0   0   0   0   0   0   0  23   0]\n",
            " [ 10   0   0   0   0   0   0   0   0   0   0   0   0  26   0]\n",
            " [ 11   0   0   0   0   0   0   0   0   0   0   0   0 121   0]\n",
            " [ 14   0   1   0   0   0   0   0   0   0   0   0   0  36   0]]\n"
          ],
          "name": "stdout"
        }
      ]
    },
    {
      "cell_type": "markdown",
      "metadata": {
        "id": "WqhVoIhfwDcd"
      },
      "source": [
        "### Linear support vector machine\n"
      ]
    },
    {
      "cell_type": "code",
      "metadata": {
        "colab": {
          "base_uri": "https://localhost:8080/"
        },
        "id": "AkVSkGyawDcd",
        "outputId": "8d2b07ac-3c61-4737-e2ad-093f399e5be9"
      },
      "source": [
        "from sklearn.svm import LinearSVC\n",
        "\n",
        "svc = Pipeline([('vect', CountVectorizer()),\n",
        "                ('tfidf', TfidfTransformer()),\n",
        "                ('clf', OneVsRestClassifier(LinearSVC(loss='hinge',random_state=42,class_weight='balanced'))),\n",
        "               ])\n",
        "svc.fit(X_train, y_train)"
      ],
      "execution_count": null,
      "outputs": [
        {
          "output_type": "execute_result",
          "data": {
            "text/plain": [
              "Pipeline(memory=None,\n",
              "         steps=[('vect',\n",
              "                 CountVectorizer(analyzer='word', binary=False,\n",
              "                                 decode_error='strict',\n",
              "                                 dtype=<class 'numpy.int64'>, encoding='utf-8',\n",
              "                                 input='content', lowercase=True, max_df=1.0,\n",
              "                                 max_features=None, min_df=1,\n",
              "                                 ngram_range=(1, 1), preprocessor=None,\n",
              "                                 stop_words=None, strip_accents=None,\n",
              "                                 token_pattern='(?u)\\\\b\\\\w\\\\w+\\\\b',\n",
              "                                 tokenizer=None, vocabulary=None)),\n",
              "                ('tfidf',\n",
              "                 TfidfTransformer(norm='l2', smooth_idf=True,\n",
              "                                  sublinear_tf=False, use_idf=True)),\n",
              "                ('clf',\n",
              "                 OneVsRestClassifier(estimator=LinearSVC(C=1.0,\n",
              "                                                         class_weight='balanced',\n",
              "                                                         dual=True,\n",
              "                                                         fit_intercept=True,\n",
              "                                                         intercept_scaling=1,\n",
              "                                                         loss='hinge',\n",
              "                                                         max_iter=1000,\n",
              "                                                         multi_class='ovr',\n",
              "                                                         penalty='l2',\n",
              "                                                         random_state=42,\n",
              "                                                         tol=0.0001,\n",
              "                                                         verbose=0),\n",
              "                                     n_jobs=None))],\n",
              "         verbose=False)"
            ]
          },
          "metadata": {
            "tags": []
          },
          "execution_count": 16
        }
      ]
    },
    {
      "cell_type": "code",
      "metadata": {
        "colab": {
          "base_uri": "https://localhost:8080/"
        },
        "id": "mmFqnlSzwDce",
        "outputId": "919f1f37-28e8-4f34-ba07-bcdaf5170faf"
      },
      "source": [
        "y_pred = svc.predict(X_test)\n",
        "print('accuracy %s' % accuracy_score(y_pred, y_test))\n",
        "print('f1 score %s' % f1_score(y_pred, y_test,average='weighted')) \n",
        "#print (focal_loss(alpha=.25, gamma=2))\n",
        "\n",
        "print(classification_report(y_test, y_pred))\n",
        "\n",
        "print(confusion_matrix(y_test,y_pred))\n",
        "\n",
        "log_entry = pd.DataFrame([[\"LinearSVC\",accuracy_score(y_pred, y_test),f1_score(y_pred, y_test,average='weighted')]], columns=log_cols)\n",
        "log = log.append(log_entry)"
      ],
      "execution_count": null,
      "outputs": [
        {
          "output_type": "stream",
          "text": [
            "accuracy 0.7240398293029872\n",
            "f1 score 0.7138013620598656\n",
            "              precision    recall  f1-score   support\n",
            "\n",
            "           0       0.89      0.90      0.90       795\n",
            "           1       0.55      0.39      0.46        28\n",
            "           2       0.58      0.58      0.58        52\n",
            "           3       0.74      0.59      0.65        29\n",
            "           4       0.16      0.29      0.20        24\n",
            "           5       0.39      0.44      0.41        43\n",
            "           6       0.61      0.65      0.63        48\n",
            "           7       0.89      0.95      0.92        58\n",
            "           8       0.68      0.74      0.71        23\n",
            "           9       0.53      0.45      0.49        40\n",
            "          10       0.50      0.29      0.36        21\n",
            "          11       0.11      0.58      0.19        26\n",
            "          12       0.69      0.25      0.37        36\n",
            "          13       0.92      0.41      0.57       132\n",
            "          14       0.65      0.22      0.32        51\n",
            "\n",
            "    accuracy                           0.72      1406\n",
            "   macro avg       0.59      0.51      0.52      1406\n",
            "weighted avg       0.78      0.72      0.73      1406\n",
            "\n",
            "[[718   5  14   2   4  17  13   1   5  10   2   1   0   0   3]\n",
            " [  4  11   0   1   0   0   0   0   0   1   0  10   0   1   0]\n",
            " [  5   0  30   0   3   2   2   1   0   3   1   4   0   1   0]\n",
            " [  6   2   0  17   0   0   0   0   0   0   1   1   2   0   0]\n",
            " [ 12   0   3   0   7   0   1   0   0   0   0   1   0   0   0]\n",
            " [ 20   0   0   0   0  19   1   0   1   2   0   0   0   0   0]\n",
            " [ 16   0   1   0   0   0  31   0   0   0   0   0   0   0   0]\n",
            " [  1   0   0   0   0   0   0  55   0   0   2   0   0   0   0]\n",
            " [  2   1   0   0   0   1   1   1  17   0   0   0   0   0   0]\n",
            " [ 11   0   1   0   0   8   2   0   0  18   0   0   0   0   0]\n",
            " [  7   0   1   0   0   1   0   4   1   0   6   1   0   0   0]\n",
            " [  1   0   0   0   5   0   0   0   0   0   0  15   1   3   1]\n",
            " [  1   0   0   2   6   0   0   0   0   0   0  17   9   0   1]\n",
            " [  2   0   1   0  10   0   0   0   1   0   0  63   0  54   1]\n",
            " [  2   1   1   1  10   1   0   0   0   0   0  23   1   0  11]]\n"
          ],
          "name": "stdout"
        }
      ]
    },
    {
      "cell_type": "code",
      "metadata": {
        "colab": {
          "base_uri": "https://localhost:8080/"
        },
        "id": "54cb7qEkwDcg",
        "outputId": "7b10e77e-11b9-44b4-da94-b876428f321a"
      },
      "source": [
        "from sklearn.linear_model import SGDClassifier\n",
        "\n",
        "sgd = Pipeline([('vect', CountVectorizer()),\n",
        "                ('tfidf', TfidfTransformer()),\n",
        "                ('clf', SGDClassifier(loss='hinge', penalty='l2',alpha=1e-3, random_state=42, max_iter=100, tol=None,class_weight='balanced')),\n",
        "               ])\n",
        "sgd.fit(X_train, y_train)"
      ],
      "execution_count": null,
      "outputs": [
        {
          "output_type": "execute_result",
          "data": {
            "text/plain": [
              "Pipeline(memory=None,\n",
              "         steps=[('vect',\n",
              "                 CountVectorizer(analyzer='word', binary=False,\n",
              "                                 decode_error='strict',\n",
              "                                 dtype=<class 'numpy.int64'>, encoding='utf-8',\n",
              "                                 input='content', lowercase=True, max_df=1.0,\n",
              "                                 max_features=None, min_df=1,\n",
              "                                 ngram_range=(1, 1), preprocessor=None,\n",
              "                                 stop_words=None, strip_accents=None,\n",
              "                                 token_pattern='(?u)\\\\b\\\\w\\\\w+\\\\b',\n",
              "                                 tokenizer=None, vocabulary=Non...\n",
              "                 SGDClassifier(alpha=0.001, average=False,\n",
              "                               class_weight='balanced', early_stopping=False,\n",
              "                               epsilon=0.1, eta0=0.0, fit_intercept=True,\n",
              "                               l1_ratio=0.15, learning_rate='optimal',\n",
              "                               loss='hinge', max_iter=100, n_iter_no_change=5,\n",
              "                               n_jobs=None, penalty='l2', power_t=0.5,\n",
              "                               random_state=42, shuffle=True, tol=None,\n",
              "                               validation_fraction=0.1, verbose=0,\n",
              "                               warm_start=False))],\n",
              "         verbose=False)"
            ]
          },
          "metadata": {
            "tags": []
          },
          "execution_count": 18
        }
      ]
    },
    {
      "cell_type": "code",
      "metadata": {
        "colab": {
          "base_uri": "https://localhost:8080/"
        },
        "id": "B_FH5xzqwDci",
        "outputId": "6b646ea1-02e9-45f7-9e31-e95cae6fa11a"
      },
      "source": [
        "y_pred = sgd.predict(X_test)\n",
        "print('accuracy %s' % accuracy_score(y_pred, y_test))\n",
        "print('f1 score %s' % f1_score(y_pred, y_test,average='weighted')) \n",
        "\n",
        "\n",
        "print(classification_report(y_test, y_pred))\n",
        "\n",
        "print(confusion_matrix(y_test,y_pred))\n",
        "log_entry = pd.DataFrame([[\"SGDClassifier\",accuracy_score(y_pred, y_test),f1_score(y_pred, y_test,average='weighted')]], columns=log_cols)\n",
        "log = log.append(log_entry)"
      ],
      "execution_count": null,
      "outputs": [
        {
          "output_type": "stream",
          "text": [
            "accuracy 0.6650071123755334\n",
            "f1 score 0.636966130011442\n",
            "              precision    recall  f1-score   support\n",
            "\n",
            "           0       0.93      0.78      0.85       795\n",
            "           1       0.39      0.39      0.39        28\n",
            "           2       0.50      0.60      0.54        52\n",
            "           3       0.35      0.66      0.46        29\n",
            "           4       0.29      0.46      0.35        24\n",
            "           5       0.44      0.53      0.48        43\n",
            "           6       0.48      0.60      0.53        48\n",
            "           7       0.76      0.88      0.82        58\n",
            "           8       0.42      0.70      0.52        23\n",
            "           9       0.40      0.50      0.44        40\n",
            "          10       0.37      0.71      0.48        21\n",
            "          11       0.13      0.88      0.23        26\n",
            "          12       0.56      0.25      0.35        36\n",
            "          13       0.96      0.39      0.56       132\n",
            "          14       0.73      0.16      0.26        51\n",
            "\n",
            "    accuracy                           0.67      1406\n",
            "   macro avg       0.51      0.57      0.49      1406\n",
            "weighted avg       0.79      0.67      0.69      1406\n",
            "\n",
            "[[617  12  23  17  19  18  23  11  14  19  13   4   3   0   2]\n",
            " [  2  11   0   2   0   0   0   0   1   0   1  11   0   0   0]\n",
            " [  3   0  31   0   3   1   2   2   0   2   3   4   0   1   0]\n",
            " [  0   3   0  19   1   0   0   0   0   0   2   1   2   0   1]\n",
            " [  3   0   2   4  11   0   1   0   0   1   0   1   1   0   0]\n",
            " [  9   0   1   0   0  23   3   0   1   5   1   0   0   0   0]\n",
            " [ 18   0   1   0   0   0  29   0   0   0   0   0   0   0   0]\n",
            " [  0   0   0   0   0   0   0  51   1   1   5   0   0   0   0]\n",
            " [  1   0   0   3   0   1   1   1  16   0   0   0   0   0   0]\n",
            " [  5   1   0   1   0   8   2   1   1  20   1   0   0   0   0]\n",
            " [  0   0   1   1   0   1   0   1   2   0  15   0   0   0   0]\n",
            " [  0   0   0   0   1   0   0   0   0   1   0  23   0   1   0]\n",
            " [  0   0   0   3   0   0   0   0   0   0   0  24   9   0   0]\n",
            " [  1   0   2   0   1   0   0   0   1   0   0  74   1  52   0]\n",
            " [  1   1   1   4   2   0   0   0   1   1   0  32   0   0   8]]\n"
          ],
          "name": "stdout"
        }
      ]
    },
    {
      "cell_type": "markdown",
      "metadata": {
        "id": "q84t6S9awDci"
      },
      "source": [
        "### Logistic regression"
      ]
    },
    {
      "cell_type": "code",
      "metadata": {
        "colab": {
          "base_uri": "https://localhost:8080/"
        },
        "id": "XVXc6pCuwDci",
        "outputId": "8dbe8839-5ce7-427b-ef80-3565f3d5f66a"
      },
      "source": [
        "from sklearn.linear_model import LogisticRegression\n",
        "\n",
        "logreg_1 = Pipeline([('vect', CountVectorizer()),\n",
        "                ('tfidf', TfidfTransformer()),\n",
        "                ('clf', LogisticRegression(n_jobs=1, C=1e5,class_weight='balanced')),\n",
        "               ])\n",
        "logreg_1.fit(X_train, y_train)"
      ],
      "execution_count": null,
      "outputs": [
        {
          "output_type": "execute_result",
          "data": {
            "text/plain": [
              "Pipeline(memory=None,\n",
              "         steps=[('vect',\n",
              "                 CountVectorizer(analyzer='word', binary=False,\n",
              "                                 decode_error='strict',\n",
              "                                 dtype=<class 'numpy.int64'>, encoding='utf-8',\n",
              "                                 input='content', lowercase=True, max_df=1.0,\n",
              "                                 max_features=None, min_df=1,\n",
              "                                 ngram_range=(1, 1), preprocessor=None,\n",
              "                                 stop_words=None, strip_accents=None,\n",
              "                                 token_pattern='(?u)\\\\b\\\\w\\\\w+\\\\b',\n",
              "                                 tokenizer=None, vocabulary=Non...\n",
              "                ('tfidf',\n",
              "                 TfidfTransformer(norm='l2', smooth_idf=True,\n",
              "                                  sublinear_tf=False, use_idf=True)),\n",
              "                ('clf',\n",
              "                 LogisticRegression(C=100000.0, class_weight='balanced',\n",
              "                                    dual=False, fit_intercept=True,\n",
              "                                    intercept_scaling=1, l1_ratio=None,\n",
              "                                    max_iter=100, multi_class='auto', n_jobs=1,\n",
              "                                    penalty='l2', random_state=None,\n",
              "                                    solver='lbfgs', tol=0.0001, verbose=0,\n",
              "                                    warm_start=False))],\n",
              "         verbose=False)"
            ]
          },
          "metadata": {
            "tags": []
          },
          "execution_count": 20
        }
      ]
    },
    {
      "cell_type": "code",
      "metadata": {
        "colab": {
          "base_uri": "https://localhost:8080/"
        },
        "id": "x1lNKMdLwDcj",
        "outputId": "2ff824cc-945f-43cf-f5e6-22cae5bc2c91"
      },
      "source": [
        "y_pred = logreg_1.predict(X_test)\n",
        "predictions = logreg_1.predict_proba(X_test)\n",
        "\n",
        "print('accuracy %s' % accuracy_score(y_pred, y_test))\n",
        "print('f1 score %s' % f1_score(y_pred, y_test,average='weighted')) \n",
        "print (\"logloss: %0.3f \" % multiclass_logloss(y_test,predictions))\n",
        "\n",
        "print(classification_report(y_test, y_pred))\n",
        "\n",
        "print(confusion_matrix(y_test,y_pred))\n",
        "log_entry = pd.DataFrame([[\"LogisticRegression\",accuracy_score(y_pred, y_test),f1_score(y_pred, y_test,average='weighted')]], columns=log_cols)\n",
        "log = log.append(log_entry)"
      ],
      "execution_count": null,
      "outputs": [
        {
          "output_type": "stream",
          "text": [
            "accuracy 0.7091038406827881\n",
            "f1 score 0.700940864639051\n",
            "logloss: 1.208 \n",
            "              precision    recall  f1-score   support\n",
            "\n",
            "           0       0.86      0.88      0.87       795\n",
            "           1       0.67      0.29      0.40        28\n",
            "           2       0.58      0.58      0.58        52\n",
            "           3       0.83      0.52      0.64        29\n",
            "           4       0.35      0.29      0.32        24\n",
            "           5       0.33      0.47      0.38        43\n",
            "           6       0.57      0.65      0.61        48\n",
            "           7       0.91      0.91      0.91        58\n",
            "           8       0.81      0.74      0.77        23\n",
            "           9       0.45      0.42      0.44        40\n",
            "          10       0.75      0.43      0.55        21\n",
            "          11       0.12      0.65      0.21        26\n",
            "          12       0.39      0.42      0.41        36\n",
            "          13       0.89      0.37      0.52       132\n",
            "          14       0.79      0.22      0.34        51\n",
            "\n",
            "    accuracy                           0.71      1406\n",
            "   macro avg       0.62      0.52      0.53      1406\n",
            "weighted avg       0.77      0.71      0.72      1406\n",
            "\n",
            "[[698   2  11   0   8  33  19   1   4  16   1   1   0   0   1]\n",
            " [  9   8   0   0   0   0   0   0   0   0   0  10   0   1   0]\n",
            " [  6   0  30   0   3   1   1   1   0   3   1   4   0   2   0]\n",
            " [ 10   2   0  15   1   0   0   0   0   0   0   1   0   0   0]\n",
            " [ 11   0   4   0   7   0   1   0   0   0   0   1   0   0   0]\n",
            " [ 20   0   0   0   0  20   1   0   0   2   0   0   0   0   0]\n",
            " [ 16   0   1   0   0   0  31   0   0   0   0   0   0   0   0]\n",
            " [  4   0   0   0   0   0   0  53   0   0   1   0   0   0   0]\n",
            " [  5   0   0   0   0   0   0   1  17   0   0   0   0   0   0]\n",
            " [ 17   0   0   0   0   5   1   0   0  17   0   0   0   0   0]\n",
            " [  8   0   1   0   0   1   0   2   0   0   9   0   0   0   0]\n",
            " [  0   0   0   0   0   0   0   0   0   0   0  17   5   3   1]\n",
            " [  1   0   0   2   0   0   0   0   0   0   0  17  15   0   1]\n",
            " [  5   0   4   0   1   0   0   0   0   0   0  64   9  49   0]\n",
            " [  5   0   1   1   0   1   0   0   0   0   0  23   9   0  11]]\n"
          ],
          "name": "stdout"
        }
      ]
    },
    {
      "cell_type": "markdown",
      "metadata": {
        "id": "wniTy76PwDcj"
      },
      "source": [
        "### Xgboost"
      ]
    },
    {
      "cell_type": "code",
      "metadata": {
        "colab": {
          "base_uri": "https://localhost:8080/"
        },
        "id": "egXHbc8ywDcj",
        "outputId": "45aea5fd-dcb3-4829-a908-ca86631ec1d2"
      },
      "source": [
        "import xgboost as xgb\n",
        "\n",
        "xgboost = Pipeline([('vect', CountVectorizer()),\n",
        "                ('tfidf', TfidfTransformer()),\n",
        "                ('clf', xgb.XGBClassifier(max_depth=7, n_estimators=200, colsample_bytree=0.8, \n",
        "                        subsample=0.8, nthread=10, learning_rate=0.1)),\n",
        "               ])\n",
        "xgboost.fit(X_train, y_train,clf__sample_weight=w_array)\n"
      ],
      "execution_count": null,
      "outputs": [
        {
          "output_type": "execute_result",
          "data": {
            "text/plain": [
              "Pipeline(memory=None,\n",
              "         steps=[('vect',\n",
              "                 CountVectorizer(analyzer='word', binary=False,\n",
              "                                 decode_error='strict',\n",
              "                                 dtype=<class 'numpy.int64'>, encoding='utf-8',\n",
              "                                 input='content', lowercase=True, max_df=1.0,\n",
              "                                 max_features=None, min_df=1,\n",
              "                                 ngram_range=(1, 1), preprocessor=None,\n",
              "                                 stop_words=None, strip_accents=None,\n",
              "                                 token_pattern='(?u)\\\\b\\\\w\\\\w+\\\\b',\n",
              "                                 tokenizer=None, vocabulary=Non...\n",
              "                 XGBClassifier(base_score=0.5, booster='gbtree',\n",
              "                               colsample_bylevel=1, colsample_bynode=1,\n",
              "                               colsample_bytree=0.8, gamma=0, learning_rate=0.1,\n",
              "                               max_delta_step=0, max_depth=7,\n",
              "                               min_child_weight=1, missing=None,\n",
              "                               n_estimators=200, n_jobs=1, nthread=10,\n",
              "                               objective='multi:softprob', random_state=0,\n",
              "                               reg_alpha=0, reg_lambda=1, scale_pos_weight=1,\n",
              "                               seed=None, silent=None, subsample=0.8,\n",
              "                               verbosity=1))],\n",
              "         verbose=False)"
            ]
          },
          "metadata": {
            "tags": []
          },
          "execution_count": 22
        }
      ]
    },
    {
      "cell_type": "code",
      "metadata": {
        "colab": {
          "base_uri": "https://localhost:8080/"
        },
        "id": "EYmXyYxIwDc-",
        "outputId": "39ba9b14-6a19-451c-a5c8-58f7e45918ec"
      },
      "source": [
        "y_pred = xgboost.predict(X_test)\n",
        "\n",
        "print('accuracy %s' % accuracy_score(y_pred, y_test))\n",
        "print('f1 score %s' % f1_score(y_pred, y_test,average='weighted')) \n",
        "print(classification_report(y_test, y_pred))\n",
        "\n",
        "print(confusion_matrix(y_test,y_pred))\n",
        "\n",
        "log_entry = pd.DataFrame([[\"Xgboost\",accuracy_score(y_pred, y_test),f1_score(y_pred, y_test,average='weighted')]], columns=log_cols)\n",
        "log = log.append(log_entry)"
      ],
      "execution_count": null,
      "outputs": [
        {
          "output_type": "stream",
          "text": [
            "accuracy 0.6728307254623044\n",
            "f1 score 0.6515189733801707\n",
            "              precision    recall  f1-score   support\n",
            "\n",
            "           0       0.91      0.81      0.86       795\n",
            "           1       0.53      0.29      0.37        28\n",
            "           2       0.51      0.62      0.56        52\n",
            "           3       0.44      0.41      0.43        29\n",
            "           4       0.35      0.29      0.32        24\n",
            "           5       0.23      0.37      0.28        43\n",
            "           6       0.49      0.65      0.56        48\n",
            "           7       0.79      0.95      0.86        58\n",
            "           8       0.58      0.65      0.61        23\n",
            "           9       0.31      0.47      0.37        40\n",
            "          10       0.45      0.62      0.52        21\n",
            "          11       0.13      0.69      0.22        26\n",
            "          12       0.39      0.44      0.42        36\n",
            "          13       0.88      0.37      0.52       132\n",
            "          14       0.79      0.22      0.34        51\n",
            "\n",
            "    accuracy                           0.67      1406\n",
            "   macro avg       0.52      0.52      0.48      1406\n",
            "weighted avg       0.76      0.67      0.69      1406\n",
            "\n",
            "[[644   2  16   7  10  40  24   8   8  25  10   1   0   0   0]\n",
            " [  1   8   1   3   0   0   1   0   1   1   1  11   0   0   0]\n",
            " [  4   0  32   0   1   1   1   2   1   1   2   4   0   3   0]\n",
            " [  4   5   0  12   1   0   1   1   0   1   1   1   2   0   0]\n",
            " [  7   0   3   1   7   1   1   0   0   1   0   1   0   1   1]\n",
            " [ 13   0   1   0   0  16   1   0   0  11   1   0   0   0   0]\n",
            " [ 16   0   1   0   0   0  31   0   0   0   0   0   0   0   0]\n",
            " [  1   0   1   0   0   0   0  55   0   1   0   0   0   0   0]\n",
            " [  3   0   0   0   0   1   1   2  15   0   1   0   0   0   0]\n",
            " [  8   0   1   0   0  11   1   0   0  19   0   0   0   0   0]\n",
            " [  4   0   1   0   0   1   0   2   0   0  13   0   0   0   0]\n",
            " [  0   0   0   0   0   0   0   0   0   0   0  18   5   2   1]\n",
            " [  0   0   0   2   0   0   0   0   0   0   0  17  16   1   0]\n",
            " [  2   0   5   0   1   0   0   0   0   0   0  65   9  49   1]\n",
            " [  1   0   1   2   0   0   1   0   1   2   0  23   9   0  11]]\n"
          ],
          "name": "stdout"
        }
      ]
    },
    {
      "cell_type": "markdown",
      "metadata": {
        "id": "8LGVi2DawDc_"
      },
      "source": [
        "## Hyperparameter Tune GridSearchCV"
      ]
    },
    {
      "cell_type": "markdown",
      "metadata": {
        "id": "FwG4K11DwDc_"
      },
      "source": [
        "### LinearSVC"
      ]
    },
    {
      "cell_type": "code",
      "metadata": {
        "colab": {
          "base_uri": "https://localhost:8080/"
        },
        "id": "WiWmVdSgwDc_",
        "outputId": "d2282a18-b679-42b7-88f0-f5e711f6bfcf"
      },
      "source": [
        "from sklearn.model_selection import GridSearchCV\n",
        "\n",
        "params = {\"clf__estimator__C\": [0.1, 1, 10, 100, 1000],  \n",
        "              'clf__estimator__loss': ['hinge','squared_hinge'],}  \n",
        "  \n",
        "clf_svc = GridSearchCV(svc, param_grid=params, refit = True, verbose = 1,scoring='f1_weighted') \n",
        "# fitting the model for grid search \n",
        "clf_svc.fit(X_train, y_train)\n",
        "\n",
        "print(\"Best Score: \", clf_svc.best_score_)\n",
        "print(\"Best Params: \", clf_svc.best_params_)"
      ],
      "execution_count": null,
      "outputs": [
        {
          "output_type": "stream",
          "text": [
            "Fitting 5 folds for each of 10 candidates, totalling 50 fits\n"
          ],
          "name": "stdout"
        },
        {
          "output_type": "stream",
          "text": [
            "[Parallel(n_jobs=1)]: Using backend SequentialBackend with 1 concurrent workers.\n",
            "[Parallel(n_jobs=1)]: Done  50 out of  50 | elapsed:   57.1s finished\n"
          ],
          "name": "stderr"
        },
        {
          "output_type": "stream",
          "text": [
            "Best Score:  0.7310544458991458\n",
            "Best Params:  {'clf__estimator__C': 1, 'clf__estimator__loss': 'squared_hinge'}\n"
          ],
          "name": "stdout"
        }
      ]
    },
    {
      "cell_type": "code",
      "metadata": {
        "colab": {
          "base_uri": "https://localhost:8080/"
        },
        "id": "49_sUiQwwDc_",
        "outputId": "626d1d3c-63b0-42ae-d8e7-30cef901fdc1"
      },
      "source": [
        "y_pred = clf_svc.best_estimator_.predict(X_test)\n",
        "#predictions = clf_svc.best_estimator_.predict_proba(X_test)\n",
        "\n",
        "print('accuracy %s' % accuracy_score(y_pred, y_test))\n",
        "print('f1 score %s' % f1_score(y_pred, y_test,average='weighted')) \n",
        "#print (\"logloss: %0.3f \" % multiclass_logloss(y_test,predictions))\n",
        "\n",
        "print(classification_report(y_test, y_pred))\n",
        "\n",
        "print(confusion_matrix(y_test,y_pred))\n",
        "\n",
        "log_entry = pd.DataFrame([[\"LinearSVC_best_estimator_gcv\",accuracy_score(y_pred, y_test),f1_score(y_pred, y_test,average='weighted')]], columns=log_cols)\n",
        "log = log.append(log_entry)"
      ],
      "execution_count": null,
      "outputs": [
        {
          "output_type": "stream",
          "text": [
            "accuracy 0.7638691322901849\n",
            "f1 score 0.7756685615427279\n",
            "              precision    recall  f1-score   support\n",
            "\n",
            "           0       0.89      0.90      0.89       795\n",
            "           1       0.58      0.39      0.47        28\n",
            "           2       0.60      0.62      0.61        52\n",
            "           3       0.71      0.59      0.64        29\n",
            "           4       0.47      0.29      0.36        24\n",
            "           5       0.38      0.47      0.42        43\n",
            "           6       0.60      0.67      0.63        48\n",
            "           7       0.90      0.93      0.92        58\n",
            "           8       0.76      0.70      0.73        23\n",
            "           9       0.46      0.42      0.44        40\n",
            "          10       0.58      0.33      0.42        21\n",
            "          11       0.67      0.08      0.14        26\n",
            "          12       0.37      0.42      0.39        36\n",
            "          13       0.60      0.86      0.71       132\n",
            "          14       0.75      0.24      0.36        51\n",
            "\n",
            "    accuracy                           0.76      1406\n",
            "   macro avg       0.62      0.53      0.54      1406\n",
            "weighted avg       0.77      0.76      0.75      1406\n",
            "\n",
            "[[718   4  11   2   4  21  16   1   4  10   2   1   0   0   1]\n",
            " [  4  11   0   1   0   0   0   0   0   1   0   0   0  11   0]\n",
            " [  5   0  32   0   3   1   1   1   0   4   0   0   0   5   0]\n",
            " [  6   2   0  17   0   0   0   0   0   0   1   0   2   1   0]\n",
            " [ 12   0   3   0   7   0   1   0   0   0   0   0   0   1   0]\n",
            " [ 20   0   0   0   0  20   0   0   0   3   0   0   0   0   0]\n",
            " [ 15   0   1   0   0   0  32   0   0   0   0   0   0   0   0]\n",
            " [  2   0   0   0   0   0   0  54   0   0   2   0   0   0   0]\n",
            " [  3   1   0   0   0   1   1   1  16   0   0   0   0   0   0]\n",
            " [ 12   0   1   1   0   7   2   0   0  17   0   0   0   0   0]\n",
            " [  7   0   1   0   0   1   0   3   0   1   7   0   0   1   0]\n",
            " [  1   0   0   0   0   0   0   0   0   1   0   2   5  16   1]\n",
            " [  1   0   0   2   0   0   0   0   0   0   0   0  15  17   1]\n",
            " [  3   0   3   0   1   0   0   0   1   0   0   0   9 114   1]\n",
            " [  2   1   1   1   0   1   0   0   0   0   0   0  10  23  12]]\n"
          ],
          "name": "stdout"
        }
      ]
    },
    {
      "cell_type": "markdown",
      "metadata": {
        "id": "IhrK_rE_wDc_"
      },
      "source": [
        "### SGD Classifier"
      ]
    },
    {
      "cell_type": "code",
      "metadata": {
        "colab": {
          "base_uri": "https://localhost:8080/"
        },
        "id": "EXbKuHbUwDc_",
        "outputId": "11f7007f-0ba0-4893-ffab-c30bf9d10cca"
      },
      "source": [
        "params = {\n",
        "    \"clf__loss\" : [\"hinge\", \"log\", \"squared_hinge\", \"modified_huber\"],\n",
        "    \"clf__alpha\" : [0.0001, 0.001, 0.01, 0.1],\n",
        "    \"clf__penalty\" : [\"l2\", \"l1\", \"none\"],\n",
        "}\n",
        "\n",
        "clf_sgd = GridSearchCV(sgd, param_grid=params,refit = True, verbose = 1,scoring='f1_weighted')\n",
        "clf_sgd.fit(X_train, y_train)\n",
        "\n",
        "print(\"Best Score: \", clf_sgd.best_score_)\n",
        "print(\"Best Params: \", clf_sgd.best_params_)"
      ],
      "execution_count": null,
      "outputs": [
        {
          "output_type": "stream",
          "text": [
            "Fitting 5 folds for each of 48 candidates, totalling 240 fits\n"
          ],
          "name": "stdout"
        },
        {
          "output_type": "stream",
          "text": [
            "[Parallel(n_jobs=1)]: Using backend SequentialBackend with 1 concurrent workers.\n",
            "[Parallel(n_jobs=1)]: Done 240 out of 240 | elapsed:  3.9min finished\n"
          ],
          "name": "stderr"
        },
        {
          "output_type": "stream",
          "text": [
            "Best Score:  0.7301385654880026\n",
            "Best Params:  {'clf__alpha': 0.0001, 'clf__loss': 'log', 'clf__penalty': 'none'}\n"
          ],
          "name": "stdout"
        }
      ]
    },
    {
      "cell_type": "code",
      "metadata": {
        "colab": {
          "base_uri": "https://localhost:8080/"
        },
        "id": "-cdGdHhpwDdA",
        "outputId": "e1a450d1-c786-4dac-fc70-fef1081e7cfb"
      },
      "source": [
        "y_pred = clf_sgd.best_estimator_.predict(X_test)\n",
        "#predictions = clf_svc.best_estimator_.predict_proba(X_test)\n",
        "\n",
        "print('accuracy %s' % accuracy_score(y_pred, y_test))\n",
        "print('f1 score %s' % f1_score(y_pred, y_test,average='weighted')) \n",
        "#print (\"logloss: %0.3f \" % multiclass_logloss(y_test,predictions))\n",
        "\n",
        "print(classification_report(y_test, y_pred))\n",
        "\n",
        "print(confusion_matrix(y_test,y_pred))\n",
        "\n",
        "log_entry = pd.DataFrame([[\"SGD_best_estimator_gcv\",accuracy_score(y_pred, y_test),f1_score(y_pred, y_test,average='weighted')]], columns=log_cols)\n",
        "log = log.append(log_entry)"
      ],
      "execution_count": null,
      "outputs": [
        {
          "output_type": "stream",
          "text": [
            "accuracy 0.7275960170697012\n",
            "f1 score 0.7183484703670557\n",
            "              precision    recall  f1-score   support\n",
            "\n",
            "           0       0.90      0.89      0.89       795\n",
            "           1       0.57      0.46      0.51        28\n",
            "           2       0.55      0.60      0.57        52\n",
            "           3       0.67      0.62      0.64        29\n",
            "           4       0.39      0.38      0.38        24\n",
            "           5       0.43      0.44      0.44        43\n",
            "           6       0.63      0.65      0.64        48\n",
            "           7       0.90      0.95      0.92        58\n",
            "           8       0.63      0.74      0.68        23\n",
            "           9       0.47      0.45      0.46        40\n",
            "          10       0.58      0.52      0.55        21\n",
            "          11       0.13      0.69      0.22        26\n",
            "          12       0.38      0.42      0.39        36\n",
            "          13       0.93      0.38      0.54       132\n",
            "          14       0.64      0.18      0.28        51\n",
            "\n",
            "    accuracy                           0.73      1406\n",
            "   macro avg       0.59      0.56      0.54      1406\n",
            "weighted avg       0.79      0.73      0.74      1406\n",
            "\n",
            "[[709   5  14   3   8  16  11   3   7  12   3   1   0   0   3]\n",
            " [  3  13   0   1   0   0   0   0   0   0   0  10   0   1   0]\n",
            " [  3   0  31   0   3   1   2   1   1   3   2   4   0   1   0]\n",
            " [  5   3   0  18   1   0   0   0   0   0   0   1   1   0   0]\n",
            " [  8   0   4   0   9   0   1   0   0   1   0   1   0   0   0]\n",
            " [ 19   0   1   0   1  19   1   0   0   2   0   0   0   0   0]\n",
            " [ 16   0   1   0   0   0  31   0   0   0   0   0   0   0   0]\n",
            " [  1   0   0   0   0   0   0  55   0   0   2   0   0   0   0]\n",
            " [  2   0   0   0   0   1   1   1  17   0   1   0   0   0   0]\n",
            " [ 14   0   0   0   0   5   2   0   1  18   0   0   0   0   0]\n",
            " [  6   0   1   0   0   1   0   1   0   0  11   0   0   1   0]\n",
            " [  0   0   0   0   0   0   0   0   0   1   0  18   5   1   1]\n",
            " [  1   0   0   2   0   0   0   0   0   0   0  17  15   0   1]\n",
            " [  3   0   3   0   1   0   0   0   1   1   0  64   9  50   0]\n",
            " [  2   2   1   3   0   1   0   0   0   0   0  23  10   0   9]]\n"
          ],
          "name": "stdout"
        }
      ]
    },
    {
      "cell_type": "markdown",
      "metadata": {
        "id": "H2aKCBMBwDdE"
      },
      "source": [
        "### Logistic Regression"
      ]
    },
    {
      "cell_type": "code",
      "metadata": {
        "colab": {
          "base_uri": "https://localhost:8080/"
        },
        "id": "rVay4SIUwDdE",
        "outputId": "912649b5-136e-4c43-cde5-3da81c1f66ea"
      },
      "source": [
        "params = {\n",
        "  'clf__penalty': ['l2'],\n",
        "  'clf__C': [1e-6, 1e-5, 1e-4, 1e-3, 1e-2, 1e-1, 1e0,1e2,1e4,1e5],\n",
        "  'clf__max_iter': [100,4000,5000],\n",
        "}\n",
        "\n",
        "clf_lr = GridSearchCV(logreg_1, param_grid=params,refit = True,verbose = 1,scoring='f1_weighted')\n",
        "clf_lr.fit(X_train, y_train)\n",
        "\n",
        "print(\"Best Score: \", clf_lr.best_score_)\n",
        "print(\"Best Params: \", clf_lr.best_params_)"
      ],
      "execution_count": null,
      "outputs": [
        {
          "output_type": "stream",
          "text": [
            "Fitting 5 folds for each of 30 candidates, totalling 150 fits\n"
          ],
          "name": "stdout"
        },
        {
          "output_type": "stream",
          "text": [
            "[Parallel(n_jobs=1)]: Using backend SequentialBackend with 1 concurrent workers.\n",
            "[Parallel(n_jobs=1)]: Done 150 out of 150 | elapsed: 56.1min finished\n"
          ],
          "name": "stderr"
        },
        {
          "output_type": "stream",
          "text": [
            "Best Score:  0.702178114709099\n",
            "Best Params:  {'clf__C': 100.0, 'clf__max_iter': 4000, 'clf__penalty': 'l2'}\n"
          ],
          "name": "stdout"
        }
      ]
    },
    {
      "cell_type": "code",
      "metadata": {
        "colab": {
          "base_uri": "https://localhost:8080/"
        },
        "id": "NB19sKGlwDdE",
        "outputId": "55900e98-1c7d-4b01-f554-e76d28865bc9"
      },
      "source": [
        "y_pred = clf_lr.best_estimator_.predict(X_test)\n",
        "#predictions = clf_svc.best_estimator_.predict_proba(X_test)\n",
        "\n",
        "print('accuracy %s' % accuracy_score(y_pred, y_test))\n",
        "print('f1 score %s' % f1_score(y_pred, y_test,average='weighted')) \n",
        "#print (\"logloss: %0.3f \" % multiclass_logloss(y_test,predictions))\n",
        "\n",
        "print(classification_report(y_test, y_pred))\n",
        "\n",
        "print(confusion_matrix(y_test,y_pred))\n",
        "\n",
        "log_entry = pd.DataFrame([[\"LogisticRegression_best_estimator_gcv\",accuracy_score(y_pred, y_test),f1_score(y_pred, y_test,average='weighted')]], columns=log_cols)\n",
        "log = log.append(log_entry)"
      ],
      "execution_count": null,
      "outputs": [
        {
          "output_type": "stream",
          "text": [
            "accuracy 0.7062588904694168\n",
            "f1 score 0.69204729077323\n",
            "              precision    recall  f1-score   support\n",
            "\n",
            "           0       0.89      0.86      0.87       795\n",
            "           1       0.58      0.39      0.47        28\n",
            "           2       0.57      0.63      0.60        52\n",
            "           3       0.71      0.59      0.64        29\n",
            "           4       0.35      0.29      0.32        24\n",
            "           5       0.28      0.47      0.35        43\n",
            "           6       0.57      0.71      0.63        48\n",
            "           7       0.90      0.93      0.92        58\n",
            "           8       0.77      0.74      0.76        23\n",
            "           9       0.41      0.40      0.41        40\n",
            "          10       0.53      0.43      0.47        21\n",
            "          11       0.12      0.65      0.21        26\n",
            "          12       0.37      0.42      0.39        36\n",
            "          13       0.92      0.37      0.53       132\n",
            "          14       0.79      0.22      0.34        51\n",
            "\n",
            "    accuracy                           0.71      1406\n",
            "   macro avg       0.58      0.54      0.53      1406\n",
            "weighted avg       0.78      0.71      0.72      1406\n",
            "\n",
            "[[683   4  14   3   7  38  22   2   4  13   3   1   0   0   1]\n",
            " [  4  11   0   1   0   0   0   0   0   1   0  10   0   1   0]\n",
            " [  4   0  33   0   3   1   1   1   0   4   1   4   0   0   0]\n",
            " [  5   2   0  17   1   0   0   0   0   0   1   1   2   0   0]\n",
            " [ 12   0   3   0   7   0   1   0   0   0   0   1   0   0   0]\n",
            " [ 20   0   0   0   0  20   0   0   0   3   0   0   0   0   0]\n",
            " [ 13   0   1   0   0   0  34   0   0   0   0   0   0   0   0]\n",
            " [  1   0   0   0   0   0   0  54   0   0   3   0   0   0   0]\n",
            " [  2   1   0   0   0   1   1   1  17   0   0   0   0   0   0]\n",
            " [ 13   0   1   0   0   9   1   0   0  16   0   0   0   0   0]\n",
            " [  7   0   1   0   0   1   0   2   0   0   9   0   0   1   0]\n",
            " [  0   0   0   0   0   0   0   0   0   1   0  17   5   2   1]\n",
            " [  1   0   0   2   0   0   0   0   0   0   0  17  15   0   1]\n",
            " [  3   0   4   0   1   0   0   0   1   1   0  64   9  49   0]\n",
            " [  2   1   1   1   1   1   0   0   0   0   0  23  10   0  11]]\n"
          ],
          "name": "stdout"
        }
      ]
    },
    {
      "cell_type": "markdown",
      "metadata": {
        "id": "xkMDqTkjwDdE"
      },
      "source": [
        "### Word2vec embedding and Logistic Regression\n"
      ]
    },
    {
      "cell_type": "markdown",
      "metadata": {
        "id": "i2SmR0KSwDdE"
      },
      "source": [
        "Let's use pretrined glove embeddings to train the model "
      ]
    },
    {
      "cell_type": "code",
      "metadata": {
        "id": "hnKgy1G9wDdE"
      },
      "source": [
        "import logging\n",
        "import nltk\n",
        "from gensim.models import Word2Vec\n",
        "import gensim"
      ],
      "execution_count": null,
      "outputs": []
    },
    {
      "cell_type": "code",
      "metadata": {
        "colab": {
          "base_uri": "https://localhost:8080/",
          "height": 340
        },
        "id": "OVzzD4PCwDdF",
        "outputId": "cba170c0-f430-4d63-e61d-fd562f3f410f"
      },
      "source": [
        "wv = gensim.models.KeyedVectors.load_word2vec_format(\"dataset/glove.6B/glove.6B.100d.w2vformat.txt\")\n",
        "wv.init_sims(replace=True)"
      ],
      "execution_count": null,
      "outputs": [
        {
          "output_type": "error",
          "ename": "FileNotFoundError",
          "evalue": "ignored",
          "traceback": [
            "\u001b[0;31m---------------------------------------------------------------------------\u001b[0m",
            "\u001b[0;31mFileNotFoundError\u001b[0m                         Traceback (most recent call last)",
            "\u001b[0;32m<ipython-input-31-d3121faff002>\u001b[0m in \u001b[0;36m<module>\u001b[0;34m()\u001b[0m\n\u001b[0;32m----> 1\u001b[0;31m \u001b[0mwv\u001b[0m \u001b[0;34m=\u001b[0m \u001b[0mgensim\u001b[0m\u001b[0;34m.\u001b[0m\u001b[0mmodels\u001b[0m\u001b[0;34m.\u001b[0m\u001b[0mKeyedVectors\u001b[0m\u001b[0;34m.\u001b[0m\u001b[0mload_word2vec_format\u001b[0m\u001b[0;34m(\u001b[0m\u001b[0;34m\"dataset/glove.6B/glove.6B.100d.w2vformat.txt\"\u001b[0m\u001b[0;34m)\u001b[0m\u001b[0;34m\u001b[0m\u001b[0;34m\u001b[0m\u001b[0m\n\u001b[0m\u001b[1;32m      2\u001b[0m \u001b[0mwv\u001b[0m\u001b[0;34m.\u001b[0m\u001b[0minit_sims\u001b[0m\u001b[0;34m(\u001b[0m\u001b[0mreplace\u001b[0m\u001b[0;34m=\u001b[0m\u001b[0;32mTrue\u001b[0m\u001b[0;34m)\u001b[0m\u001b[0;34m\u001b[0m\u001b[0;34m\u001b[0m\u001b[0m\n",
            "\u001b[0;32m/usr/local/lib/python3.6/dist-packages/gensim/models/keyedvectors.py\u001b[0m in \u001b[0;36mload_word2vec_format\u001b[0;34m(cls, fname, fvocab, binary, encoding, unicode_errors, limit, datatype)\u001b[0m\n\u001b[1;32m   1436\u001b[0m         return _load_word2vec_format(\n\u001b[1;32m   1437\u001b[0m             \u001b[0mcls\u001b[0m\u001b[0;34m,\u001b[0m \u001b[0mfname\u001b[0m\u001b[0;34m,\u001b[0m \u001b[0mfvocab\u001b[0m\u001b[0;34m=\u001b[0m\u001b[0mfvocab\u001b[0m\u001b[0;34m,\u001b[0m \u001b[0mbinary\u001b[0m\u001b[0;34m=\u001b[0m\u001b[0mbinary\u001b[0m\u001b[0;34m,\u001b[0m \u001b[0mencoding\u001b[0m\u001b[0;34m=\u001b[0m\u001b[0mencoding\u001b[0m\u001b[0;34m,\u001b[0m \u001b[0municode_errors\u001b[0m\u001b[0;34m=\u001b[0m\u001b[0municode_errors\u001b[0m\u001b[0;34m,\u001b[0m\u001b[0;34m\u001b[0m\u001b[0;34m\u001b[0m\u001b[0m\n\u001b[0;32m-> 1438\u001b[0;31m             limit=limit, datatype=datatype)\n\u001b[0m\u001b[1;32m   1439\u001b[0m \u001b[0;34m\u001b[0m\u001b[0m\n\u001b[1;32m   1440\u001b[0m     \u001b[0;32mdef\u001b[0m \u001b[0mget_keras_embedding\u001b[0m\u001b[0;34m(\u001b[0m\u001b[0mself\u001b[0m\u001b[0;34m,\u001b[0m \u001b[0mtrain_embeddings\u001b[0m\u001b[0;34m=\u001b[0m\u001b[0;32mFalse\u001b[0m\u001b[0;34m)\u001b[0m\u001b[0;34m:\u001b[0m\u001b[0;34m\u001b[0m\u001b[0;34m\u001b[0m\u001b[0m\n",
            "\u001b[0;32m/usr/local/lib/python3.6/dist-packages/gensim/models/utils_any2vec.py\u001b[0m in \u001b[0;36m_load_word2vec_format\u001b[0;34m(cls, fname, fvocab, binary, encoding, unicode_errors, limit, datatype)\u001b[0m\n\u001b[1;32m    169\u001b[0m \u001b[0;34m\u001b[0m\u001b[0m\n\u001b[1;32m    170\u001b[0m     \u001b[0mlogger\u001b[0m\u001b[0;34m.\u001b[0m\u001b[0minfo\u001b[0m\u001b[0;34m(\u001b[0m\u001b[0;34m\"loading projection weights from %s\"\u001b[0m\u001b[0;34m,\u001b[0m \u001b[0mfname\u001b[0m\u001b[0;34m)\u001b[0m\u001b[0;34m\u001b[0m\u001b[0;34m\u001b[0m\u001b[0m\n\u001b[0;32m--> 171\u001b[0;31m     \u001b[0;32mwith\u001b[0m \u001b[0mutils\u001b[0m\u001b[0;34m.\u001b[0m\u001b[0msmart_open\u001b[0m\u001b[0;34m(\u001b[0m\u001b[0mfname\u001b[0m\u001b[0;34m)\u001b[0m \u001b[0;32mas\u001b[0m \u001b[0mfin\u001b[0m\u001b[0;34m:\u001b[0m\u001b[0;34m\u001b[0m\u001b[0;34m\u001b[0m\u001b[0m\n\u001b[0m\u001b[1;32m    172\u001b[0m         \u001b[0mheader\u001b[0m \u001b[0;34m=\u001b[0m \u001b[0mutils\u001b[0m\u001b[0;34m.\u001b[0m\u001b[0mto_unicode\u001b[0m\u001b[0;34m(\u001b[0m\u001b[0mfin\u001b[0m\u001b[0;34m.\u001b[0m\u001b[0mreadline\u001b[0m\u001b[0;34m(\u001b[0m\u001b[0;34m)\u001b[0m\u001b[0;34m,\u001b[0m \u001b[0mencoding\u001b[0m\u001b[0;34m=\u001b[0m\u001b[0mencoding\u001b[0m\u001b[0;34m)\u001b[0m\u001b[0;34m\u001b[0m\u001b[0;34m\u001b[0m\u001b[0m\n\u001b[1;32m    173\u001b[0m         \u001b[0mvocab_size\u001b[0m\u001b[0;34m,\u001b[0m \u001b[0mvector_size\u001b[0m \u001b[0;34m=\u001b[0m \u001b[0;34m(\u001b[0m\u001b[0mint\u001b[0m\u001b[0;34m(\u001b[0m\u001b[0mx\u001b[0m\u001b[0;34m)\u001b[0m \u001b[0;32mfor\u001b[0m \u001b[0mx\u001b[0m \u001b[0;32min\u001b[0m \u001b[0mheader\u001b[0m\u001b[0;34m.\u001b[0m\u001b[0msplit\u001b[0m\u001b[0;34m(\u001b[0m\u001b[0;34m)\u001b[0m\u001b[0;34m)\u001b[0m  \u001b[0;31m# throws for invalid file format\u001b[0m\u001b[0;34m\u001b[0m\u001b[0;34m\u001b[0m\u001b[0m\n",
            "\u001b[0;32m/usr/local/lib/python3.6/dist-packages/smart_open/smart_open_lib.py\u001b[0m in \u001b[0;36msmart_open\u001b[0;34m(***failed resolving arguments***)\u001b[0m\n\u001b[1;32m    420\u001b[0m     \u001b[0mignore_ext\u001b[0m \u001b[0;34m=\u001b[0m \u001b[0mignore_extension\u001b[0m\u001b[0;34m\u001b[0m\u001b[0;34m\u001b[0m\u001b[0m\n\u001b[1;32m    421\u001b[0m     \u001b[0;32mdel\u001b[0m \u001b[0mkwargs\u001b[0m\u001b[0;34m,\u001b[0m \u001b[0murl\u001b[0m\u001b[0;34m,\u001b[0m \u001b[0mmessage\u001b[0m\u001b[0;34m,\u001b[0m \u001b[0mignore_extension\u001b[0m\u001b[0;34m\u001b[0m\u001b[0;34m\u001b[0m\u001b[0m\n\u001b[0;32m--> 422\u001b[0;31m     \u001b[0;32mreturn\u001b[0m \u001b[0mopen\u001b[0m\u001b[0;34m(\u001b[0m\u001b[0;34m**\u001b[0m\u001b[0mlocals\u001b[0m\u001b[0;34m(\u001b[0m\u001b[0;34m)\u001b[0m\u001b[0;34m)\u001b[0m\u001b[0;34m\u001b[0m\u001b[0;34m\u001b[0m\u001b[0m\n\u001b[0m\u001b[1;32m    423\u001b[0m \u001b[0;34m\u001b[0m\u001b[0m\n\u001b[1;32m    424\u001b[0m \u001b[0;34m\u001b[0m\u001b[0m\n",
            "\u001b[0;32m/usr/local/lib/python3.6/dist-packages/smart_open/smart_open_lib.py\u001b[0m in \u001b[0;36mopen\u001b[0;34m(uri, mode, buffering, encoding, errors, newline, closefd, opener, ignore_ext, transport_params)\u001b[0m\n\u001b[1;32m    185\u001b[0m         \u001b[0mencoding\u001b[0m\u001b[0;34m=\u001b[0m\u001b[0mencoding\u001b[0m\u001b[0;34m,\u001b[0m\u001b[0;34m\u001b[0m\u001b[0;34m\u001b[0m\u001b[0m\n\u001b[1;32m    186\u001b[0m         \u001b[0merrors\u001b[0m\u001b[0;34m=\u001b[0m\u001b[0merrors\u001b[0m\u001b[0;34m,\u001b[0m\u001b[0;34m\u001b[0m\u001b[0;34m\u001b[0m\u001b[0m\n\u001b[0;32m--> 187\u001b[0;31m         \u001b[0mnewline\u001b[0m\u001b[0;34m=\u001b[0m\u001b[0mnewline\u001b[0m\u001b[0;34m,\u001b[0m\u001b[0;34m\u001b[0m\u001b[0;34m\u001b[0m\u001b[0m\n\u001b[0m\u001b[1;32m    188\u001b[0m     )\n\u001b[1;32m    189\u001b[0m     \u001b[0;32mif\u001b[0m \u001b[0mfobj\u001b[0m \u001b[0;32mis\u001b[0m \u001b[0;32mnot\u001b[0m \u001b[0;32mNone\u001b[0m\u001b[0;34m:\u001b[0m\u001b[0;34m\u001b[0m\u001b[0;34m\u001b[0m\u001b[0m\n",
            "\u001b[0;32m/usr/local/lib/python3.6/dist-packages/smart_open/smart_open_lib.py\u001b[0m in \u001b[0;36m_shortcut_open\u001b[0;34m(uri, mode, ignore_ext, buffering, encoding, errors, newline)\u001b[0m\n\u001b[1;32m    285\u001b[0m         \u001b[0mopen_kwargs\u001b[0m\u001b[0;34m[\u001b[0m\u001b[0;34m'errors'\u001b[0m\u001b[0;34m]\u001b[0m \u001b[0;34m=\u001b[0m \u001b[0merrors\u001b[0m\u001b[0;34m\u001b[0m\u001b[0;34m\u001b[0m\u001b[0m\n\u001b[1;32m    286\u001b[0m \u001b[0;34m\u001b[0m\u001b[0m\n\u001b[0;32m--> 287\u001b[0;31m     \u001b[0;32mreturn\u001b[0m \u001b[0m_builtin_open\u001b[0m\u001b[0;34m(\u001b[0m\u001b[0mlocal_path\u001b[0m\u001b[0;34m,\u001b[0m \u001b[0mmode\u001b[0m\u001b[0;34m,\u001b[0m \u001b[0mbuffering\u001b[0m\u001b[0;34m=\u001b[0m\u001b[0mbuffering\u001b[0m\u001b[0;34m,\u001b[0m \u001b[0;34m**\u001b[0m\u001b[0mopen_kwargs\u001b[0m\u001b[0;34m)\u001b[0m\u001b[0;34m\u001b[0m\u001b[0;34m\u001b[0m\u001b[0m\n\u001b[0m\u001b[1;32m    288\u001b[0m \u001b[0;34m\u001b[0m\u001b[0m\n\u001b[1;32m    289\u001b[0m \u001b[0;34m\u001b[0m\u001b[0m\n",
            "\u001b[0;31mFileNotFoundError\u001b[0m: [Errno 2] No such file or directory: 'dataset/glove.6B/glove.6B.100d.w2vformat.txt'"
          ]
        }
      ]
    },
    {
      "cell_type": "code",
      "metadata": {
        "id": "hEzHIH7PwDdF"
      },
      "source": [
        "def word_averaging(wv, words):\n",
        "    all_words, mean = set(), []\n",
        "    \n",
        "    for word in words:\n",
        "        if isinstance(word, np.ndarray):\n",
        "            mean.append(word)\n",
        "        elif word in wv.vocab:\n",
        "            mean.append(wv.syn0norm[wv.vocab[word].index])\n",
        "            all_words.add(wv.vocab[word].index)\n",
        "\n",
        "    if not mean:\n",
        "        logging.warning(\"cannot compute similarity with no input %s\", words)\n",
        "        # FIXME: remove these examples in pre-processing\n",
        "        return np.zeros(wv.vector_size,)\n",
        "\n",
        "    mean = gensim.matutils.unitvec(np.array(mean).mean(axis=0)).astype(np.float32)\n",
        "    return mean\n",
        "\n",
        "def  word_averaging_list(wv, text_list):\n",
        "    return np.vstack([word_averaging(wv, post) for post in text_list ])"
      ],
      "execution_count": null,
      "outputs": []
    },
    {
      "cell_type": "code",
      "metadata": {
        "id": "k2ILSnHLwDdF"
      },
      "source": [
        "def w2v_tokenize_text(text):\n",
        "    tokens = []\n",
        "    for sent in nltk.sent_tokenize(text, language='english'):\n",
        "        for word in nltk.word_tokenize(sent, language='english'):\n",
        "            if len(word) < 2:\n",
        "                continue\n",
        "            tokens.append(word)\n",
        "    return tokens"
      ],
      "execution_count": null,
      "outputs": []
    },
    {
      "cell_type": "code",
      "metadata": {
        "id": "hzo4auSKwDdF",
        "outputId": "22e93444-d5aa-4a3b-8b1e-3d8ec0f34884"
      },
      "source": [
        "df_inc_sample.head()"
      ],
      "execution_count": null,
      "outputs": [
        {
          "output_type": "execute_result",
          "data": {
            "text/html": [
              "<div>\n",
              "<style scoped>\n",
              "    .dataframe tbody tr th:only-of-type {\n",
              "        vertical-align: middle;\n",
              "    }\n",
              "\n",
              "    .dataframe tbody tr th {\n",
              "        vertical-align: top;\n",
              "    }\n",
              "\n",
              "    .dataframe thead th {\n",
              "        text-align: right;\n",
              "    }\n",
              "</style>\n",
              "<table border=\"1\" class=\"dataframe\">\n",
              "  <thead>\n",
              "    <tr style=\"text-align: right;\">\n",
              "      <th></th>\n",
              "      <th>Assignment_group</th>\n",
              "      <th>Target</th>\n",
              "      <th>cleaned_description</th>\n",
              "      <th>num_wds</th>\n",
              "      <th>avg_word</th>\n",
              "      <th>uniq_wds</th>\n",
              "      <th>token_desc</th>\n",
              "    </tr>\n",
              "  </thead>\n",
              "  <tbody>\n",
              "    <tr>\n",
              "      <th>0</th>\n",
              "      <td>GRP_0</td>\n",
              "      <td>L1/L2</td>\n",
              "      <td>login issue verified user detailsemployee mana...</td>\n",
              "      <td>20</td>\n",
              "      <td>6.900000</td>\n",
              "      <td>17</td>\n",
              "      <td>login issue verified user detailsemployee mana...</td>\n",
              "    </tr>\n",
              "    <tr>\n",
              "      <th>1</th>\n",
              "      <td>GRP_0</td>\n",
              "      <td>L1/L2</td>\n",
              "      <td>outlook hmjdrvpbkomuaywn teammy meetingsskype ...</td>\n",
              "      <td>12</td>\n",
              "      <td>8.083333</td>\n",
              "      <td>11</td>\n",
              "      <td>outlook hmjdrvpbkomuaywn teammy meetingsskype ...</td>\n",
              "    </tr>\n",
              "    <tr>\n",
              "      <th>2</th>\n",
              "      <td>GRP_0</td>\n",
              "      <td>L1/L2</td>\n",
              "      <td>cant log vpn eylqgodmybqkwiami cannot log vpn</td>\n",
              "      <td>7</td>\n",
              "      <td>5.571429</td>\n",
              "      <td>5</td>\n",
              "      <td>cant log vpn eylqgodmybqkwiami cannot log vpn</td>\n",
              "    </tr>\n",
              "    <tr>\n",
              "      <th>3</th>\n",
              "      <td>GRP_0</td>\n",
              "      <td>L1/L2</td>\n",
              "      <td>unable access hrtool page unable access hrtool...</td>\n",
              "      <td>8</td>\n",
              "      <td>5.500000</td>\n",
              "      <td>4</td>\n",
              "      <td>unable access hrtool page unable access hrtool...</td>\n",
              "    </tr>\n",
              "    <tr>\n",
              "      <th>4</th>\n",
              "      <td>GRP_0</td>\n",
              "      <td>L1/L2</td>\n",
              "      <td>skype error skype error</td>\n",
              "      <td>4</td>\n",
              "      <td>5.000000</td>\n",
              "      <td>2</td>\n",
              "      <td>skype error skype error</td>\n",
              "    </tr>\n",
              "  </tbody>\n",
              "</table>\n",
              "</div>"
            ],
            "text/plain": [
              "  Assignment_group Target                                cleaned_description  \\\n",
              "0            GRP_0  L1/L2  login issue verified user detailsemployee mana...   \n",
              "1            GRP_0  L1/L2  outlook hmjdrvpbkomuaywn teammy meetingsskype ...   \n",
              "2            GRP_0  L1/L2      cant log vpn eylqgodmybqkwiami cannot log vpn   \n",
              "3            GRP_0  L1/L2  unable access hrtool page unable access hrtool...   \n",
              "4            GRP_0  L1/L2                            skype error skype error   \n",
              "\n",
              "   num_wds  avg_word  uniq_wds  \\\n",
              "0       20  6.900000        17   \n",
              "1       12  8.083333        11   \n",
              "2        7  5.571429         5   \n",
              "3        8  5.500000         4   \n",
              "4        4  5.000000         2   \n",
              "\n",
              "                                          token_desc  \n",
              "0  login issue verified user detailsemployee mana...  \n",
              "1  outlook hmjdrvpbkomuaywn teammy meetingsskype ...  \n",
              "2      cant log vpn eylqgodmybqkwiami cannot log vpn  \n",
              "3  unable access hrtool page unable access hrtool...  \n",
              "4                            skype error skype error  "
            ]
          },
          "metadata": {
            "tags": []
          },
          "execution_count": 26
        }
      ]
    },
    {
      "cell_type": "code",
      "metadata": {
        "id": "c5IvS-B0wDdF"
      },
      "source": [
        "# df_tranlated_inc = pd.read_csv(\"dataset/cleaned_data.csv\",encoding='utf-8')\n",
        "# df_tranlated_inc = df_tranlated_inc.drop(['Unnamed: 0','cleaned_description','language'],axis=1)\n",
        "\n",
        "#df_inc_sample = df_tranlated_inc[df_tranlated_inc['Assignment group'].map(df_tranlated_inc['Assignment group'].value_counts()) > 100]\n",
        "#df_inc_sample.rename(columns = {'Assignment group':'Assignment_group'}, inplace = True)\n",
        "\n",
        "\n",
        "# df_inc_sample = df_inc_sample.sample(frac=1).reset_index(drop=True)\n",
        "\n",
        "# grp0_sample = df_inc_sample[df_inc_sample['Assignment_group']=='GRP_0'].sample(n=1500)\n",
        "# other_rows = df_inc_sample[df_inc_sample['Assignment_group']!='GRP_0']\n",
        "# df_inc_sample = pd.concat([other_rows,grp0_sample]).reset_index(drop=True)\n",
        "\n",
        "train, test = train_test_split(df_inc_sample, test_size=0.2, random_state = 13,stratify=df_inc_sample['Assignment_group'])\n",
        "\n",
        "test_tokenized = test.apply(lambda r: w2v_tokenize_text(r['token_desc']), axis=1).values\n",
        "train_tokenized = train.apply(lambda r: w2v_tokenize_text(r['token_desc']), axis=1).values"
      ],
      "execution_count": null,
      "outputs": []
    },
    {
      "cell_type": "code",
      "metadata": {
        "id": "lGBPKdBZwDdF",
        "outputId": "0bf81ca7-5b16-44e1-d028-18c99d6c7b79"
      },
      "source": [
        "X_train_word_average = word_averaging_list(wv,train_tokenized)\n",
        "X_test_word_average = word_averaging_list(wv,test_tokenized)"
      ],
      "execution_count": null,
      "outputs": [
        {
          "output_type": "stream",
          "text": [
            "WARNING:root:cannot compute similarity with no input ['collaborationplatform', 'syncng', 'collaborationplatform', 'syncng']\n",
            "WARNING:root:cannot compute similarity with no input ['zurcksetzen', '09122016received']\n",
            "WARNING:root:cannot compute similarity with no input ['lfter', 'defekt', 'industriekontrollmonitor', 'niptbwdq', 'csenjruz', 'lfter', 'defekt', 'industriekontrollmonitor', 'niptbwdq', 'csenjruz']\n",
            "WARNING:root:cannot compute similarity with no input ['collaborationplatform', 'collaborationplatform']\n",
            "WARNING:root:cannot compute similarity with no input ['tastatur', 'defekt', 'wcupoaty', 'fqnzwphj', 'tastatur', 'defekt', 'wcupoaty', 'fqnzwphj']\n",
            "WARNING:root:cannot compute similarity with no input ['uacyltoe', 'hxgaycze', 'uacyltoe', 'hxgaycze']\n",
            "WARNING:root:cannot compute similarity with no input ['uacyltoe', 'hxgaycze', 'uacyltoe', 'hxgaycze']\n",
            "WARNING:root:cannot compute similarity with no input ['arcving', 'emailsreceived']\n"
          ],
          "name": "stderr"
        }
      ]
    },
    {
      "cell_type": "markdown",
      "metadata": {
        "id": "OP3Fw2exwDdH"
      },
      "source": [
        "### Logistic Regression "
      ]
    },
    {
      "cell_type": "code",
      "metadata": {
        "id": "V-QDCXdIwDdI"
      },
      "source": [
        "from sklearn.linear_model import LogisticRegression\n",
        "logreg = LogisticRegression(n_jobs=1, C=1e5,class_weight='balanced')\n",
        "logreg = logreg.fit(X_train_word_average, train['Assignment_group'])\n",
        "y_pred = logreg.predict(X_test_word_average)"
      ],
      "execution_count": null,
      "outputs": []
    },
    {
      "cell_type": "code",
      "metadata": {
        "id": "YlnAVXKdwDdI",
        "outputId": "122b3e0e-6cdc-4c54-c6d2-4d3e6c88ac3f"
      },
      "source": [
        "from sklearn.metrics import accuracy_score, confusion_matrix,classification_report,f1_score\n",
        "print('accuracy %s' % accuracy_score(y_pred, test.Assignment_group))\n",
        "print('f1 score %s' % f1_score(y_pred, test.Assignment_group,average='weighted'))\n",
        "print(classification_report(test.Assignment_group, y_pred))\n",
        "\n",
        "\n",
        "print(confusion_matrix(test.Assignment_group,y_pred))\n",
        "log_entry = pd.DataFrame([[\"Word2Vec - LogisticRegression\",accuracy_score(y_pred, test.Assignment_group),f1_score(y_pred, test.Assignment_group,average='weighted')]], columns=log_cols)\n",
        "log = log.append(log_entry)"
      ],
      "execution_count": null,
      "outputs": [
        {
          "output_type": "stream",
          "text": [
            "accuracy 0.46766169154228854\n",
            "f1 score 0.4156525934808569\n",
            "              precision    recall  f1-score   support\n",
            "\n",
            "       GRP_0       0.96      0.49      0.65       794\n",
            "      GRP_10       0.20      0.36      0.25        28\n",
            "      GRP_12       0.31      0.52      0.39        50\n",
            "      GRP_13       0.19      0.34      0.25        29\n",
            "      GRP_14       0.17      0.39      0.23        23\n",
            "      GRP_19       0.21      0.50      0.30        44\n",
            "       GRP_2       0.24      0.69      0.36        49\n",
            "      GRP_24       0.53      0.72      0.61        58\n",
            "      GRP_25       0.10      0.22      0.14        23\n",
            "       GRP_3       0.17      0.35      0.23        40\n",
            "      GRP_33       0.14      0.33      0.19        21\n",
            "       GRP_5       0.16      0.77      0.27        31\n",
            "       GRP_6       0.32      0.38      0.35        37\n",
            "       GRP_8       0.88      0.34      0.49       129\n",
            "       GRP_9       0.33      0.08      0.13        51\n",
            "\n",
            "    accuracy                           0.47      1407\n",
            "   macro avg       0.33      0.43      0.32      1407\n",
            "weighted avg       0.71      0.47      0.52      1407\n",
            "\n",
            "[[393  26  34  25  24  62  86  26  27  45  34   0   4   3   5]\n",
            " [  1  10   0   1   0   0   0   0   2   0   0  14   0   0   0]\n",
            " [  1   3  26   0   5   1   5   2   0   4   1   0   0   2   0]\n",
            " [  0   5   1  10   3   0   2   0   2   1   0   2   1   0   2]\n",
            " [  1   0   3   2   9   1   1   1   5   0   0   0   0   0   0]\n",
            " [  5   0   3   0   0  22   2   2   1   6   2   0   1   0   0]\n",
            " [  4   1   1   2   3   1  34   0   1   0   1   0   0   0   1]\n",
            " [  2   2   2   2   0   1   1  42   0   4   2   0   0   0   0]\n",
            " [  2   0   1   2   3   1   4   2   5   2   0   0   0   1   0]\n",
            " [  0   0   2   1   2   9   4   2   2  14   4   0   0   0   0]\n",
            " [  0   0   1   0   1   3   0   3   2   4   7   0   0   0   0]\n",
            " [  1   1   0   0   0   0   0   0   0   0   0  24   5   0   0]\n",
            " [  0   0   1   2   1   1   0   0   0   0   0  18  14   0   0]\n",
            " [  0   1   7   2   2   0   0   0   0   0   0  64   9  44   0]\n",
            " [  0   2   2   3   1   1   0   0   1   0   0  27  10   0   4]]\n"
          ],
          "name": "stdout"
        }
      ]
    },
    {
      "cell_type": "markdown",
      "metadata": {
        "id": "JlTx4M9RwDdI"
      },
      "source": [
        "<b> We see that the performance is very poor than the benchmark model, as the pretrained embedding used is not specific to ITSM data and more related to generic english texts </b>"
      ]
    },
    {
      "cell_type": "markdown",
      "metadata": {
        "id": "qDGGVWjDwDdI"
      },
      "source": [
        "### Xgboost"
      ]
    },
    {
      "cell_type": "code",
      "metadata": {
        "id": "EOeBFvyIwDdI"
      },
      "source": [
        "xgb_clf = xgb.XGBClassifier(max_depth=7, n_estimators=200, colsample_bytree=0.8, \n",
        "                        subsample=0.8, nthread=10, learning_rate=0.1)\n",
        "xgb_clf = xgb_clf.fit(X_train_word_average, train['Assignment_group'],sample_weight=w_array)\n",
        "y_pred = xgb_clf.predict(X_test_word_average)"
      ],
      "execution_count": null,
      "outputs": []
    },
    {
      "cell_type": "code",
      "metadata": {
        "id": "AmGCinGSwDdJ",
        "outputId": "82becb19-4cb9-4ae5-93fb-9db4cb774583"
      },
      "source": [
        "from sklearn.metrics import accuracy_score, confusion_matrix,classification_report,f1_score\n",
        "print('accuracy %s' % accuracy_score(y_pred, test.Assignment_group))\n",
        "print('f1 score %s' % f1_score(y_pred, test.Assignment_group,average='weighted'))\n",
        "print(classification_report(test.Assignment_group, y_pred))\n",
        "\n",
        "print(confusion_matrix(test.Assignment_group,y_pred))\n"
      ],
      "execution_count": null,
      "outputs": [
        {
          "output_type": "stream",
          "text": [
            "accuracy 0.6609808102345416\n",
            "f1 score 0.6897078287081292\n",
            "              precision    recall  f1-score   support\n",
            "\n",
            "       GRP_0       0.78      0.92      0.85       794\n",
            "      GRP_10       0.00      0.00      0.00        28\n",
            "      GRP_12       0.49      0.36      0.41        50\n",
            "      GRP_13       0.33      0.24      0.28        29\n",
            "      GRP_14       0.35      0.26      0.30        23\n",
            "      GRP_19       0.24      0.14      0.17        44\n",
            "       GRP_2       0.60      0.51      0.55        49\n",
            "      GRP_24       0.75      0.71      0.73        58\n",
            "      GRP_25       0.50      0.22      0.30        23\n",
            "       GRP_3       0.19      0.10      0.13        40\n",
            "      GRP_33       0.38      0.14      0.21        21\n",
            "       GRP_5       0.16      0.74      0.26        31\n",
            "       GRP_6       0.32      0.30      0.31        37\n",
            "       GRP_8       0.89      0.36      0.52       129\n",
            "       GRP_9       1.00      0.02      0.04        51\n",
            "\n",
            "    accuracy                           0.66      1407\n",
            "   macro avg       0.46      0.33      0.34      1407\n",
            "weighted avg       0.68      0.66      0.63      1407\n",
            "\n",
            "[[733   1   9   3   3  10  13   7   2   9   4   0   0   0   0]\n",
            " [ 12   0   0   2   0   0   0   0   0   0   0  14   0   0   0]\n",
            " [ 18   0  18   0   4   0   0   2   1   2   0   0   0   5   0]\n",
            " [ 18   1   0   7   0   0   1   0   1   0   0   1   0   0   0]\n",
            " [ 12   0   2   1   6   0   1   0   1   0   0   0   0   0   0]\n",
            " [ 30   0   3   0   0   6   1   1   0   3   0   0   0   0   0]\n",
            " [ 23   0   0   1   0   0  25   0   0   0   0   0   0   0   0]\n",
            " [ 14   0   0   0   0   0   0  41   0   2   1   0   0   0   0]\n",
            " [ 16   0   0   0   1   0   0   1   5   0   0   0   0   0   0]\n",
            " [ 28   0   0   0   0   7   1   0   0   4   0   0   0   0   0]\n",
            " [ 10   0   1   0   0   2   0   3   0   1   3   0   0   1   0]\n",
            " [  3   0   0   0   0   0   0   0   0   0   0  23   5   0   0]\n",
            " [  4   0   1   3   0   0   0   0   0   0   0  18  11   0   0]\n",
            " [  6   0   2   1   3   0   0   0   0   0   0  61   9  47   0]\n",
            " [ 10   0   1   3   0   0   0   0   0   0   0  27   9   0   1]]\n"
          ],
          "name": "stdout"
        }
      ]
    },
    {
      "cell_type": "markdown",
      "metadata": {
        "id": "I-d6RUIhwDdJ"
      },
      "source": [
        "### Doc2vec and Logistic Regression\n",
        "\n",
        "Let's try using Doc2vec, doc2vec is an extension to the word2vec-approach towards documents. Its intention is encode (whole) docs, consisting of lists of sentences, rather than lists of ungrouped sentences. \n",
        "\n",
        "There are two approaches in Doc2vec:\n",
        "    - Distributed Memory\n",
        "    - Distributed BOW"
      ]
    },
    {
      "cell_type": "code",
      "metadata": {
        "id": "a0bo8-TWwDdJ"
      },
      "source": [
        "from tqdm import tqdm\n",
        "tqdm.pandas(desc=\"progress-bar\")\n",
        "from gensim.models import Doc2Vec\n",
        "from sklearn import utils\n",
        "import gensim\n",
        "from gensim.models.doc2vec import TaggedDocument\n",
        "import re"
      ],
      "execution_count": null,
      "outputs": []
    },
    {
      "cell_type": "code",
      "metadata": {
        "id": "5ZmoNdScwDdJ"
      },
      "source": [
        "\n",
        "def label_sentences(corpus, label_type):\n",
        "    \"\"\"\n",
        "    Gensim's Doc2Vec implementation requires each document/paragraph to have a label associated with it.\n",
        "    We do this by using the TaggedDocument method. The format will be \"TRAIN_i\" or \"TEST_i\" where \"i\" is\n",
        "    a dummy index of the post.\n",
        "    \"\"\"\n",
        "    labeled = []\n",
        "    for i, v in enumerate(corpus):\n",
        "        label = label_type + '_' + str(i)\n",
        "        labeled.append(TaggedDocument(v.split(), tags=[label]))\n",
        "    return labeled"
      ],
      "execution_count": null,
      "outputs": []
    },
    {
      "cell_type": "code",
      "metadata": {
        "id": "iqcz6aLrwDdJ"
      },
      "source": [
        "\n",
        "X_train, X_test, y_train, y_test  = train_test_split(df_inc_sample.token_desc, df_inc_sample.Assignment_group, test_size=0.2, random_state = 13,stratify=df_inc_sample['Assignment_group'])\n",
        "X_train = label_sentences(X_train, 'Train')\n",
        "X_test = label_sentences(X_test, 'Test')\n",
        "all_data = X_train + X_test\n",
        "\n",
        "\n",
        "\n",
        "from sklearn import preprocessing\n",
        "encoder = preprocessing.LabelEncoder()\n",
        "# encoding train labels \n",
        "encoder.fit(y_train)\n",
        "y_train = encoder.transform(y_train)\n",
        "y_test = encoder.transform(y_test)\n",
        "\n",
        "\n",
        "class_weights = compute_class_weight('balanced', np.unique(y_train), y_train)\n",
        "class_weights\n",
        "\n",
        "w_array = np.ones(y_train.shape[0], dtype = 'float')\n",
        "for i, val in enumerate(y_train):\n",
        "    w_array[i] = class_weights[val]"
      ],
      "execution_count": null,
      "outputs": []
    },
    {
      "cell_type": "code",
      "metadata": {
        "id": "_htSdAegwDdJ",
        "outputId": "838239ec-53c9-4769-cd57-99cc689b949e"
      },
      "source": [
        "X_train[:2]"
      ],
      "execution_count": null,
      "outputs": [
        {
          "output_type": "execute_result",
          "data": {
            "text/plain": [
              "[TaggedDocument(words=['unable', 'login', 'collaborationplatform', 'unable', 'login', 'collaborationplatform'], tags=['Train_0']),\n",
              " TaggedDocument(words=['hostname66volume', 'f', 'labeldat1hostname66', '9a625d75', 'server', '85', 'space', 'consumed', 'space', 'available', '648', 'k', 'volume', 'f', 'labeldat1hostname66', '9a625d75', 'server', '85', 'space', 'consumed', 'space', 'available', '648', 'k'], tags=['Train_1'])]"
            ]
          },
          "metadata": {
            "tags": []
          },
          "execution_count": 36
        }
      ]
    },
    {
      "cell_type": "markdown",
      "metadata": {
        "id": "gB0pvLgJwDdJ"
      },
      "source": [
        "### Distributed BOW\n",
        "DBOW is the doc2vec model analogous to Skip-gram model in word2vec. The paragraph vectors are obtained by training a neural network on the task of predicting a probability distribution of words in a paragraph given a randomly-sampled word from the paragraph."
      ]
    },
    {
      "cell_type": "code",
      "metadata": {
        "id": "ok49TtQ-wDdJ"
      },
      "source": [
        "def train_doc2vec(corpus):\n",
        "    logging.info('Building Doc2Vec model')\n",
        "    model_dbow = Doc2Vec(dm=0, vector_size=300, negative=5, min_count=1, alpha=0.065, min_alpha=0.065)\n",
        "    model_dbow.build_vocab(corpus)\n",
        "    return model_dbow\n",
        "    "
      ],
      "execution_count": null,
      "outputs": []
    },
    {
      "cell_type": "markdown",
      "metadata": {
        "id": "xMvivBP4wDdK"
      },
      "source": [
        "#### Building a Vocabulary"
      ]
    },
    {
      "cell_type": "code",
      "metadata": {
        "id": "ay3PTinNwDdK",
        "outputId": "fe38266f-6dc4-4515-b8fa-0f24627206b5"
      },
      "source": [
        "model_dbow = Doc2Vec(dm=0, vector_size=300, negative=5, min_count=1, alpha=0.065, min_alpha=0.065)\n",
        "model_dbow.build_vocab([x for x in tqdm(all_data)])"
      ],
      "execution_count": null,
      "outputs": [
        {
          "output_type": "stream",
          "text": [
            "100%|█████████████████████████████████████████████████████████████████████████| 7033/7033 [00:00<00:00, 2349170.98it/s]\n"
          ],
          "name": "stderr"
        }
      ]
    },
    {
      "cell_type": "code",
      "metadata": {
        "id": "PJ-70jT8wDdN"
      },
      "source": [
        "#### Training DBOW model for 30 epochs"
      ],
      "execution_count": null,
      "outputs": []
    },
    {
      "cell_type": "code",
      "metadata": {
        "id": "Ay5L6q0lwDdN",
        "outputId": "10773ae5-e222-4e4d-8667-f8a345bab749"
      },
      "source": [
        "\n",
        "for epoch in range(40):\n",
        "    model_dbow.train(utils.shuffle([x for x in all_data]), total_examples=len(all_data), epochs=1)\n",
        "    model_dbow.alpha -= 0.002\n",
        "    model_dbow.min_alpha = model_dbow.alpha"
      ],
      "execution_count": null,
      "outputs": [
        {
          "output_type": "stream",
          "text": [
            "WARNING:gensim.models.base_any2vec:under 10 jobs per worker: consider setting a smaller `batch_words' for smoother alpha decay\n",
            "WARNING:gensim.models.base_any2vec:under 10 jobs per worker: consider setting a smaller `batch_words' for smoother alpha decay\n",
            "WARNING:gensim.models.base_any2vec:under 10 jobs per worker: consider setting a smaller `batch_words' for smoother alpha decay\n",
            "WARNING:gensim.models.base_any2vec:under 10 jobs per worker: consider setting a smaller `batch_words' for smoother alpha decay\n",
            "WARNING:gensim.models.base_any2vec:under 10 jobs per worker: consider setting a smaller `batch_words' for smoother alpha decay\n",
            "WARNING:gensim.models.base_any2vec:under 10 jobs per worker: consider setting a smaller `batch_words' for smoother alpha decay\n",
            "WARNING:gensim.models.base_any2vec:under 10 jobs per worker: consider setting a smaller `batch_words' for smoother alpha decay\n",
            "WARNING:gensim.models.base_any2vec:under 10 jobs per worker: consider setting a smaller `batch_words' for smoother alpha decay\n",
            "WARNING:gensim.models.base_any2vec:under 10 jobs per worker: consider setting a smaller `batch_words' for smoother alpha decay\n",
            "WARNING:gensim.models.base_any2vec:under 10 jobs per worker: consider setting a smaller `batch_words' for smoother alpha decay\n",
            "WARNING:gensim.models.base_any2vec:under 10 jobs per worker: consider setting a smaller `batch_words' for smoother alpha decay\n",
            "WARNING:gensim.models.base_any2vec:under 10 jobs per worker: consider setting a smaller `batch_words' for smoother alpha decay\n",
            "WARNING:gensim.models.base_any2vec:under 10 jobs per worker: consider setting a smaller `batch_words' for smoother alpha decay\n",
            "WARNING:gensim.models.base_any2vec:under 10 jobs per worker: consider setting a smaller `batch_words' for smoother alpha decay\n",
            "WARNING:gensim.models.base_any2vec:under 10 jobs per worker: consider setting a smaller `batch_words' for smoother alpha decay\n",
            "WARNING:gensim.models.base_any2vec:under 10 jobs per worker: consider setting a smaller `batch_words' for smoother alpha decay\n",
            "WARNING:gensim.models.base_any2vec:under 10 jobs per worker: consider setting a smaller `batch_words' for smoother alpha decay\n",
            "WARNING:gensim.models.base_any2vec:under 10 jobs per worker: consider setting a smaller `batch_words' for smoother alpha decay\n",
            "WARNING:gensim.models.base_any2vec:under 10 jobs per worker: consider setting a smaller `batch_words' for smoother alpha decay\n",
            "WARNING:gensim.models.base_any2vec:under 10 jobs per worker: consider setting a smaller `batch_words' for smoother alpha decay\n",
            "WARNING:gensim.models.base_any2vec:under 10 jobs per worker: consider setting a smaller `batch_words' for smoother alpha decay\n",
            "WARNING:gensim.models.base_any2vec:under 10 jobs per worker: consider setting a smaller `batch_words' for smoother alpha decay\n",
            "WARNING:gensim.models.base_any2vec:under 10 jobs per worker: consider setting a smaller `batch_words' for smoother alpha decay\n",
            "WARNING:gensim.models.base_any2vec:under 10 jobs per worker: consider setting a smaller `batch_words' for smoother alpha decay\n",
            "WARNING:gensim.models.base_any2vec:under 10 jobs per worker: consider setting a smaller `batch_words' for smoother alpha decay\n",
            "WARNING:gensim.models.base_any2vec:under 10 jobs per worker: consider setting a smaller `batch_words' for smoother alpha decay\n",
            "WARNING:gensim.models.base_any2vec:under 10 jobs per worker: consider setting a smaller `batch_words' for smoother alpha decay\n",
            "WARNING:gensim.models.base_any2vec:under 10 jobs per worker: consider setting a smaller `batch_words' for smoother alpha decay\n",
            "WARNING:gensim.models.base_any2vec:under 10 jobs per worker: consider setting a smaller `batch_words' for smoother alpha decay\n",
            "WARNING:gensim.models.base_any2vec:under 10 jobs per worker: consider setting a smaller `batch_words' for smoother alpha decay\n",
            "WARNING:gensim.models.base_any2vec:under 10 jobs per worker: consider setting a smaller `batch_words' for smoother alpha decay\n",
            "WARNING:gensim.models.base_any2vec:under 10 jobs per worker: consider setting a smaller `batch_words' for smoother alpha decay\n",
            "WARNING:gensim.models.base_any2vec:under 10 jobs per worker: consider setting a smaller `batch_words' for smoother alpha decay\n",
            "WARNING:gensim.models.base_any2vec:under 10 jobs per worker: consider setting a smaller `batch_words' for smoother alpha decay\n",
            "WARNING:gensim.models.base_any2vec:under 10 jobs per worker: consider setting a smaller `batch_words' for smoother alpha decay\n",
            "WARNING:gensim.models.base_any2vec:under 10 jobs per worker: consider setting a smaller `batch_words' for smoother alpha decay\n",
            "WARNING:gensim.models.base_any2vec:under 10 jobs per worker: consider setting a smaller `batch_words' for smoother alpha decay\n",
            "WARNING:gensim.models.base_any2vec:under 10 jobs per worker: consider setting a smaller `batch_words' for smoother alpha decay\n",
            "WARNING:gensim.models.base_any2vec:under 10 jobs per worker: consider setting a smaller `batch_words' for smoother alpha decay\n",
            "WARNING:gensim.models.base_any2vec:under 10 jobs per worker: consider setting a smaller `batch_words' for smoother alpha decay\n"
          ],
          "name": "stderr"
        }
      ]
    },
    {
      "cell_type": "markdown",
      "metadata": {
        "id": "cG489NAdwDdN"
      },
      "source": [
        "#### Building the Final Vector Feature for the Classifier"
      ]
    },
    {
      "cell_type": "code",
      "metadata": {
        "id": "iGKfGRuLwDdN"
      },
      "source": [
        "\n",
        "def get_vectors(model, corpus_size, vectors_size, vectors_type):\n",
        "    \"\"\"\n",
        "    Get vectors from trained doc2vec model\n",
        "    :param doc2vec_model: Trained Doc2Vec model\n",
        "    :param corpus_size: Size of the data\n",
        "    :param vectors_size: Size of the embedding vectors\n",
        "    :param vectors_type: Training or Testing vectors\n",
        "    :return: list of vectors\n",
        "    \"\"\"\n",
        "    vectors = np.zeros((corpus_size, vectors_size))\n",
        "    for i in range(0, corpus_size):\n",
        "        prefix = vectors_type + '_' + str(i)\n",
        "        vectors[i] = model.docvecs[prefix]\n",
        "    return vectors"
      ],
      "execution_count": null,
      "outputs": []
    },
    {
      "cell_type": "code",
      "metadata": {
        "id": "QoYY4QcUwDdN"
      },
      "source": [
        "\n",
        "train_vectors_dbow = get_vectors(model_dbow, len(X_train), 300, 'Train')\n",
        "test_vectors_dbow = get_vectors(model_dbow, len(X_test), 300, 'Test')"
      ],
      "execution_count": null,
      "outputs": []
    },
    {
      "cell_type": "markdown",
      "metadata": {
        "id": "p-x6-icewDdN"
      },
      "source": [
        "#### Train the Logistic Regression Classifier."
      ]
    },
    {
      "cell_type": "code",
      "metadata": {
        "id": "HxaUKzclwDdN"
      },
      "source": [
        "\n",
        "logreg = LogisticRegression(n_jobs=1, C=1e5,class_weight='balanced')\n",
        "logreg.fit(train_vectors_dbow, y_train)\n",
        "y_pred = logreg.predict(test_vectors_dbow)"
      ],
      "execution_count": null,
      "outputs": []
    },
    {
      "cell_type": "code",
      "metadata": {
        "id": "LvLr9mjvwDdN",
        "outputId": "b6da7c8e-1db9-42b4-c36c-0394e59cf813"
      },
      "source": [
        "\n",
        "print('accuracy %s' % accuracy_score(y_pred, y_test))\n",
        "print('f1 score %s' % f1_score(y_pred,y_test,average='weighted'))\n",
        "print(classification_report(y_test, y_pred))\n",
        "print(confusion_matrix(y_test, y_pred))\n",
        "\n",
        "log_entry = pd.DataFrame([[\"Doc2Vec (dbow) - LogisticRegression\",accuracy_score(y_pred, y_test),f1_score(y_pred,y_test,average='weighted')]], columns=log_cols)\n",
        "log = log.append(log_entry)"
      ],
      "execution_count": null,
      "outputs": [
        {
          "output_type": "stream",
          "text": [
            "accuracy 0.5678749111584932\n",
            "f1 score 0.5209679345597619\n",
            "              precision    recall  f1-score   support\n",
            "\n",
            "           0       0.95      0.58      0.72       794\n",
            "           1       0.50      0.61      0.55        28\n",
            "           2       0.33      0.52      0.40        50\n",
            "           3       0.48      0.55      0.52        29\n",
            "           4       0.22      0.48      0.30        23\n",
            "           5       0.17      0.45      0.25        44\n",
            "           6       0.29      0.61      0.40        49\n",
            "           7       0.73      0.79      0.76        58\n",
            "           8       0.28      0.61      0.38        23\n",
            "           9       0.17      0.38      0.24        40\n",
            "          10       0.19      0.52      0.28        21\n",
            "          11       0.38      0.55      0.45        31\n",
            "          12       0.36      0.54      0.43        37\n",
            "          13       0.82      0.54      0.65       129\n",
            "          14       0.38      0.49      0.43        51\n",
            "\n",
            "    accuracy                           0.57      1407\n",
            "   macro avg       0.42      0.55      0.45      1407\n",
            "weighted avg       0.74      0.57      0.61      1407\n",
            "\n",
            "[[461   9  32  10  25  70  64   6  22  56  30   1   3   1   4]\n",
            " [  0  17   0   0   1   0   0   0   2   0   0   0   1   2   5]\n",
            " [  2   0  26   0   5   0   1   4   3   3   2   0   1   2   1]\n",
            " [  0   4   1  16   0   0   1   0   3   0   0   0   3   0   1]\n",
            " [  2   2   3   0  11   3   0   0   1   0   0   0   0   0   1]\n",
            " [  6   0   2   0   0  20   1   1   1   9   4   0   0   0   0]\n",
            " [  8   0   4   2   1   2  30   1   0   0   0   0   0   0   1]\n",
            " [  1   0   2   1   0   2   0  46   0   1   5   0   0   0   0]\n",
            " [  1   0   0   0   1   1   0   3  14   2   1   0   0   0   0]\n",
            " [  1   0   2   0   0  14   3   0   1  15   4   0   0   0   0]\n",
            " [  1   1   1   0   0   3   0   2   1   1  11   0   0   0   0]\n",
            " [  0   0   0   0   1   1   0   0   0   0   0  17   4   6   2]\n",
            " [  0   1   0   1   0   0   1   0   0   0   0   5  20   3   6]\n",
            " [  0   0   5   1   5   0   0   0   1   0   0  14  14  70  19]\n",
            " [  1   0   2   2   0   0   1   0   1   0   0   8  10   1  25]]\n"
          ],
          "name": "stdout"
        }
      ]
    },
    {
      "cell_type": "code",
      "metadata": {
        "id": "aw2ZvgklwDdN",
        "outputId": "4078807a-9508-4926-a0ab-b3d3d941d350"
      },
      "source": [
        "xgb_clf = xgb.XGBClassifier(max_depth=7, n_estimators=200, colsample_bytree=0.8, \n",
        "                        subsample=0.8, nthread=10, learning_rate=0.1)\n",
        "xgb_clf = xgb_clf.fit(train_vectors_dbow, y_train,sample_weight=w_array)\n",
        "y_pred = xgb_clf.predict(test_vectors_dbow)\n",
        "\n",
        "print('accuracy %s' % accuracy_score(y_pred, y_test))\n",
        "#print('f1 score %s' % f1_score(y_pred,y_test,average='weighted'))\n",
        "print(classification_report(y_test, y_pred))\n",
        "print(confusion_matrix(y_test, y_pred))"
      ],
      "execution_count": null,
      "outputs": [
        {
          "output_type": "stream",
          "text": [
            "accuracy 0.7484008528784648\n",
            "              precision    recall  f1-score   support\n",
            "\n",
            "           0       0.86      0.93      0.89       794\n",
            "           1       0.63      0.43      0.51        28\n",
            "           2       0.47      0.54      0.50        50\n",
            "           3       0.53      0.55      0.54        29\n",
            "           4       0.39      0.39      0.39        23\n",
            "           5       0.47      0.32      0.38        44\n",
            "           6       0.61      0.47      0.53        49\n",
            "           7       0.80      0.81      0.80        58\n",
            "           8       0.50      0.39      0.44        23\n",
            "           9       0.62      0.38      0.47        40\n",
            "          10       0.55      0.29      0.37        21\n",
            "          11       0.27      0.13      0.17        31\n",
            "          12       0.41      0.32      0.36        37\n",
            "          13       0.68      0.79      0.73       129\n",
            "          14       0.42      0.31      0.36        51\n",
            "\n",
            "    accuracy                           0.75      1407\n",
            "   macro avg       0.55      0.47      0.50      1407\n",
            "weighted avg       0.73      0.75      0.73      1407\n",
            "\n",
            "[[741   1  12   1   5   7  10   3   4   3   2   0   2   0   3]\n",
            " [  3  12   1   4   1   0   0   0   0   0   0   0   0   5   2]\n",
            " [ 11   0  27   0   5   0   1   3   1   1   0   0   0   1   0]\n",
            " [  4   3   0  16   0   0   1   0   2   0   0   0   2   0   1]\n",
            " [ 10   1   2   0   9   0   0   0   1   0   0   0   0   0   0]\n",
            " [ 24   0   2   0   0  14   1   0   0   3   0   0   0   0   0]\n",
            " [ 24   0   2   0   0   0  23   0   0   0   0   0   0   0   0]\n",
            " [  6   0   1   0   0   1   0  47   0   1   2   0   0   0   0]\n",
            " [ 10   0   0   0   0   0   1   2   9   0   1   0   0   0   0]\n",
            " [ 15   0   3   0   0   5   1   1   0  15   0   0   0   0   0]\n",
            " [  5   0   1   0   1   3   0   3   1   1   6   0   0   0   0]\n",
            " [  3   0   0   0   0   0   0   0   0   0   0   4   3  16   5]\n",
            " [  2   0   0   6   0   0   0   0   0   0   0   2  12  13   2]\n",
            " [  1   1   6   0   2   0   0   0   0   0   0   4   4 102   9]\n",
            " [  5   1   1   3   0   0   0   0   0   0   0   5   6  14  16]]\n"
          ],
          "name": "stdout"
        }
      ]
    },
    {
      "cell_type": "markdown",
      "metadata": {
        "id": "EsT0jgSbwDdN"
      },
      "source": [
        "### Distributed Memory\n",
        "\n",
        "Distributed Memory (DM) acts as a memory that remembers what is missing from the current context — or as the topic of the paragraph. While the word vectors represent the concept of a word, the document vector intends to represent the concept of a document. We again instantiate a Doc2Vec model with a vector size with 300 words and iterating over the training corpus 30 times."
      ]
    },
    {
      "cell_type": "code",
      "metadata": {
        "id": "gq-s94QpwDdN"
      },
      "source": [
        "\n",
        "model_dm = Doc2Vec(dm=1, dm_mean=1, vector_size=300, window=3, negative=5, min_count=1, workers=5, alpha=0.065, min_alpha=0.065)\n",
        "model_dm.build_vocab([x for x in all_data])"
      ],
      "execution_count": null,
      "outputs": []
    },
    {
      "cell_type": "code",
      "metadata": {
        "id": "ISYKxiyywDdQ",
        "outputId": "8c2296c2-ba36-4614-913b-1a2164d72c85"
      },
      "source": [
        "for epoch in range(40):\n",
        "    model_dm.train(utils.shuffle([x for x in all_data]), total_examples=len(all_data), epochs=1)\n",
        "    model_dm.alpha -= 0.002\n",
        "    model_dm.min_alpha = model_dm.alpha"
      ],
      "execution_count": null,
      "outputs": [
        {
          "output_type": "stream",
          "text": [
            "WARNING:gensim.models.base_any2vec:under 10 jobs per worker: consider setting a smaller `batch_words' for smoother alpha decay\n",
            "WARNING:gensim.models.base_any2vec:under 10 jobs per worker: consider setting a smaller `batch_words' for smoother alpha decay\n",
            "WARNING:gensim.models.base_any2vec:under 10 jobs per worker: consider setting a smaller `batch_words' for smoother alpha decay\n",
            "WARNING:gensim.models.base_any2vec:under 10 jobs per worker: consider setting a smaller `batch_words' for smoother alpha decay\n",
            "WARNING:gensim.models.base_any2vec:under 10 jobs per worker: consider setting a smaller `batch_words' for smoother alpha decay\n",
            "WARNING:gensim.models.base_any2vec:under 10 jobs per worker: consider setting a smaller `batch_words' for smoother alpha decay\n",
            "WARNING:gensim.models.base_any2vec:under 10 jobs per worker: consider setting a smaller `batch_words' for smoother alpha decay\n",
            "WARNING:gensim.models.base_any2vec:under 10 jobs per worker: consider setting a smaller `batch_words' for smoother alpha decay\n",
            "WARNING:gensim.models.base_any2vec:under 10 jobs per worker: consider setting a smaller `batch_words' for smoother alpha decay\n",
            "WARNING:gensim.models.base_any2vec:under 10 jobs per worker: consider setting a smaller `batch_words' for smoother alpha decay\n",
            "WARNING:gensim.models.base_any2vec:under 10 jobs per worker: consider setting a smaller `batch_words' for smoother alpha decay\n",
            "WARNING:gensim.models.base_any2vec:under 10 jobs per worker: consider setting a smaller `batch_words' for smoother alpha decay\n",
            "WARNING:gensim.models.base_any2vec:under 10 jobs per worker: consider setting a smaller `batch_words' for smoother alpha decay\n",
            "WARNING:gensim.models.base_any2vec:under 10 jobs per worker: consider setting a smaller `batch_words' for smoother alpha decay\n",
            "WARNING:gensim.models.base_any2vec:under 10 jobs per worker: consider setting a smaller `batch_words' for smoother alpha decay\n",
            "WARNING:gensim.models.base_any2vec:under 10 jobs per worker: consider setting a smaller `batch_words' for smoother alpha decay\n",
            "WARNING:gensim.models.base_any2vec:under 10 jobs per worker: consider setting a smaller `batch_words' for smoother alpha decay\n",
            "WARNING:gensim.models.base_any2vec:under 10 jobs per worker: consider setting a smaller `batch_words' for smoother alpha decay\n",
            "WARNING:gensim.models.base_any2vec:under 10 jobs per worker: consider setting a smaller `batch_words' for smoother alpha decay\n",
            "WARNING:gensim.models.base_any2vec:under 10 jobs per worker: consider setting a smaller `batch_words' for smoother alpha decay\n",
            "WARNING:gensim.models.base_any2vec:under 10 jobs per worker: consider setting a smaller `batch_words' for smoother alpha decay\n",
            "WARNING:gensim.models.base_any2vec:under 10 jobs per worker: consider setting a smaller `batch_words' for smoother alpha decay\n",
            "WARNING:gensim.models.base_any2vec:under 10 jobs per worker: consider setting a smaller `batch_words' for smoother alpha decay\n",
            "WARNING:gensim.models.base_any2vec:under 10 jobs per worker: consider setting a smaller `batch_words' for smoother alpha decay\n",
            "WARNING:gensim.models.base_any2vec:under 10 jobs per worker: consider setting a smaller `batch_words' for smoother alpha decay\n",
            "WARNING:gensim.models.base_any2vec:under 10 jobs per worker: consider setting a smaller `batch_words' for smoother alpha decay\n",
            "WARNING:gensim.models.base_any2vec:under 10 jobs per worker: consider setting a smaller `batch_words' for smoother alpha decay\n",
            "WARNING:gensim.models.base_any2vec:under 10 jobs per worker: consider setting a smaller `batch_words' for smoother alpha decay\n",
            "WARNING:gensim.models.base_any2vec:under 10 jobs per worker: consider setting a smaller `batch_words' for smoother alpha decay\n",
            "WARNING:gensim.models.base_any2vec:under 10 jobs per worker: consider setting a smaller `batch_words' for smoother alpha decay\n",
            "WARNING:gensim.models.base_any2vec:under 10 jobs per worker: consider setting a smaller `batch_words' for smoother alpha decay\n",
            "WARNING:gensim.models.base_any2vec:under 10 jobs per worker: consider setting a smaller `batch_words' for smoother alpha decay\n",
            "WARNING:gensim.models.base_any2vec:under 10 jobs per worker: consider setting a smaller `batch_words' for smoother alpha decay\n",
            "WARNING:gensim.models.base_any2vec:under 10 jobs per worker: consider setting a smaller `batch_words' for smoother alpha decay\n",
            "WARNING:gensim.models.base_any2vec:under 10 jobs per worker: consider setting a smaller `batch_words' for smoother alpha decay\n",
            "WARNING:gensim.models.base_any2vec:under 10 jobs per worker: consider setting a smaller `batch_words' for smoother alpha decay\n",
            "WARNING:gensim.models.base_any2vec:under 10 jobs per worker: consider setting a smaller `batch_words' for smoother alpha decay\n",
            "WARNING:gensim.models.base_any2vec:under 10 jobs per worker: consider setting a smaller `batch_words' for smoother alpha decay\n",
            "WARNING:gensim.models.base_any2vec:under 10 jobs per worker: consider setting a smaller `batch_words' for smoother alpha decay\n",
            "WARNING:gensim.models.base_any2vec:under 10 jobs per worker: consider setting a smaller `batch_words' for smoother alpha decay\n"
          ],
          "name": "stderr"
        }
      ]
    },
    {
      "cell_type": "code",
      "metadata": {
        "id": "lOi_KrAXwDdR"
      },
      "source": [
        "\n",
        "train_vectors_dm = get_vectors(model_dm, len(X_train), 300, 'Train')\n",
        "test_vectors_dm = get_vectors(model_dm, len(X_test), 300, 'Test')"
      ],
      "execution_count": null,
      "outputs": []
    },
    {
      "cell_type": "code",
      "metadata": {
        "id": "u-lo39qvwDdR",
        "outputId": "8c33ad79-cf92-457f-99a8-b64fdba83075"
      },
      "source": [
        "logreg = logreg.fit(train_vectors_dm, y_train)\n",
        "y_pred = logreg.predict(test_vectors_dm)\n",
        "\n",
        "print('accuracy %s' % accuracy_score(y_pred, y_test))\n",
        "print('f1 score %s' % f1_score(y_pred,y_test,average='weighted'))\n",
        "print(classification_report(y_test, y_pred))\n",
        "print(confusion_matrix(y_test, y_pred))\n",
        "\n",
        "log_entry = pd.DataFrame([[\"Doc2Vec (dm) - LogisticRegression\",accuracy_score(y_pred, y_test),f1_score(y_pred,y_test,average='weighted')]], columns=log_cols)\n",
        "log = log.append(log_entry)"
      ],
      "execution_count": null,
      "outputs": [
        {
          "output_type": "stream",
          "text": [
            "accuracy 0.4214641080312722\n",
            "f1 score 0.38158314075327643\n",
            "              precision    recall  f1-score   support\n",
            "\n",
            "           0       0.88      0.41      0.56       794\n",
            "           1       0.16      0.46      0.23        28\n",
            "           2       0.25      0.44      0.32        50\n",
            "           3       0.40      0.59      0.47        29\n",
            "           4       0.20      0.43      0.27        23\n",
            "           5       0.19      0.30      0.23        44\n",
            "           6       0.25      0.45      0.32        49\n",
            "           7       0.52      0.74      0.61        58\n",
            "           8       0.16      0.26      0.20        23\n",
            "           9       0.24      0.57      0.34        40\n",
            "          10       0.15      0.43      0.22        21\n",
            "          11       0.16      0.42      0.23        31\n",
            "          12       0.16      0.19      0.18        37\n",
            "          13       0.39      0.43      0.41       129\n",
            "          14       0.18      0.27      0.22        51\n",
            "\n",
            "    accuracy                           0.42      1407\n",
            "   macro avg       0.29      0.43      0.32      1407\n",
            "weighted avg       0.62      0.42      0.46      1407\n",
            "\n",
            "[[326  45  40  15  25  46  55  19  16  47  37  22  13  54  34]\n",
            " [  0  13   1   0   1   0   1   1   1   0   0   1   5   1   3]\n",
            " [  2   0  22   1   7   0   2   3   4   4   1   0   0   4   0]\n",
            " [  1   3   0  17   0   0   2   1   0   0   0   0   3   1   1]\n",
            " [  0   0   0   2  10   0   1   2   1   1   1   0   1   3   1]\n",
            " [  8   0   2   0   1  13   1   4   0   9   0   2   1   3   0]\n",
            " [ 11   1   5   1   1   1  22   1   2   1   1   1   0   1   0]\n",
            " [  2   0   2   0   0   0   0  43   3   3   3   0   1   1   0]\n",
            " [  4   1   2   1   0   1   1   4   6   1   1   0   1   0   0]\n",
            " [  2   0   2   0   0   3   1   3   2  23   4   0   0   0   0]\n",
            " [  0   0   3   0   0   3   0   1   2   1   9   2   0   0   0]\n",
            " [  1   1   0   1   1   0   0   0   0   0   0  13   1  10   3]\n",
            " [  2   3   1   3   1   0   1   0   0   1   0  11   7   5   2]\n",
            " [  6  10   7   0   4   0   0   0   0   3   3  17   6  55  18]\n",
            " [  5   6   2   2   0   1   2   0   0   0   0  13   4   2  14]]\n"
          ],
          "name": "stdout"
        }
      ]
    },
    {
      "cell_type": "code",
      "metadata": {
        "id": "1NMANQMMwDdR",
        "outputId": "bdf2aa36-6db2-4028-baed-a114694d1199"
      },
      "source": [
        "xgb_clf = xgb.XGBClassifier(max_depth=7, n_estimators=200, colsample_bytree=0.8, \n",
        "                        subsample=0.8, nthread=10, learning_rate=0.1)\n",
        "xgb_clf = xgb_clf.fit(train_vectors_dm, y_train,sample_weight=w_array)\n",
        "y_pred = xgb_clf.predict(test_vectors_dm)\n",
        "\n",
        "print('accuracy %s' % accuracy_score(y_pred, y_test))\n",
        "print('f1 score %s' % f1_score(y_pred,y_test,average='weighted'))\n",
        "print(classification_report(y_test, y_pred))\n",
        "print(confusion_matrix(y_test, y_pred))"
      ],
      "execution_count": null,
      "outputs": [
        {
          "output_type": "stream",
          "text": [
            "accuracy 0.7242359630419332\n",
            "f1 score 0.75293351364001\n",
            "              precision    recall  f1-score   support\n",
            "\n",
            "           0       0.81      0.95      0.88       794\n",
            "           1       0.60      0.32      0.42        28\n",
            "           2       0.54      0.52      0.53        50\n",
            "           3       0.67      0.55      0.60        29\n",
            "           4       0.32      0.26      0.29        23\n",
            "           5       0.53      0.20      0.30        44\n",
            "           6       0.61      0.45      0.52        49\n",
            "           7       0.81      0.74      0.77        58\n",
            "           8       0.50      0.22      0.30        23\n",
            "           9       0.65      0.33      0.43        40\n",
            "          10       0.50      0.29      0.36        21\n",
            "          11       0.32      0.19      0.24        31\n",
            "          12       0.29      0.16      0.21        37\n",
            "          13       0.59      0.68      0.63       129\n",
            "          14       0.24      0.14      0.18        51\n",
            "\n",
            "    accuracy                           0.72      1407\n",
            "   macro avg       0.53      0.40      0.44      1407\n",
            "weighted avg       0.69      0.72      0.70      1407\n",
            "\n",
            "[[757   0   9   1   5   3   4   3   3   4   1   0   0   2   2]\n",
            " [  6   9   0   4   1   0   1   0   0   0   0   0   1   3   3]\n",
            " [ 17   0  26   0   2   0   2   2   0   0   0   0   0   1   0]\n",
            " [  6   2   0  16   0   0   2   0   1   0   0   0   1   1   0]\n",
            " [ 13   0   2   0   6   0   0   0   1   0   0   0   0   1   0]\n",
            " [ 30   0   1   0   0   9   2   1   0   0   1   0   0   0   0]\n",
            " [ 25   0   1   0   0   0  22   0   0   0   0   0   0   0   1]\n",
            " [ 11   0   1   0   0   1   0  43   0   0   2   0   0   0   0]\n",
            " [ 15   0   0   0   0   0   1   1   5   0   0   0   0   1   0]\n",
            " [ 22   0   0   0   0   3   1   0   0  13   1   0   0   0   0]\n",
            " [  5   0   2   1   0   1   0   3   0   3   6   0   0   0   0]\n",
            " [  3   0   0   0   1   0   0   0   0   0   0   6   3  16   2]\n",
            " [  9   1   0   1   0   0   0   0   0   0   0   3   6  15   2]\n",
            " [  5   2   5   0   4   0   0   0   0   0   0   7   6  88  12]\n",
            " [ 10   1   1   1   0   0   1   0   0   0   1   3   4  22   7]]\n"
          ],
          "name": "stdout"
        }
      ]
    },
    {
      "cell_type": "markdown",
      "metadata": {
        "id": "VNBAR-U3wDdR"
      },
      "source": [
        "### Model Pairing\n",
        "We also tried combining a paragraph vector from Distributed Bag of Words (DBOW) and Distributed Memory (DM) together for evaluation to check if it improves performance. "
      ]
    },
    {
      "cell_type": "code",
      "metadata": {
        "id": "pqRWEYPvwDdR"
      },
      "source": [
        "model_dbow.delete_temporary_training_data(keep_doctags_vectors=True, keep_inference=True)\n",
        "model_dm.delete_temporary_training_data(keep_doctags_vectors=True, keep_inference=True)"
      ],
      "execution_count": null,
      "outputs": []
    },
    {
      "cell_type": "markdown",
      "metadata": {
        "id": "ePEK1jOOwDdR"
      },
      "source": [
        "#### Concatenate two models with feature vectors"
      ]
    },
    {
      "cell_type": "code",
      "metadata": {
        "id": "RLk8MOccwDdR"
      },
      "source": [
        "def get_concat_vectors(model1,model2, corpus_size, vectors_size, vectors_type):\n",
        "    vectors = np.zeros((corpus_size, vectors_size))\n",
        "    for i in range(0, corpus_size):\n",
        "        prefix = vectors_type + '_' + str(i)\n",
        "        vectors[i] = np.append(model1.docvecs[prefix],model2.docvecs[prefix])\n",
        "    return vectors"
      ],
      "execution_count": null,
      "outputs": []
    },
    {
      "cell_type": "code",
      "metadata": {
        "id": "y9HJXvduwDdS"
      },
      "source": [
        "train_vecs_dbow_dm = get_concat_vectors(model_dbow,model_dm, len(X_train), 600, 'Train')\n",
        "test_vecs_dbow_dm = get_concat_vectors(model_dbow,model_dm, len(X_test), 600, 'Test')"
      ],
      "execution_count": null,
      "outputs": []
    },
    {
      "cell_type": "markdown",
      "metadata": {
        "id": "fVtyhpvtwDdS"
      },
      "source": [
        "#### Train Logistic Regression Models"
      ]
    },
    {
      "cell_type": "code",
      "metadata": {
        "id": "S5_CMnAYwDdS",
        "outputId": "9198abf7-3e5c-4a50-ce0b-acbf5c433199"
      },
      "source": [
        "logreg = logreg.fit(train_vecs_dbow_dm, y_train)\n",
        "y_pred = logreg.predict(test_vecs_dbow_dm)\n",
        "\n",
        "print('accuracy %s' % accuracy_score(y_pred, y_test))\n",
        "print(classification_report(y_test, y_pred))\n",
        "\n",
        "log_entry = pd.DataFrame([[\"Doc2Vec (dbow + dm) - LogisticRegression\",accuracy_score(y_pred, y_test),f1_score(y_pred,y_test,average='weighted')]], columns=log_cols)\n",
        "log = log.append(log_entry)"
      ],
      "execution_count": null,
      "outputs": [
        {
          "output_type": "stream",
          "text": [
            "accuracy 0.566453447050462\n",
            "              precision    recall  f1-score   support\n",
            "\n",
            "           0       0.95      0.60      0.74       794\n",
            "           1       0.52      0.61      0.56        28\n",
            "           2       0.33      0.54      0.41        50\n",
            "           3       0.41      0.62      0.49        29\n",
            "           4       0.28      0.48      0.35        23\n",
            "           5       0.16      0.41      0.23        44\n",
            "           6       0.25      0.57      0.35        49\n",
            "           7       0.69      0.84      0.76        58\n",
            "           8       0.26      0.43      0.33        23\n",
            "           9       0.19      0.40      0.26        40\n",
            "          10       0.23      0.43      0.30        21\n",
            "          11       0.30      0.45      0.36        31\n",
            "          12       0.28      0.41      0.33        37\n",
            "          13       0.77      0.51      0.61       129\n",
            "          14       0.33      0.43      0.38        51\n",
            "\n",
            "    accuracy                           0.57      1407\n",
            "   macro avg       0.40      0.52      0.43      1407\n",
            "weighted avg       0.72      0.57      0.61      1407\n",
            "\n"
          ],
          "name": "stdout"
        }
      ]
    },
    {
      "cell_type": "code",
      "metadata": {
        "id": "OaPlP90DwDdU",
        "outputId": "3abe6c9f-e4fe-41e1-800b-143a0e308b70"
      },
      "source": [
        "xgb_clf = xgb.XGBClassifier(max_depth=7, n_estimators=200, colsample_bytree=0.8, \n",
        "                        subsample=0.8, nthread=10, learning_rate=0.1)\n",
        "xgb_clf = xgb_clf.fit(train_vecs_dbow_dm, y_train)\n",
        "y_pred = xgb_clf.predict(test_vecs_dbow_dm)\n",
        "\n",
        "print('accuracy %s' % accuracy_score(y_pred, y_test))\n",
        "print(classification_report(y_test, y_pred))"
      ],
      "execution_count": null,
      "outputs": [
        {
          "output_type": "stream",
          "text": [
            "accuracy 0.7448471926083866\n",
            "              precision    recall  f1-score   support\n",
            "\n",
            "           0       0.81      0.97      0.88       794\n",
            "           1       0.64      0.32      0.43        28\n",
            "           2       0.52      0.48      0.50        50\n",
            "           3       0.57      0.45      0.50        29\n",
            "           4       0.41      0.30      0.35        23\n",
            "           5       0.33      0.07      0.11        44\n",
            "           6       0.68      0.43      0.53        49\n",
            "           7       0.85      0.78      0.81        58\n",
            "           8       0.71      0.22      0.33        23\n",
            "           9       0.58      0.28      0.37        40\n",
            "          10       0.80      0.19      0.31        21\n",
            "          11       0.57      0.13      0.21        31\n",
            "          12       0.45      0.27      0.34        37\n",
            "          13       0.62      0.82      0.71       129\n",
            "          14       0.50      0.27      0.35        51\n",
            "\n",
            "    accuracy                           0.74      1407\n",
            "   macro avg       0.60      0.40      0.45      1407\n",
            "weighted avg       0.71      0.74      0.71      1407\n",
            "\n"
          ],
          "name": "stdout"
        }
      ]
    },
    {
      "cell_type": "markdown",
      "metadata": {
        "id": "ZOnoBnhxwDdV"
      },
      "source": [
        "<b> We dont see much improvement in the performance using these word embeddings compared to the benchmark model using TFID approach <\\b>"
      ]
    },
    {
      "cell_type": "code",
      "metadata": {
        "id": "L3ucwtx4wDdV",
        "outputId": "edbf934c-476d-470f-a3e5-ba89845d1a63"
      },
      "source": [
        "log.set_index([\"Classifier\"],inplace=True)\n",
        "log.sort_values(by=['f1_score'])"
      ],
      "execution_count": null,
      "outputs": [
        {
          "output_type": "execute_result",
          "data": {
            "text/html": [
              "<div>\n",
              "<style scoped>\n",
              "    .dataframe tbody tr th:only-of-type {\n",
              "        vertical-align: middle;\n",
              "    }\n",
              "\n",
              "    .dataframe tbody tr th {\n",
              "        vertical-align: top;\n",
              "    }\n",
              "\n",
              "    .dataframe thead th {\n",
              "        text-align: right;\n",
              "    }\n",
              "</style>\n",
              "<table border=\"1\" class=\"dataframe\">\n",
              "  <thead>\n",
              "    <tr style=\"text-align: right;\">\n",
              "      <th></th>\n",
              "      <th>accuracy</th>\n",
              "      <th>f1_score</th>\n",
              "    </tr>\n",
              "    <tr>\n",
              "      <th>Classifier</th>\n",
              "      <th></th>\n",
              "      <th></th>\n",
              "    </tr>\n",
              "  </thead>\n",
              "  <tbody>\n",
              "    <tr>\n",
              "      <th>Doc2Vec (dm) - LogisticRegression</th>\n",
              "      <td>0.421464</td>\n",
              "      <td>0.381583</td>\n",
              "    </tr>\n",
              "    <tr>\n",
              "      <th>Word2Vec - LogisticRegression</th>\n",
              "      <td>0.467662</td>\n",
              "      <td>0.415653</td>\n",
              "    </tr>\n",
              "    <tr>\n",
              "      <th>Doc2Vec (dbow) - LogisticRegression</th>\n",
              "      <td>0.567875</td>\n",
              "      <td>0.520968</td>\n",
              "    </tr>\n",
              "    <tr>\n",
              "      <th>Doc2Vec (dbow + dm) - LogisticRegression</th>\n",
              "      <td>0.566453</td>\n",
              "      <td>0.521671</td>\n",
              "    </tr>\n",
              "    <tr>\n",
              "      <th>Xgboost</th>\n",
              "      <td>0.681592</td>\n",
              "      <td>0.661371</td>\n",
              "    </tr>\n",
              "    <tr>\n",
              "      <th>SGDClassifier</th>\n",
              "      <td>0.728500</td>\n",
              "      <td>0.708847</td>\n",
              "    </tr>\n",
              "    <tr>\n",
              "      <th>MultinomialNB</th>\n",
              "      <td>0.658849</td>\n",
              "      <td>0.775546</td>\n",
              "    </tr>\n",
              "    <tr>\n",
              "      <th>LogisticRegression_best_estimator_gcv</th>\n",
              "      <td>0.788202</td>\n",
              "      <td>0.784387</td>\n",
              "    </tr>\n",
              "    <tr>\n",
              "      <th>SGD_best_estimator_gcv</th>\n",
              "      <td>0.792466</td>\n",
              "      <td>0.787450</td>\n",
              "    </tr>\n",
              "    <tr>\n",
              "      <th>LogisticRegression</th>\n",
              "      <td>0.788202</td>\n",
              "      <td>0.792341</td>\n",
              "    </tr>\n",
              "    <tr>\n",
              "      <th>LinearSVC</th>\n",
              "      <td>0.797441</td>\n",
              "      <td>0.797100</td>\n",
              "    </tr>\n",
              "    <tr>\n",
              "      <th>LinearSVC_best_estimator_gcv</th>\n",
              "      <td>0.797441</td>\n",
              "      <td>0.797100</td>\n",
              "    </tr>\n",
              "  </tbody>\n",
              "</table>\n",
              "</div>"
            ],
            "text/plain": [
              "                                          accuracy  f1_score\n",
              "Classifier                                                  \n",
              "Doc2Vec (dm) - LogisticRegression         0.421464  0.381583\n",
              "Word2Vec - LogisticRegression             0.467662  0.415653\n",
              "Doc2Vec (dbow) - LogisticRegression       0.567875  0.520968\n",
              "Doc2Vec (dbow + dm) - LogisticRegression  0.566453  0.521671\n",
              "Xgboost                                   0.681592  0.661371\n",
              "SGDClassifier                             0.728500  0.708847\n",
              "MultinomialNB                             0.658849  0.775546\n",
              "LogisticRegression_best_estimator_gcv     0.788202  0.784387\n",
              "SGD_best_estimator_gcv                    0.792466  0.787450\n",
              "LogisticRegression                        0.788202  0.792341\n",
              "LinearSVC                                 0.797441  0.797100\n",
              "LinearSVC_best_estimator_gcv              0.797441  0.797100"
            ]
          },
          "metadata": {
            "tags": []
          },
          "execution_count": 56
        }
      ]
    },
    {
      "cell_type": "code",
      "metadata": {
        "id": "ai5ZLjhvwDdV",
        "outputId": "1c74aeb9-d00f-4c66-f2ab-c527e7e689f5"
      },
      "source": [
        "log.sort_values(by=['f1_score']).plot(kind='barh',figsize=[7,6])"
      ],
      "execution_count": null,
      "outputs": [
        {
          "output_type": "execute_result",
          "data": {
            "text/plain": [
              "<matplotlib.axes._subplots.AxesSubplot at 0x23d838f2278>"
            ]
          },
          "metadata": {
            "tags": []
          },
          "execution_count": 57
        },
        {
          "output_type": "display_data",
          "data": {
            "image/png": "[encoded data removed]",
            "text/plain": [
              "<Figure size 504x432 with 1 Axes>"
            ]
          },
          "metadata": {
            "tags": [],
            "needs_background": "light"
          }
        }
      ]
    },
    {
      "cell_type": "code",
      "metadata": {
        "id": "dTATmblkwDdV",
        "outputId": "11a921e6-7309-44e7-9714-0d1b1c968663"
      },
      "source": [
        "from scipy import spatial\n",
        "sentence = ['The job did not start this morning on time']\n",
        "#get_concat_vectors(model_dbow,model_dm, len(X_train), 1200, 'Train')\n",
        "#mod1 = model_dm.infer_vector(sentence.split())\n",
        "#mod2 =  model_dbow.infer_vector(sentence.split())\n",
        "\n",
        "#ind_vec = np.append(mod1,mod2)\n",
        "\n",
        "\n",
        "#inferred_vector=model_dm.infer_vector(sentence.split())\n",
        "print(encoder.inverse_transform(xgboost.predict(sentence)))\n",
        "print(encoder.inverse_transform(logreg_1.predict(sentence)))\n",
        "\n",
        "#enc.inverse_transform(encoded)"
      ],
      "execution_count": null,
      "outputs": [
        {
          "output_type": "stream",
          "text": [
            "['GRP_8']\n",
            "['GRP_8']\n"
          ],
          "name": "stdout"
        }
      ]
    },
    {
      "cell_type": "code",
      "metadata": {
        "id": "hHAd5L5ZwDdW",
        "outputId": "530a69cd-b541-476c-e97a-f098465bc323"
      },
      "source": [
        "\n",
        "### Save the model\n",
        "from sklearn.externals import joblib\n",
        "joblib.dump(logreg_1, 'auto_ticket_assignment.pkl', compress=1)"
      ],
      "execution_count": null,
      "outputs": [
        {
          "output_type": "execute_result",
          "data": {
            "text/plain": [
              "['auto_ticket_assignment.pkl']"
            ]
          },
          "metadata": {
            "tags": []
          },
          "execution_count": 59
        }
      ]
    },
    {
      "cell_type": "code",
      "metadata": {
        "id": "Q3bZZFauwDdW",
        "outputId": "e46c1065-b842-4c55-e33a-56370c0c3cba"
      },
      "source": [
        "le_name_mapping = dict(zip(encoder.classes_, encoder.transform(encoder.classes_)))\n",
        "le_name_mapping"
      ],
      "execution_count": null,
      "outputs": [
        {
          "output_type": "execute_result",
          "data": {
            "text/plain": [
              "{'GRP_0': 0,\n",
              " 'GRP_10': 1,\n",
              " 'GRP_12': 2,\n",
              " 'GRP_13': 3,\n",
              " 'GRP_14': 4,\n",
              " 'GRP_19': 5,\n",
              " 'GRP_2': 6,\n",
              " 'GRP_24': 7,\n",
              " 'GRP_25': 8,\n",
              " 'GRP_3': 9,\n",
              " 'GRP_33': 10,\n",
              " 'GRP_5': 11,\n",
              " 'GRP_6': 12,\n",
              " 'GRP_8': 13,\n",
              " 'GRP_9': 14}"
            ]
          },
          "metadata": {
            "tags": []
          },
          "execution_count": 60
        }
      ]
    },
    {
      "cell_type": "code",
      "metadata": {
        "id": "Q0W-Jc6-wDdZ",
        "outputId": "c53d33b4-f9ae-41fa-a254-5ce68d7760c0"
      },
      "source": [
        "\n",
        "from sklearn.externals import joblib\n",
        "model = joblib.load('auto_ticket_assignment.pkl')\n",
        "\n",
        "sentence = 'not able to connect to my system'\n",
        "encoder.inverse_transform(model.predict([sentence]))"
      ],
      "execution_count": null,
      "outputs": [
        {
          "output_type": "execute_result",
          "data": {
            "text/plain": [
              "array(['GRP_0'], dtype=object)"
            ]
          },
          "metadata": {
            "tags": []
          },
          "execution_count": 61
        }
      ]
    },
    {
      "cell_type": "markdown",
      "metadata": {
        "id": "1zFYeoZjwDdZ"
      },
      "source": [
        "# Finals Conclusions fo Approach1\n",
        "\n",
        "- We first analysed the dataset provided to us, undestood the structure of the data provided - number of columns, field , datatypes etc.\n",
        "- We did Exploratory Data Analysis to derive further insights from this data set and we found that\n",
        "    - Data is very much imbalanced, there are around ~45% of the Groups with less than 20 tickets.\n",
        "    - Few of the tickets are in foreign language like German\n",
        "    - The data has lot of noise in it, for eg- few tickets related to account setup are spread across multiple assignment groups.\n",
        "    \n",
        "- We performed the data cleaning and preprocessing\n",
        "    - Translation: A small number of tickets were written in German. Hence, we used the Google translate python api  to convert German to English to generate the input data for the next steps. However, the google translator rest api can only process a limited number of texts on a daily basis, so we translated the text in batches and saved the file for further processing.\n",
        "    - Make text all lowercase so that the algorithm does not treat the same words in different cases as different\n",
        "    - Removing Noise i.e everything that isn’t in a standard number or letter i.e Punctuation, Numerical values\n",
        "    - Removing extract spaces\n",
        "    - Removed punctuations\n",
        "    - Removed words containing numbers\n",
        "    - Stopword Removal: Sometimes, some extremely common words which would appear to be of little value in helping select documents matching a user need are excluded from the vocabulary entirely. These words are called stop words\n",
        "    - Lemmatization\n",
        "    - Tokenization: Tokenization is just the term used to describe the process of converting the normal text strings into a list of tokens i.e words that we actually want. Sentence tokenizer can be used to find the list of sentences and Word tokenizer can be used to find the list of words in strings.\n",
        "    \n",
        "\n",
        "- We then ran a basic benchmarck model using the cleaned and preprocessed dataset\n",
        "    - Since the dataset is very imbalanced, We considered a subset of groups for predictions.  In 74 groups, 46% of tickets belong to group 1 and 16 groups just have more than 100 tickets, rest of the Assignment groups have very less ticket counts which might not add much value to the model prediction. If we conducted random sampling towards all the subcategories, then we would face a problem that we might miss all the tickets in some categories. Hence, we considered the groups that have more than 100 tickets. \n",
        "    - We trained the data using below models:\n",
        "        - Multinomial NB\n",
        "        - Linear Support vector Machine\n",
        "        - Logistic regression\n",
        "        - Xgboost\n",
        "        \n",
        "- LinearSVC gives better performance with \n",
        "    - accuracy 0.833642\n",
        "    - f1 score 0.818053\n",
        "\n",
        "<b> Although, it seems like the call is biased towards GRP_0 which has a majority of samples. </b>\n",
        "\n",
        "\n",
        "\n",
        "- Even after downsampling the data we see that the predictions are biased towards GRP_0 which has a majority of samples.\n",
        "- Imbalance causes two problems:\n",
        "    - Training is inefficient as most samples are easy examples that contribute no useful learning signal;\n",
        "    - The easy examples can overwhelm training and lead to degenerate models.\n",
        "    A common solution is to perform some form of hard negative mining that samples hard examples during training or more complex sampling/re weighing schemes.In order to handle the imbalance problem  we used class_weight=balanced hyperparameter while training the model, which tells the model to \"pay more attention\" to samples from an under-represented class.  \n",
        "- Although, the accuracy and f1_score went down. This ensured that the classes were being correctly classified with lesser number of missclassification and good precision/recall scores for all the classes\n",
        "\n",
        "- Next, we also tried using pretrained word embedding, but the only challenge was that we could not find any embeddings trained on ITSM data. We used the glove model with 100d for this, and then used logistic regression and Xgboost to train the model. But, the scores were poorer than the benchmark model.\n",
        " \n",
        "- Then, we also tried vector space modelling using Doc2Vec with DistributedBOW and Distributed Memory approach, though ‘Doc2Vec’ is a more advanced model in NLP rather than ‘Tf-Idf’, but still in our case, it is not giving proper results. We have tried with a linear  & boosting based classifier respectively.\n",
        "  \n",
        "  In our dataset, ‘texts’ are domain-specific. Furthermore, ‘Doc2Vec’ model is more suitable for very well written grammatically correct texts. In our case, texts are quite rough in nature.It is also proven in various examples and Data Sc ientist’s experiments that though ‘Tf-Idf’ model is inferior as compared to ‘Doc2Vec’, but still it gives better result while classifying very domain specific texts.\n",
        " \n",
        " \n",
        " - Linear SVC gave better performance with hyperparameter tuning and this model would be used for classifying the tickets into one of the groups.\n",
        "    - accuracy 0.797441\n",
        "    - f1 score 0.797100\n",
        "\n",
        "The performance can be further improved by collecting more data for tickets and by running deep learning models like RNN and LSTM's."
      ]
    },
    {
      "cell_type": "code",
      "metadata": {
        "id": "fMxMJsGAwDdZ"
      },
      "source": [
        ""
      ],
      "execution_count": null,
      "outputs": []
    }
  ]
}