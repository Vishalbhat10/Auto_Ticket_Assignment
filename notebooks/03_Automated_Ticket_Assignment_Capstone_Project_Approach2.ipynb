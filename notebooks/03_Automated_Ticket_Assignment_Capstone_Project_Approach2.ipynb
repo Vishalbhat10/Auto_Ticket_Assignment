{
  "nbformat": 4,
  "nbformat_minor": 0,
  "metadata": {
    "kernelspec": {
      "name": "python3",
      "display_name": "Python 3"
    },
    "toc": {
      "base_numbering": 1,
      "nav_menu": {},
      "number_sections": true,
      "sideBar": true,
      "skip_h1_title": false,
      "title_cell": "Table of Contents",
      "title_sidebar": "Contents",
      "toc_cell": false,
      "toc_position": {},
      "toc_section_display": true,
      "toc_window_display": false
    },
    "colab": {
      "name": "03 - Automated Ticket Assignment - Capstone Project - Approach2.ipynb",
      "provenance": [],
      "toc_visible": true
    },
    "accelerator": "GPU"
  },
  "cells": [
    {
      "cell_type": "markdown",
      "metadata": {
        "id": "P6U1SeAnzllo"
      },
      "source": [
        "# Automatic Ticket Assignment - Capstone Project - Approach2\n",
        "\n",
        "## Problem Statement - \n",
        "\n",
        "In most of the IT organizations, the assignment of incidents to appropriate IT groups is still a manual process. Manual assignment of incidents is time consuming and requires human efforts. There may be mistakes due to human errors and resource consumption is carried out ineffectively because of the misaddressing. On the other hand, manual assignment increases the response and resolution times which result in user satisfaction deterioration / poor customer service. \n",
        "\n",
        "_<font color=blue>This capstone project intends to reduce the manual intervention of IT operations or Service desk teams by automating the ticket assignment process.The goal here is to create a text classification based ML model that can automatically  classify any new tickets by analysing ticket description to one of the relevant Assignment groups, which could be later integrated to any ITSM tool like Service Now. Based on the ticket description our model will output the probability of assigning it to one of the 74 Groups.</font>_\n",
        "\n",
        "The solution would be implemented using below approach:\n",
        "\n",
        "In the AS-IS process it's mentioned that around ~54% of the incidents are resolved by L1 / L2 teams and the rest will be resolved as L3. So the assumption is that GRP_0 and GRP_8 which contribute 54% of the tickets are related to L1/L2 teams and the rest of the tickets belongs to L3 teams\n",
        "\n",
        "So firstly, the ticket would be classified into L1/L2 or L3 classes and then it would be further classified into one of the given assignment groups. "
      ]
    },
    {
      "cell_type": "code",
      "metadata": {
        "colab": {
          "base_uri": "https://localhost:8080/"
        },
        "id": "IGmGDXCSVx7h",
        "outputId": "46e86809-672e-43ea-b208-fc743fe696dd"
      },
      "source": [
        "from google.colab import drive\n",
        "drive.mount('/content/drive')"
      ],
      "execution_count": null,
      "outputs": [
        {
          "output_type": "stream",
          "text": [
            "Mounted at /content/drive\n"
          ],
          "name": "stdout"
        }
      ]
    },
    {
      "cell_type": "code",
      "metadata": {
        "colab": {
          "base_uri": "https://localhost:8080/"
        },
        "id": "wjcZjc23WYsi",
        "outputId": "2fe46ff7-7afe-4e1a-8449-f3ef154f1f79"
      },
      "source": [
        "cd drive/MyDrive/projects/AutoTicketAssignment/"
      ],
      "execution_count": null,
      "outputs": [
        {
          "output_type": "stream",
          "text": [
            "/content/drive/MyDrive/projects/AutoTicketAssignment\n"
          ],
          "name": "stdout"
        }
      ]
    },
    {
      "cell_type": "markdown",
      "metadata": {
        "id": "_xmQ-9Cfzllp"
      },
      "source": [
        "### Import libraries"
      ]
    },
    {
      "cell_type": "code",
      "metadata": {
        "id": "zReBCzBUzllp"
      },
      "source": [
        "import pandas as pd\n",
        "import numpy as np\n",
        "import re\n",
        "import string\n",
        "\n",
        "from sklearn.linear_model import LogisticRegression \n",
        "from sklearn.naive_bayes import MultinomialNB\n",
        "from sklearn.multiclass import OneVsRestClassifier\n",
        "\n",
        "\n",
        "from sklearn.model_selection import cross_val_score\n",
        "\n",
        "from sklearn import metrics\n",
        "from sklearn.metrics import classification_report\n",
        "from sklearn.metrics import confusion_matrix\n",
        "from sklearn.model_selection import GridSearchCV\n",
        "from sklearn.pipeline import make_pipeline\n",
        "\n",
        "import warnings \n",
        "warnings.filterwarnings('ignore')"
      ],
      "execution_count": null,
      "outputs": []
    },
    {
      "cell_type": "markdown",
      "metadata": {
        "id": "XYpR2-ZLzllq"
      },
      "source": [
        "### Load the preprocessed dataset"
      ]
    },
    {
      "cell_type": "code",
      "metadata": {
        "colab": {
          "base_uri": "https://localhost:8080/",
          "height": 289
        },
        "id": "GU2CLfyyzllq",
        "outputId": "879db459-f80f-4f50-f25c-1901f3eec91c"
      },
      "source": [
        "df_incidents_level = pd.read_csv('processed_file_modellling.csv',encoding='utf-8')\n",
        "df_incidents_level.head()"
      ],
      "execution_count": null,
      "outputs": [
        {
          "output_type": "execute_result",
          "data": {
            "text/html": [
              "<div>\n",
              "<style scoped>\n",
              "    .dataframe tbody tr th:only-of-type {\n",
              "        vertical-align: middle;\n",
              "    }\n",
              "\n",
              "    .dataframe tbody tr th {\n",
              "        vertical-align: top;\n",
              "    }\n",
              "\n",
              "    .dataframe thead th {\n",
              "        text-align: right;\n",
              "    }\n",
              "</style>\n",
              "<table border=\"1\" class=\"dataframe\">\n",
              "  <thead>\n",
              "    <tr style=\"text-align: right;\">\n",
              "      <th></th>\n",
              "      <th>Assignment group</th>\n",
              "      <th>cleaned_description</th>\n",
              "      <th>num_wds</th>\n",
              "      <th>avg_word</th>\n",
              "      <th>uniq_wds</th>\n",
              "      <th>token_desc</th>\n",
              "      <th>Target</th>\n",
              "    </tr>\n",
              "  </thead>\n",
              "  <tbody>\n",
              "    <tr>\n",
              "      <th>0</th>\n",
              "      <td>GRP_0</td>\n",
              "      <td>login issue verified user detailsemployee mana...</td>\n",
              "      <td>19</td>\n",
              "      <td>7.157895</td>\n",
              "      <td>16</td>\n",
              "      <td>login issue verified user detailsemployee mana...</td>\n",
              "      <td>L1/L2</td>\n",
              "    </tr>\n",
              "    <tr>\n",
              "      <th>1</th>\n",
              "      <td>GRP_0</td>\n",
              "      <td>outlook hmjdrvpbkomuaywn teammy meetingsskype ...</td>\n",
              "      <td>13</td>\n",
              "      <td>7.538462</td>\n",
              "      <td>12</td>\n",
              "      <td>outlook hmjdrvpbkomuaywn teammy meetingsskype ...</td>\n",
              "      <td>L1/L2</td>\n",
              "    </tr>\n",
              "    <tr>\n",
              "      <th>2</th>\n",
              "      <td>GRP_0</td>\n",
              "      <td>cant log vpn eylqgodmybqkwiami cannot log vpn</td>\n",
              "      <td>7</td>\n",
              "      <td>5.571429</td>\n",
              "      <td>5</td>\n",
              "      <td>cant log vpn eylqgodmybqkwiami cannot log vpn</td>\n",
              "      <td>L1/L2</td>\n",
              "    </tr>\n",
              "    <tr>\n",
              "      <th>3</th>\n",
              "      <td>GRP_0</td>\n",
              "      <td>unable access hrtool page unable access hrtool...</td>\n",
              "      <td>8</td>\n",
              "      <td>5.500000</td>\n",
              "      <td>4</td>\n",
              "      <td>unable access hrtool page unable access hrtool...</td>\n",
              "      <td>L1/L2</td>\n",
              "    </tr>\n",
              "    <tr>\n",
              "      <th>4</th>\n",
              "      <td>GRP_0</td>\n",
              "      <td>skype error skype error</td>\n",
              "      <td>4</td>\n",
              "      <td>5.000000</td>\n",
              "      <td>2</td>\n",
              "      <td>skype error skype error</td>\n",
              "      <td>L1/L2</td>\n",
              "    </tr>\n",
              "  </tbody>\n",
              "</table>\n",
              "</div>"
            ],
            "text/plain": [
              "  Assignment group  ... Target\n",
              "0            GRP_0  ...  L1/L2\n",
              "1            GRP_0  ...  L1/L2\n",
              "2            GRP_0  ...  L1/L2\n",
              "3            GRP_0  ...  L1/L2\n",
              "4            GRP_0  ...  L1/L2\n",
              "\n",
              "[5 rows x 7 columns]"
            ]
          },
          "metadata": {
            "tags": []
          },
          "execution_count": 5
        }
      ]
    },
    {
      "cell_type": "markdown",
      "metadata": {
        "id": "MemolymVzllv"
      },
      "source": [
        "Since the dataset is very imbalanced, we will be considering a subset of groups for predictions. In 74 groups, 46% of tickets belong to group 1 and 16 groups have more than 100 tickets and around 22 groups have more than 50 tickets, rest of the Assignment groups have very less ticket counts which might not add much value to the model prediction. If we conducted random sampling towards all the subcategories, then we would face a problem that we might miss all the tickets in some categories. Hence, we considered the groups that have more than 50 tickets in this appoach"
      ]
    },
    {
      "cell_type": "code",
      "metadata": {
        "id": "5anmAUe9WuXs"
      },
      "source": [
        "df_incidents_level.rename(columns={'Assignment group': 'Assignment_group'}, inplace=True)"
      ],
      "execution_count": null,
      "outputs": []
    },
    {
      "cell_type": "code",
      "metadata": {
        "id": "y1akg62Kzllv"
      },
      "source": [
        "df_incidents_level = df_incidents_level[df_incidents_level['Assignment_group'].map(df_incidents_level['Assignment_group'].value_counts()) > 50]\n",
        "x = df_incidents_level['token_desc']\n",
        "y = df_incidents_level['Target']\n",
        "\n",
        "from sklearn import preprocessing\n",
        "encoder = preprocessing.LabelEncoder()\n",
        "# encoding train labels \n",
        "encoder.fit(y)\n",
        "y = encoder.transform(y)\n",
        "\n",
        "\n",
        "from sklearn.model_selection import train_test_split\n",
        "X_train, X_test, y_train, y_test = train_test_split(x, y, test_size= 0.2, random_state=13,stratify=y)\n",
        "\n",
        "from sklearn.utils.class_weight import compute_class_weight\n",
        "class_weights = compute_class_weight('balanced', np.unique(y_train), y_train)\n",
        "class_weights\n",
        "\n",
        "w_array = np.ones(y_train.shape[0], dtype = 'float')\n",
        "for i, val in enumerate(y_train):\n",
        "    w_array[i] = class_weights[val]\n",
        "    \n",
        "    \n",
        "log_cols=[\"Classifier\", \"accuracy\",\"f1_score\"]\n",
        "log1 = pd.DataFrame(columns=log_cols)"
      ],
      "execution_count": null,
      "outputs": []
    },
    {
      "cell_type": "code",
      "metadata": {
        "id": "WZQI3SnUzllv"
      },
      "source": [
        "def multiclass_logloss(actual, predicted, eps=1e-15):\n",
        "    \"\"\"Multi class version of Logarithmic Loss metric.\n",
        "    :param actual: Array containing the actual target classes\n",
        "    :param predicted: Matrix with class predictions, one probability per class\n",
        "    \"\"\"\n",
        "    # Convert 'actual' to a binary array if it's not already:\n",
        "    if len(actual.shape) == 1:\n",
        "        actual2 = np.zeros((actual.shape[0], predicted.shape[1]))\n",
        "        for i, val in enumerate(actual):\n",
        "            actual2[i, val] = 1\n",
        "        actual = actual2\n",
        "\n",
        "    clip = np.clip(predicted, eps, 1 - eps)\n",
        "    rows = actual.shape[0]\n",
        "    vsota = np.sum(actual * np.log(clip))\n",
        "    return -1.0 / rows * vsota"
      ],
      "execution_count": null,
      "outputs": []
    },
    {
      "cell_type": "markdown",
      "metadata": {
        "id": "Tx4-i6JTzllv"
      },
      "source": [
        "### Modeling\n",
        "\n",
        "Pass the data to various models which learns to classify the tickets into one of the two groups -  L1/L2 or L3 class"
      ]
    },
    {
      "cell_type": "markdown",
      "metadata": {
        "id": "CygqdbSEzllv"
      },
      "source": [
        "#### Multinomial Naive Bayes"
      ]
    },
    {
      "cell_type": "code",
      "metadata": {
        "colab": {
          "base_uri": "https://localhost:8080/"
        },
        "id": "ZTs9aq2Vzllv",
        "outputId": "3cec3e3d-4f79-4e31-ca9a-b1eaf3ae59e6"
      },
      "source": [
        "from sklearn.naive_bayes import MultinomialNB\n",
        "from sklearn.feature_extraction.text import CountVectorizer\n",
        "\n",
        "from sklearn.pipeline import Pipeline\n",
        "from sklearn.feature_extraction.text import TfidfTransformer\n",
        "\n",
        "nb = Pipeline([('vect', CountVectorizer()),\n",
        "               ('tfidf', TfidfTransformer()),\n",
        "               ('clf', MultinomialNB()),\n",
        "              ])\n",
        "nb.fit(X_train, y_train)\n",
        "\n",
        "\n",
        "from sklearn.metrics import accuracy_score, confusion_matrix, f1_score\n",
        "from sklearn.metrics import classification_report\n",
        "y_pred = nb.predict(X_test)\n",
        "\n",
        "predictions = nb.predict_proba(X_test)\n",
        "\n",
        "print('accuracy %s' % accuracy_score(y_pred, y_test)) \n",
        "print('f1 score %s' % f1_score(y_pred, y_test,average='weighted')) \n",
        "print (\"logloss: %0.3f \" % multiclass_logloss(y_test,predictions))\n",
        "\n",
        "print(classification_report(y_test, y_pred))\n",
        "\n",
        "print(confusion_matrix(y_test,y_pred))\n",
        "\n",
        "\n",
        "log_entry = pd.DataFrame([[\"MultinomialNB\",accuracy_score(y_pred, y_test),f1_score(y_pred, y_test,average='weighted')]], columns=log_cols)\n",
        "log1 = log1.append(log_entry)"
      ],
      "execution_count": null,
      "outputs": [
        {
          "output_type": "stream",
          "text": [
            "accuracy 0.5618122977346278\n",
            "f1 score 0.6216366968921104\n",
            "logloss: 0.699 \n",
            "              precision    recall  f1-score   support\n",
            "\n",
            "           0       0.57      0.87      0.69       850\n",
            "           1       0.54      0.19      0.28       695\n",
            "\n",
            "    accuracy                           0.56      1545\n",
            "   macro avg       0.55      0.53      0.48      1545\n",
            "weighted avg       0.55      0.56      0.50      1545\n",
            "\n",
            "[[738 112]\n",
            " [565 130]]\n"
          ],
          "name": "stdout"
        }
      ]
    },
    {
      "cell_type": "markdown",
      "metadata": {
        "id": "LK_efiKezllw"
      },
      "source": [
        "#### Linear SVC"
      ]
    },
    {
      "cell_type": "code",
      "metadata": {
        "colab": {
          "base_uri": "https://localhost:8080/"
        },
        "id": "pOGSD1apzllw",
        "outputId": "38ce8962-5432-49c5-f656-177626ac5486"
      },
      "source": [
        "from sklearn.svm import LinearSVC\n",
        "\n",
        "svc = Pipeline([('vect', CountVectorizer()),\n",
        "                ('tfidf', TfidfTransformer()),\n",
        "                ('clf', OneVsRestClassifier(LinearSVC(loss='hinge',random_state=42,class_weight='balanced'))),\n",
        "               ])\n",
        "svc.fit(X_train, y_train)\n",
        "\n",
        "y_pred = svc.predict(X_test)\n",
        "print('accuracy %s' % accuracy_score(y_pred, y_test))\n",
        "print('f1 score %s' % f1_score(y_pred, y_test,average='weighted')) \n",
        "\n",
        "\n",
        "print(classification_report(y_test, y_pred))\n",
        "\n",
        "print(confusion_matrix(y_test,y_pred))\n",
        "log_entry = pd.DataFrame([[\"LinearSVC\",accuracy_score(y_pred, y_test),f1_score(y_pred, y_test,average='weighted')]], columns=log_cols)\n",
        "log1 = log1.append(log_entry)"
      ],
      "execution_count": null,
      "outputs": [
        {
          "output_type": "stream",
          "text": [
            "accuracy 0.5300970873786408\n",
            "f1 score 0.5289222313696916\n",
            "              precision    recall  f1-score   support\n",
            "\n",
            "           0       0.58      0.53      0.55       850\n",
            "           1       0.48      0.53      0.50       695\n",
            "\n",
            "    accuracy                           0.53      1545\n",
            "   macro avg       0.53      0.53      0.53      1545\n",
            "weighted avg       0.53      0.53      0.53      1545\n",
            "\n",
            "[[452 398]\n",
            " [328 367]]\n"
          ],
          "name": "stdout"
        }
      ]
    },
    {
      "cell_type": "markdown",
      "metadata": {
        "id": "ak8i1PbQzllw"
      },
      "source": [
        "#### SGD Classifier"
      ]
    },
    {
      "cell_type": "code",
      "metadata": {
        "colab": {
          "base_uri": "https://localhost:8080/"
        },
        "id": "Zn8Z10phzllw",
        "outputId": "fb7fe70c-e582-4e64-c7bc-10140a06363e"
      },
      "source": [
        "from sklearn.linear_model import SGDClassifier\n",
        "\n",
        "sgd = Pipeline([('vect', CountVectorizer()),\n",
        "                ('tfidf', TfidfTransformer()),\n",
        "                ('clf', SGDClassifier(loss='hinge', penalty='l2',alpha=1e-3, random_state=42, max_iter=100, tol=None,class_weight='balanced')),\n",
        "               ])\n",
        "sgd.fit(X_train, y_train)\n",
        "\n",
        "y_pred = sgd.predict(X_test)\n",
        "print('accuracy %s' % accuracy_score(y_pred, y_test))\n",
        "print('f1 score %s' % f1_score(y_pred, y_test,average='weighted')) \n",
        "\n",
        "\n",
        "print(classification_report(y_test, y_pred))\n",
        "\n",
        "print(confusion_matrix(y_test,y_pred))\n",
        "\n",
        "log_entry = pd.DataFrame([[\"SGDClassifier\",accuracy_score(y_pred, y_test),f1_score(y_pred, y_test,average='weighted')]], columns=log_cols)\n",
        "log1 = log1.append(log_entry)"
      ],
      "execution_count": null,
      "outputs": [
        {
          "output_type": "stream",
          "text": [
            "accuracy 0.5339805825242718\n",
            "f1 score 0.5399247317814854\n",
            "              precision    recall  f1-score   support\n",
            "\n",
            "           0       0.61      0.42      0.50       850\n",
            "           1       0.49      0.67      0.57       695\n",
            "\n",
            "    accuracy                           0.53      1545\n",
            "   macro avg       0.55      0.55      0.53      1545\n",
            "weighted avg       0.56      0.53      0.53      1545\n",
            "\n",
            "[[356 494]\n",
            " [226 469]]\n"
          ],
          "name": "stdout"
        }
      ]
    },
    {
      "cell_type": "markdown",
      "metadata": {
        "id": "n8DP6Qljzllw"
      },
      "source": [
        "#### Logistic Regression"
      ]
    },
    {
      "cell_type": "code",
      "metadata": {
        "colab": {
          "base_uri": "https://localhost:8080/"
        },
        "id": "aGmjSbG7zllw",
        "outputId": "2d3add66-6ba3-40b0-a785-3282dea557c1"
      },
      "source": [
        "from sklearn.linear_model import LogisticRegression\n",
        "\n",
        "logreg_1 = Pipeline([('vect', CountVectorizer()),\n",
        "                ('tfidf', TfidfTransformer()),\n",
        "                ('clf', LogisticRegression(n_jobs=1, C=1e5,class_weight='balanced')),\n",
        "               ])\n",
        "logreg_1.fit(X_train, y_train)\n",
        "\n",
        "y_pred = logreg_1.predict(X_test)\n",
        "predictions = logreg_1.predict_proba(X_test)\n",
        "\n",
        "print('accuracy %s' % accuracy_score(y_pred, y_test))\n",
        "print('f1 score %s' % f1_score(y_pred, y_test,average='weighted')) \n",
        "print (\"logloss: %0.3f \" % multiclass_logloss(y_test,predictions))\n",
        "\n",
        "print(classification_report(y_test, y_pred))\n",
        "\n",
        "print(confusion_matrix(y_test,y_pred))\n",
        "\n",
        "log_entry = pd.DataFrame([[\"LogisticRegression\",accuracy_score(y_pred, y_test),f1_score(y_pred, y_test,average='weighted')]], columns=log_cols)\n",
        "log1 = log1.append(log_entry)"
      ],
      "execution_count": null,
      "outputs": [
        {
          "output_type": "stream",
          "text": [
            "accuracy 0.5029126213592233\n",
            "f1 score 0.5017719754539705\n",
            "logloss: 3.156 \n",
            "              precision    recall  f1-score   support\n",
            "\n",
            "           0       0.55      0.52      0.53       850\n",
            "           1       0.45      0.49      0.47       695\n",
            "\n",
            "    accuracy                           0.50      1545\n",
            "   macro avg       0.50      0.50      0.50      1545\n",
            "weighted avg       0.51      0.50      0.50      1545\n",
            "\n",
            "[[439 411]\n",
            " [357 338]]\n"
          ],
          "name": "stdout"
        }
      ]
    },
    {
      "cell_type": "code",
      "metadata": {
        "colab": {
          "base_uri": "https://localhost:8080/",
          "height": 204
        },
        "id": "ET3t7nptzllw",
        "outputId": "5f6fa62c-48b1-468f-8dc3-e4ba7754a771"
      },
      "source": [
        "log1.set_index([\"Classifier\"],inplace=True)\n",
        "log1.sort_values(by=['f1_score'])"
      ],
      "execution_count": null,
      "outputs": [
        {
          "output_type": "execute_result",
          "data": {
            "text/html": [
              "<div>\n",
              "<style scoped>\n",
              "    .dataframe tbody tr th:only-of-type {\n",
              "        vertical-align: middle;\n",
              "    }\n",
              "\n",
              "    .dataframe tbody tr th {\n",
              "        vertical-align: top;\n",
              "    }\n",
              "\n",
              "    .dataframe thead th {\n",
              "        text-align: right;\n",
              "    }\n",
              "</style>\n",
              "<table border=\"1\" class=\"dataframe\">\n",
              "  <thead>\n",
              "    <tr style=\"text-align: right;\">\n",
              "      <th></th>\n",
              "      <th>accuracy</th>\n",
              "      <th>f1_score</th>\n",
              "    </tr>\n",
              "    <tr>\n",
              "      <th>Classifier</th>\n",
              "      <th></th>\n",
              "      <th></th>\n",
              "    </tr>\n",
              "  </thead>\n",
              "  <tbody>\n",
              "    <tr>\n",
              "      <th>LogisticRegression</th>\n",
              "      <td>0.502913</td>\n",
              "      <td>0.501772</td>\n",
              "    </tr>\n",
              "    <tr>\n",
              "      <th>LinearSVC</th>\n",
              "      <td>0.530097</td>\n",
              "      <td>0.528922</td>\n",
              "    </tr>\n",
              "    <tr>\n",
              "      <th>SGDClassifier</th>\n",
              "      <td>0.533981</td>\n",
              "      <td>0.539925</td>\n",
              "    </tr>\n",
              "    <tr>\n",
              "      <th>MultinomialNB</th>\n",
              "      <td>0.561812</td>\n",
              "      <td>0.621637</td>\n",
              "    </tr>\n",
              "  </tbody>\n",
              "</table>\n",
              "</div>"
            ],
            "text/plain": [
              "                    accuracy  f1_score\n",
              "Classifier                            \n",
              "LogisticRegression  0.502913  0.501772\n",
              "LinearSVC           0.530097  0.528922\n",
              "SGDClassifier       0.533981  0.539925\n",
              "MultinomialNB       0.561812  0.621637"
            ]
          },
          "metadata": {
            "tags": []
          },
          "execution_count": 13
        }
      ]
    },
    {
      "cell_type": "code",
      "metadata": {
        "colab": {
          "base_uri": "https://localhost:8080/",
          "height": 391
        },
        "id": "nUQYPirrzll0",
        "outputId": "2294cbc5-e11e-47d5-e49a-e87d0af93edc"
      },
      "source": [
        "log1.sort_values(by=['f1_score']).plot(kind='barh',figsize=[7,6])"
      ],
      "execution_count": null,
      "outputs": [
        {
          "output_type": "execute_result",
          "data": {
            "text/plain": [
              "<matplotlib.axes._subplots.AxesSubplot at 0x7f2fc1f675f8>"
            ]
          },
          "metadata": {
            "tags": []
          },
          "execution_count": 14
        },
        {
          "output_type": "display_data",
          "data": {
            "image/png": "[encoded data removed]",
            "text/plain": [
              "<Figure size 504x432 with 1 Axes>"
            ]
          },
          "metadata": {
            "tags": [],
            "needs_background": "light"
          }
        }
      ]
    },
    {
      "cell_type": "markdown",
      "metadata": {
        "id": "ToULmwSGzll1"
      },
      "source": [
        "Linear SVC gives better performance compared to other models"
      ]
    },
    {
      "cell_type": "code",
      "metadata": {
        "colab": {
          "base_uri": "https://localhost:8080/"
        },
        "id": "zILpQU6tzll1",
        "outputId": "2608671e-d1da-4acd-ccf4-347a9dadae1c"
      },
      "source": [
        "### Save the model\n",
        "from sklearn.externals import joblib\n",
        "joblib.dump(svc, 'l1_l2_classification.pkl', compress=1)"
      ],
      "execution_count": null,
      "outputs": [
        {
          "output_type": "execute_result",
          "data": {
            "text/plain": [
              "['l1_l2_classification.pkl']"
            ]
          },
          "metadata": {
            "tags": []
          },
          "execution_count": 15
        }
      ]
    },
    {
      "cell_type": "code",
      "metadata": {
        "colab": {
          "base_uri": "https://localhost:8080/"
        },
        "id": "SVx61xZTzll1",
        "outputId": "05e65306-4457-4492-8343-f02dd52039c8"
      },
      "source": [
        "le_name_mapping = dict(zip(encoder.classes_, encoder.transform(encoder.classes_)))\n",
        "le_name_mapping"
      ],
      "execution_count": null,
      "outputs": [
        {
          "output_type": "execute_result",
          "data": {
            "text/plain": [
              "{'L1/L2': 0, 'L3': 1}"
            ]
          },
          "metadata": {
            "tags": []
          },
          "execution_count": 16
        }
      ]
    },
    {
      "cell_type": "code",
      "metadata": {
        "colab": {
          "base_uri": "https://localhost:8080/"
        },
        "id": "VBsHp2_Lzll2",
        "outputId": "25182c9c-1cb4-4562-c808-9c783b90dd08"
      },
      "source": [
        "from sklearn.externals import joblib\n",
        "model = joblib.load('l1_l2_classification.pkl')\n",
        "\n",
        "sentence = 'job failed in scheduler'\n",
        "encoder.inverse_transform(model.predict([sentence]))"
      ],
      "execution_count": null,
      "outputs": [
        {
          "output_type": "execute_result",
          "data": {
            "text/plain": [
              "array(['L3'], dtype=object)"
            ]
          },
          "metadata": {
            "tags": []
          },
          "execution_count": 17
        }
      ]
    },
    {
      "cell_type": "markdown",
      "metadata": {
        "id": "gzdFBgj4zll2"
      },
      "source": [
        "## Model1 - Classification of L1/L2 tickets between GRP0 and GRP8"
      ]
    },
    {
      "cell_type": "code",
      "metadata": {
        "colab": {
          "base_uri": "https://localhost:8080/"
        },
        "id": "4g2xTsmtzll2",
        "outputId": "5d764986-ee60-451a-fb9a-7c56a657819f"
      },
      "source": [
        "df_incidents_l1_l2 = df_incidents_level[df_incidents_level['Target'] == 'L1/L2']\n",
        "df_incidents_l1_l2.shape"
      ],
      "execution_count": null,
      "outputs": [
        {
          "output_type": "execute_result",
          "data": {
            "text/plain": [
              "(4248, 7)"
            ]
          },
          "metadata": {
            "tags": []
          },
          "execution_count": 18
        }
      ]
    },
    {
      "cell_type": "code",
      "metadata": {
        "colab": {
          "base_uri": "https://localhost:8080/"
        },
        "id": "XuWzruhIzll2",
        "outputId": "2021cf6a-a731-49e5-83dc-0dcd0698faec"
      },
      "source": [
        "df_incidents_l1_l2.Assignment_group.value_counts()"
      ],
      "execution_count": null,
      "outputs": [
        {
          "output_type": "execute_result",
          "data": {
            "text/plain": [
              "GRP_0     2437\n",
              "GRP_8      374\n",
              "GRP_24     144\n",
              "GRP_12     134\n",
              "GRP_9      115\n",
              "GRP_2      100\n",
              "GRP_19      99\n",
              "GRP_3       89\n",
              "GRP_6       84\n",
              "GRP_13      74\n",
              "GRP_10      65\n",
              "GRP_14      64\n",
              "GRP_25      54\n",
              "GRP_4       50\n",
              "GRP_5       47\n",
              "GRP_33      46\n",
              "GRP_17      42\n",
              "GRP_29      41\n",
              "GRP_16      39\n",
              "GRP_7       37\n",
              "GRP_18      31\n",
              "GRP_34      29\n",
              "GRP_26      27\n",
              "GRP_31      26\n",
              "Name: Assignment_group, dtype: int64"
            ]
          },
          "metadata": {
            "tags": []
          },
          "execution_count": 19
        }
      ]
    },
    {
      "cell_type": "code",
      "metadata": {
        "id": "1An-AoKmzll2"
      },
      "source": [
        "x = df_incidents_l1_l2['token_desc']\n",
        "y = df_incidents_l1_l2['Assignment_group']\n",
        "\n",
        "from sklearn import preprocessing\n",
        "encoder = preprocessing.LabelEncoder()\n",
        "# encoding train labels \n",
        "encoder.fit(y)\n",
        "y = encoder.transform(y)\n",
        "\n",
        "\n",
        "from sklearn.model_selection import train_test_split\n",
        "X_train, X_test, y_train, y_test = train_test_split(x, y, test_size= 0.2, random_state=13,stratify=y)\n",
        "\n",
        "from sklearn.utils.class_weight import compute_class_weight\n",
        "class_weights = compute_class_weight('balanced', np.unique(y_train), y_train)\n",
        "class_weights\n",
        "\n",
        "w_array = np.ones(y_train.shape[0], dtype = 'float')\n",
        "for i, val in enumerate(y_train):\n",
        "    w_array[i] = class_weights[val]\n",
        "    \n",
        "    \n",
        "log_cols=[\"Classifier\", \"accuracy\",\"f1_score\"]\n",
        "log2 = pd.DataFrame(columns=log_cols)"
      ],
      "execution_count": null,
      "outputs": []
    },
    {
      "cell_type": "markdown",
      "metadata": {
        "id": "oFH85mLozll2"
      },
      "source": [
        "### Naive Bayes"
      ]
    },
    {
      "cell_type": "code",
      "metadata": {
        "colab": {
          "base_uri": "https://localhost:8080/"
        },
        "id": "RWAnJFMEzll2",
        "outputId": "0a0b86a0-89e8-4a5e-bd15-671829649593"
      },
      "source": [
        "from sklearn.naive_bayes import MultinomialNB\n",
        "from sklearn.pipeline import Pipeline\n",
        "from sklearn.feature_extraction.text import TfidfTransformer\n",
        "from sklearn.feature_extraction.text import CountVectorizer\n",
        "from sklearn.metrics import accuracy_score, confusion_matrix, f1_score\n",
        "from sklearn.metrics import classification_report\n",
        "\n",
        "\n",
        "nb = Pipeline([('vect', CountVectorizer()),\n",
        "               ('tfidf', TfidfTransformer()),\n",
        "               ('clf', MultinomialNB()),\n",
        "              ])\n",
        "nb.fit(X_train, y_train)\n",
        "\n",
        "\n",
        "y_pred = nb.predict(X_test)\n",
        "predictions = nb.predict_proba(X_test)\n",
        "\n",
        "print('accuracy %s' % accuracy_score(y_pred, y_test)) \n",
        "print('f1 score %s' % f1_score(y_pred, y_test,average='weighted')) \n",
        "print (\"logloss: %0.3f \" % multiclass_logloss(y_test,predictions))\n",
        "\n",
        "print(classification_report(y_test, y_pred))\n",
        "\n",
        "print(confusion_matrix(y_test,y_pred))\n",
        "\n",
        "\n",
        "log_entry = pd.DataFrame([[\"MultinomialNB\",accuracy_score(y_pred, y_test),f1_score(y_pred, y_test,average='weighted')]], columns=log_cols)\n",
        "log2 = log2.append(log_entry)"
      ],
      "execution_count": null,
      "outputs": [
        {
          "output_type": "stream",
          "text": [
            "accuracy 0.6647058823529411\n",
            "f1 score 0.7888738326389686\n",
            "logloss: 1.591 \n",
            "              precision    recall  f1-score   support\n",
            "\n",
            "           0       0.67      1.00      0.80       488\n",
            "           1       0.00      0.00      0.00        13\n",
            "           2       0.80      0.15      0.25        27\n",
            "           3       0.00      0.00      0.00        15\n",
            "           4       0.00      0.00      0.00        13\n",
            "           5       0.00      0.00      0.00         8\n",
            "           6       0.00      0.00      0.00         8\n",
            "           7       0.00      0.00      0.00         6\n",
            "           8       0.00      0.00      0.00        20\n",
            "           9       0.00      0.00      0.00        20\n",
            "          10       1.00      0.10      0.19        29\n",
            "          11       0.00      0.00      0.00        11\n",
            "          12       0.00      0.00      0.00         5\n",
            "          13       0.00      0.00      0.00         8\n",
            "          14       0.00      0.00      0.00        18\n",
            "          15       0.00      0.00      0.00         5\n",
            "          16       0.00      0.00      0.00         9\n",
            "          17       0.00      0.00      0.00         6\n",
            "          18       0.00      0.00      0.00        10\n",
            "          19       0.00      0.00      0.00         9\n",
            "          20       0.00      0.00      0.00        17\n",
            "          21       0.00      0.00      0.00         7\n",
            "          22       0.61      0.93      0.74        75\n",
            "          23       0.00      0.00      0.00        23\n",
            "\n",
            "    accuracy                           0.66       850\n",
            "   macro avg       0.13      0.09      0.08       850\n",
            "weighted avg       0.50      0.66      0.54       850\n",
            "\n",
            "[[488   0   0   0   0   0   0   0   0   0   0   0   0   0   0   0   0   0\n",
            "    0   0   0   0   0   0]\n",
            " [ 10   0   0   0   0   0   0   0   0   0   0   0   0   0   0   0   0   0\n",
            "    0   0   0   0   3   0]\n",
            " [ 21   0   4   0   0   0   0   0   0   0   0   0   0   0   0   0   0   0\n",
            "    0   0   0   0   2   0]\n",
            " [ 15   0   0   0   0   0   0   0   0   0   0   0   0   0   0   0   0   0\n",
            "    0   0   0   0   0   0]\n",
            " [ 13   0   0   0   0   0   0   0   0   0   0   0   0   0   0   0   0   0\n",
            "    0   0   0   0   0   0]\n",
            " [  8   0   0   0   0   0   0   0   0   0   0   0   0   0   0   0   0   0\n",
            "    0   0   0   0   0   0]\n",
            " [  8   0   0   0   0   0   0   0   0   0   0   0   0   0   0   0   0   0\n",
            "    0   0   0   0   0   0]\n",
            " [  6   0   0   0   0   0   0   0   0   0   0   0   0   0   0   0   0   0\n",
            "    0   0   0   0   0   0]\n",
            " [ 20   0   0   0   0   0   0   0   0   0   0   0   0   0   0   0   0   0\n",
            "    0   0   0   0   0   0]\n",
            " [ 20   0   0   0   0   0   0   0   0   0   0   0   0   0   0   0   0   0\n",
            "    0   0   0   0   0   0]\n",
            " [ 26   0   0   0   0   0   0   0   0   0   3   0   0   0   0   0   0   0\n",
            "    0   0   0   0   0   0]\n",
            " [ 11   0   0   0   0   0   0   0   0   0   0   0   0   0   0   0   0   0\n",
            "    0   0   0   0   0   0]\n",
            " [  5   0   0   0   0   0   0   0   0   0   0   0   0   0   0   0   0   0\n",
            "    0   0   0   0   0   0]\n",
            " [  8   0   0   0   0   0   0   0   0   0   0   0   0   0   0   0   0   0\n",
            "    0   0   0   0   0   0]\n",
            " [ 18   0   0   0   0   0   0   0   0   0   0   0   0   0   0   0   0   0\n",
            "    0   0   0   0   0   0]\n",
            " [  5   0   0   0   0   0   0   0   0   0   0   0   0   0   0   0   0   0\n",
            "    0   0   0   0   0   0]\n",
            " [  9   0   0   0   0   0   0   0   0   0   0   0   0   0   0   0   0   0\n",
            "    0   0   0   0   0   0]\n",
            " [  6   0   0   0   0   0   0   0   0   0   0   0   0   0   0   0   0   0\n",
            "    0   0   0   0   0   0]\n",
            " [  9   0   0   0   0   0   0   0   0   0   0   0   0   0   0   0   0   0\n",
            "    0   0   0   0   1   0]\n",
            " [  3   0   0   0   0   0   0   0   0   0   0   0   0   0   0   0   0   0\n",
            "    0   0   0   0   6   0]\n",
            " [  4   0   0   0   0   0   0   0   0   0   0   0   0   0   0   0   0   0\n",
            "    0   0   0   0  13   0]\n",
            " [  7   0   0   0   0   0   0   0   0   0   0   0   0   0   0   0   0   0\n",
            "    0   0   0   0   0   0]\n",
            " [  4   0   1   0   0   0   0   0   0   0   0   0   0   0   0   0   0   0\n",
            "    0   0   0   0  70   0]\n",
            " [  3   0   0   0   0   0   0   0   0   0   0   0   0   0   0   0   0   0\n",
            "    0   0   0   0  20   0]]\n"
          ],
          "name": "stdout"
        }
      ]
    },
    {
      "cell_type": "markdown",
      "metadata": {
        "id": "rm0W2HQyzll3"
      },
      "source": [
        "### Linear Support Vector Machine"
      ]
    },
    {
      "cell_type": "code",
      "metadata": {
        "colab": {
          "base_uri": "https://localhost:8080/"
        },
        "id": "cM8pfztOzll3",
        "outputId": "be09d8d9-e5dc-4c67-ffd6-a0961cfac0e4"
      },
      "source": [
        "from sklearn.svm import LinearSVC\n",
        "from sklearn.multiclass import OneVsRestClassifier\n",
        "\n",
        "\n",
        "svc = Pipeline([('vect', CountVectorizer()),\n",
        "                ('tfidf', TfidfTransformer()),\n",
        "                ('clf', OneVsRestClassifier(LinearSVC(loss='hinge',random_state=42,class_weight='balanced'))),\n",
        "               ])\n",
        "svc.fit(X_train, y_train)\n",
        "\n",
        "y_pred = svc.predict(X_test)\n",
        "print('Test accuracy %s' % accuracy_score(y_pred, y_test))\n",
        "print('Test f1 score %s' % f1_score(y_pred, y_test,average='weighted')) \n",
        "\n",
        "print(classification_report(y_test, y_pred))\n",
        "\n",
        "print(confusion_matrix(y_test,y_pred))\n",
        "\n",
        "log_entry = pd.DataFrame([[\"LinearSVC\",accuracy_score(y_pred, y_test),f1_score(y_pred, y_test,average='weighted')]], columns=log_cols)\n",
        "log2 = log2.append(log_entry)"
      ],
      "execution_count": null,
      "outputs": [
        {
          "output_type": "stream",
          "text": [
            "Test accuracy 0.6858823529411765\n",
            "Test f1 score 0.6848344421994538\n",
            "              precision    recall  f1-score   support\n",
            "\n",
            "           0       0.85      0.89      0.87       488\n",
            "           1       0.50      0.23      0.32        13\n",
            "           2       0.50      0.70      0.58        27\n",
            "           3       0.59      0.67      0.62        15\n",
            "           4       0.44      0.31      0.36        13\n",
            "           5       0.00      0.00      0.00         8\n",
            "           6       0.89      1.00      0.94         8\n",
            "           7       0.67      0.33      0.44         6\n",
            "           8       0.28      0.25      0.26        20\n",
            "           9       0.53      0.40      0.46        20\n",
            "          10       0.83      0.83      0.83        29\n",
            "          11       0.50      0.27      0.35        11\n",
            "          12       0.00      0.00      0.00         5\n",
            "          13       0.62      0.62      0.62         8\n",
            "          14       0.29      0.39      0.33        18\n",
            "          15       0.50      0.40      0.44         5\n",
            "          16       0.43      0.33      0.38         9\n",
            "          17       0.33      0.17      0.22         6\n",
            "          18       0.67      0.20      0.31        10\n",
            "          19       0.08      0.78      0.14         9\n",
            "          20       0.60      0.18      0.27        17\n",
            "          21       0.75      0.86      0.80         7\n",
            "          22       0.83      0.33      0.48        75\n",
            "          23       0.38      0.13      0.19        23\n",
            "\n",
            "    accuracy                           0.69       850\n",
            "   macro avg       0.50      0.43      0.43       850\n",
            "weighted avg       0.73      0.69      0.69       850\n",
            "\n",
            "[[433   1   8   1   2   1   1   0   8   5   3   1   1   0  10   2   2   2\n",
            "    1   0   0   2   2   2]\n",
            " [  4   3   0   3   0   0   0   0   0   0   0   0   0   0   0   0   0   0\n",
            "    0   2   0   0   0   1]\n",
            " [  5   0  19   0   0   0   0   0   0   0   1   0   0   0   0   0   0   0\n",
            "    0   1   0   0   1   0]\n",
            " [  1   0   0  10   0   0   0   0   0   1   0   1   0   1   0   0   0   0\n",
            "    0   0   1   0   0   0]\n",
            " [  6   0   3   0   4   0   0   0   0   0   0   0   0   0   0   0   0   0\n",
            "    0   0   0   0   0   0]\n",
            " [  6   0   0   2   0   0   0   0   0   0   0   0   0   0   0   0   0   0\n",
            "    0   0   0   0   0   0]\n",
            " [  0   0   0   0   0   0   8   0   0   0   0   0   0   0   0   0   0   0\n",
            "    0   0   0   0   0   0]\n",
            " [  0   1   0   1   0   0   0   2   0   0   0   0   0   1   0   0   0   0\n",
            "    0   0   1   0   0   0]\n",
            " [  9   0   1   0   0   0   0   0   5   1   0   0   0   0   4   0   0   0\n",
            "    0   0   0   0   0   0]\n",
            " [  9   0   1   0   1   0   0   0   0   8   0   0   0   0   0   0   0   0\n",
            "    0   0   0   0   0   1]\n",
            " [  0   0   1   0   0   0   0   0   0   0  24   1   0   0   1   0   2   0\n",
            "    0   0   0   0   0   0]\n",
            " [  4   0   0   0   1   0   0   0   1   0   0   3   0   0   1   0   0   0\n",
            "    0   0   0   0   0   1]\n",
            " [  5   0   0   0   0   0   0   0   0   0   0   0   0   0   0   0   0   0\n",
            "    0   0   0   0   0   0]\n",
            " [  2   0   0   0   0   1   0   0   0   0   0   0   0   5   0   0   0   0\n",
            "    0   0   0   0   0   0]\n",
            " [  6   0   0   0   0   0   0   0   4   0   0   0   0   0   7   0   0   0\n",
            "    0   0   0   0   1   0]\n",
            " [  2   0   0   0   0   0   0   0   0   0   0   0   0   0   1   2   0   0\n",
            "    0   0   0   0   0   0]\n",
            " [  4   0   0   0   0   0   0   0   0   0   1   0   0   0   0   0   3   0\n",
            "    0   1   0   0   0   0]\n",
            " [  2   0   3   0   0   0   0   0   0   0   0   0   0   0   0   0   0   1\n",
            "    0   0   0   0   0   0]\n",
            " [  7   0   0   0   0   0   0   0   0   0   0   0   0   0   0   0   0   0\n",
            "    2   0   0   0   1   0]\n",
            " [  0   1   1   0   0   0   0   0   0   0   0   0   0   0   0   0   0   0\n",
            "    0   7   0   0   0   0]\n",
            " [  0   0   0   0   0   0   0   0   0   0   0   0   0   1   0   0   0   0\n",
            "    0  13   3   0   0   0]\n",
            " [  1   0   0   0   0   0   0   0   0   0   0   0   0   0   0   0   0   0\n",
            "    0   0   0   6   0   0]\n",
            " [  1   0   1   0   1   0   0   0   0   0   0   0   0   0   0   0   0   0\n",
            "    0  47   0   0  25   0]\n",
            " [  0   0   0   0   0   0   0   1   0   0   0   0   0   0   0   0   0   0\n",
            "    0  19   0   0   0   3]]\n"
          ],
          "name": "stdout"
        }
      ]
    },
    {
      "cell_type": "markdown",
      "metadata": {
        "id": "dVLhf-gyzll3"
      },
      "source": [
        "### SGD Classifier"
      ]
    },
    {
      "cell_type": "code",
      "metadata": {
        "colab": {
          "base_uri": "https://localhost:8080/"
        },
        "id": "vohWi9hjzll3",
        "outputId": "5fa8a084-d93e-4596-a81f-22d23055e09f"
      },
      "source": [
        "from sklearn.linear_model import SGDClassifier\n",
        "\n",
        "sgd = Pipeline([('vect', CountVectorizer()),\n",
        "                ('tfidf', TfidfTransformer()),\n",
        "                ('clf', SGDClassifier(loss='hinge', penalty='l2',alpha=1e-3, random_state=42, max_iter=100, tol=None,class_weight='balanced')),\n",
        "               ])\n",
        "sgd.fit(X_train, y_train)\n",
        "\n",
        "\n",
        "\n",
        "\n",
        "y_pred = sgd.predict(X_test)\n",
        "print('accuracy %s' % accuracy_score(y_pred, y_test))\n",
        "print('f1 score %s' % f1_score(y_pred, y_test,average='weighted')) \n",
        "\n",
        "\n",
        "print(classification_report(y_test, y_pred))\n",
        "\n",
        "print(confusion_matrix(y_test,y_pred))\n",
        "\n",
        "\n",
        "log_entry = pd.DataFrame([[\"SGDClassifier\",accuracy_score(y_pred, y_test),f1_score(y_pred, y_test,average='weighted')]], columns=log_cols)\n",
        "log2 = log2.append(log_entry)"
      ],
      "execution_count": null,
      "outputs": [
        {
          "output_type": "stream",
          "text": [
            "accuracy 0.5411764705882353\n",
            "f1 score 0.49356516447305127\n",
            "              precision    recall  f1-score   support\n",
            "\n",
            "           0       0.94      0.62      0.74       488\n",
            "           1       0.08      0.54      0.13        13\n",
            "           2       0.41      0.48      0.44        27\n",
            "           3       0.45      0.67      0.54        15\n",
            "           4       0.47      0.69      0.56        13\n",
            "           5       0.17      0.62      0.26         8\n",
            "           6       0.57      1.00      0.73         8\n",
            "           7       0.18      0.50      0.26         6\n",
            "           8       0.31      0.25      0.28        20\n",
            "           9       0.33      0.45      0.38        20\n",
            "          10       0.67      0.76      0.71        29\n",
            "          11       0.26      0.64      0.37        11\n",
            "          12       0.13      0.40      0.20         5\n",
            "          13       0.32      0.75      0.44         8\n",
            "          14       0.25      0.39      0.30        18\n",
            "          15       0.16      0.60      0.25         5\n",
            "          16       0.33      0.67      0.44         9\n",
            "          17       0.04      0.17      0.07         6\n",
            "          18       0.26      0.50      0.34        10\n",
            "          19       0.50      0.11      0.18         9\n",
            "          20       0.08      0.06      0.07        17\n",
            "          21       0.40      0.86      0.55         7\n",
            "          22       0.88      0.28      0.42        75\n",
            "          23       0.50      0.09      0.15        23\n",
            "\n",
            "    accuracy                           0.54       850\n",
            "   macro avg       0.36      0.50      0.37       850\n",
            "weighted avg       0.73      0.54      0.59       850\n",
            "\n",
            "[[301   8  11   2   4  17   6   7   9  12   8  13  10   5  14  13   9  18\n",
            "   11   0   1   5   2   2]\n",
            " [  1   7   0   4   0   0   0   0   0   0   0   1   0   0   0   0   0   0\n",
            "    0   0   0   0   0   0]\n",
            " [  2   2  13   1   2   1   0   0   0   1   0   0   0   0   0   2   0   2\n",
            "    0   0   0   0   1   0]\n",
            " [  0   0   0  10   0   0   0   1   0   1   0   1   0   2   0   0   0   0\n",
            "    0   0   0   0   0   0]\n",
            " [  1   0   1   0   9   0   0   0   0   0   1   0   0   0   0   0   0   0\n",
            "    0   0   0   1   0   0]\n",
            " [  1   0   0   2   0   5   0   0   0   0   0   0   0   0   0   0   0   0\n",
            "    0   0   0   0   0   0]\n",
            " [  0   0   0   0   0   0   8   0   0   0   0   0   0   0   0   0   0   0\n",
            "    0   0   0   0   0   0]\n",
            " [  0   1   0   1   0   0   0   3   0   0   0   0   0   1   0   0   0   0\n",
            "    0   0   0   0   0   0]\n",
            " [  2   1   2   0   0   1   0   1   5   1   1   0   0   2   3   0   0   0\n",
            "    0   0   0   1   0   0]\n",
            " [  4   0   0   0   1   0   0   0   0   9   0   0   1   1   0   1   0   2\n",
            "    1   0   0   0   0   0]\n",
            " [  0   0   1   0   0   0   0   0   0   0  22   3   0   0   1   0   2   0\n",
            "    0   0   0   0   0   0]\n",
            " [  0   0   0   1   1   1   0   0   0   0   0   7   0   1   0   0   0   0\n",
            "    0   0   0   0   0   0]\n",
            " [  2   0   0   0   0   0   0   0   0   0   0   0   2   0   0   0   1   0\n",
            "    0   0   0   0   0   0]\n",
            " [  1   0   0   0   0   1   0   0   0   0   0   0   0   6   0   0   0   0\n",
            "    0   0   0   0   0   0]\n",
            " [  3   0   0   0   0   0   0   1   2   1   0   1   2   0   7   0   0   1\n",
            "    0   0   0   0   0   0]\n",
            " [  1   0   0   0   0   0   0   0   0   0   0   0   0   0   1   3   0   0\n",
            "    0   0   0   0   0   0]\n",
            " [  0   0   0   0   1   1   0   0   0   0   1   0   0   0   0   0   6   0\n",
            "    0   0   0   0   0   0]\n",
            " [  1   0   2   0   0   1   0   0   0   1   0   0   0   0   0   0   0   1\n",
            "    0   0   0   0   0   0]\n",
            " [  0   0   0   0   0   0   0   0   0   1   0   1   0   0   1   0   0   0\n",
            "    5   0   0   2   0   0]\n",
            " [  0   5   0   0   0   1   0   1   0   0   0   0   0   0   0   0   0   0\n",
            "    0   1   1   0   0   0]\n",
            " [  0  12   0   0   0   0   0   2   0   0   0   0   0   1   0   0   0   0\n",
            "    0   1   1   0   0   0]\n",
            " [  1   0   0   0   0   0   0   0   0   0   0   0   0   0   0   0   0   0\n",
            "    0   0   0   6   0   0]\n",
            " [  0  39   2   0   1   1   0   0   0   0   0   0   0   0   1   0   0   0\n",
            "    2   0   8   0  21   0]\n",
            " [  0  17   0   1   0   0   0   1   0   0   0   0   0   0   0   0   0   0\n",
            "    0   0   2   0   0   2]]\n"
          ],
          "name": "stdout"
        }
      ]
    },
    {
      "cell_type": "markdown",
      "metadata": {
        "id": "ZU-Sq9-Bzll3"
      },
      "source": [
        "### Logistic Regression"
      ]
    },
    {
      "cell_type": "code",
      "metadata": {
        "colab": {
          "base_uri": "https://localhost:8080/"
        },
        "id": "PnXy9mx-zll3",
        "outputId": "c36b2f16-dcb6-41a8-88df-4ea810b3061e"
      },
      "source": [
        "from sklearn.linear_model import LogisticRegression\n",
        "\n",
        "logreg_1 = Pipeline([('vect', CountVectorizer()),\n",
        "                ('tfidf', TfidfTransformer()),\n",
        "                ('clf', LogisticRegression(n_jobs=1, C=1e5,class_weight='balanced')),\n",
        "               ])\n",
        "logreg_1.fit(X_train, y_train)\n",
        "\n",
        "y_pred = logreg_1.predict(X_test)\n",
        "predictions = logreg_1.predict_proba(X_test)\n",
        "\n",
        "print('accuracy %s' % accuracy_score(y_pred, y_test))\n",
        "print('f1 score %s' % f1_score(y_pred, y_test,average='weighted')) \n",
        "print (\"logloss: %0.3f \" % multiclass_logloss(y_test,predictions))\n",
        "\n",
        "print(classification_report(y_test, y_pred))\n",
        "\n",
        "print(confusion_matrix(y_test,y_pred))\n",
        "\n",
        "log_entry = pd.DataFrame([[\"LogisticRegression\",accuracy_score(y_pred, y_test),f1_score(y_pred, y_test,average='weighted')]], columns=log_cols)\n",
        "log2 = log2.append(log_entry)"
      ],
      "execution_count": null,
      "outputs": [
        {
          "output_type": "stream",
          "text": [
            "accuracy 0.6929411764705883\n",
            "f1 score 0.7023237025586234\n",
            "logloss: 1.597 \n",
            "              precision    recall  f1-score   support\n",
            "\n",
            "           0       0.83      0.84      0.84       488\n",
            "           1       0.67      0.31      0.42        13\n",
            "           2       0.44      0.74      0.56        27\n",
            "           3       0.77      0.67      0.71        15\n",
            "           4       0.55      0.46      0.50        13\n",
            "           5       0.00      0.00      0.00         8\n",
            "           6       0.88      0.88      0.88         8\n",
            "           7       0.60      0.50      0.55         6\n",
            "           8       0.33      0.35      0.34        20\n",
            "           9       0.36      0.40      0.38        20\n",
            "          10       0.82      0.79      0.81        29\n",
            "          11       0.75      0.27      0.40        11\n",
            "          12       0.00      0.00      0.00         5\n",
            "          13       0.33      0.12      0.18         8\n",
            "          14       0.35      0.33      0.34        18\n",
            "          15       0.25      0.40      0.31         5\n",
            "          16       0.38      0.33      0.35         9\n",
            "          17       0.00      0.00      0.00         6\n",
            "          18       0.67      0.20      0.31        10\n",
            "          19       0.15      0.22      0.18         9\n",
            "          20       0.60      0.18      0.27        17\n",
            "          21       0.80      0.57      0.67         7\n",
            "          22       0.58      0.79      0.67        75\n",
            "          23       0.50      0.17      0.26        23\n",
            "\n",
            "    accuracy                           0.69       850\n",
            "   macro avg       0.48      0.40      0.41       850\n",
            "weighted avg       0.70      0.69      0.68       850\n",
            "\n",
            "[[412   0  11   1   2   3   1   0   9  12   3   0   1   0   6   5   3  14\n",
            "    0   0   0   1   2   2]\n",
            " [  5   4   0   1   0   0   0   0   0   0   0   0   0   0   0   0   0   0\n",
            "    0   0   0   0   2   1]\n",
            " [  4   0  20   0   0   0   0   0   0   0   1   0   0   0   0   0   0   0\n",
            "    0   0   0   0   2   0]\n",
            " [  1   0   0  10   0   0   0   2   0   1   0   0   0   1   0   0   0   0\n",
            "    0   0   0   0   0   0]\n",
            " [  5   0   2   0   6   0   0   0   0   0   0   0   0   0   0   0   0   0\n",
            "    0   0   0   0   0   0]\n",
            " [  8   0   0   0   0   0   0   0   0   0   0   0   0   0   0   0   0   0\n",
            "    0   0   0   0   0   0]\n",
            " [  1   0   0   0   0   0   7   0   0   0   0   0   0   0   0   0   0   0\n",
            "    0   0   0   0   0   0]\n",
            " [  1   1   0   1   0   0   0   3   0   0   0   0   0   0   0   0   0   0\n",
            "    0   0   0   0   0   0]\n",
            " [  9   0   1   0   0   0   0   0   7   1   0   0   0   0   2   0   0   0\n",
            "    0   0   0   0   0   0]\n",
            " [ 10   0   1   0   1   0   0   0   0   8   0   0   0   0   0   0   0   0\n",
            "    0   0   0   0   0   0]\n",
            " [  2   0   1   0   0   0   0   0   0   0  23   1   0   0   0   0   2   0\n",
            "    0   0   0   0   0   0]\n",
            " [  4   0   0   0   1   0   0   0   1   0   0   3   0   0   1   0   0   0\n",
            "    0   0   0   0   0   1]\n",
            " [  5   0   0   0   0   0   0   0   0   0   0   0   0   0   0   0   0   0\n",
            "    0   0   0   0   0   0]\n",
            " [  5   0   0   0   0   0   0   0   0   0   0   0   0   1   0   0   0   0\n",
            "    0   0   2   0   0   0]\n",
            " [  6   0   1   0   0   0   0   0   4   0   0   0   0   0   6   0   0   0\n",
            "    0   0   0   0   1   0]\n",
            " [  2   0   0   0   0   0   0   0   0   0   0   0   0   0   1   2   0   0\n",
            "    0   0   0   0   0   0]\n",
            " [  5   0   0   0   0   0   0   0   0   0   1   0   0   0   0   0   3   0\n",
            "    0   0   0   0   0   0]\n",
            " [  3   0   3   0   0   0   0   0   0   0   0   0   0   0   0   0   0   0\n",
            "    0   0   0   0   0   0]\n",
            " [  7   0   0   0   0   0   0   0   0   0   0   0   0   0   0   0   0   0\n",
            "    2   0   0   0   1   0]\n",
            " [  0   1   1   0   0   0   0   0   0   0   0   0   0   0   0   0   0   0\n",
            "    0   2   0   0   5   0]\n",
            " [  0   0   0   0   0   0   0   0   0   0   0   0   0   1   0   0   0   0\n",
            "    0   1   3   0  12   0]\n",
            " [  1   0   0   0   0   0   0   0   0   0   0   0   0   0   1   1   0   0\n",
            "    0   0   0   4   0   0]\n",
            " [  1   0   4   0   1   1   0   0   0   0   0   0   0   0   0   0   0   0\n",
            "    1   8   0   0  59   0]\n",
            " [  0   0   0   0   0   0   0   0   0   0   0   0   0   0   0   0   0   0\n",
            "    0   2   0   0  17   4]]\n"
          ],
          "name": "stdout"
        }
      ]
    },
    {
      "cell_type": "code",
      "metadata": {
        "colab": {
          "base_uri": "https://localhost:8080/",
          "height": 204
        },
        "id": "6vLQGf9mzll3",
        "outputId": "0be1d74a-8604-45f7-ea61-55ef2dd99354"
      },
      "source": [
        "log2.set_index([\"Classifier\"],inplace=True)\n",
        "log2.sort_values(by=['f1_score'])"
      ],
      "execution_count": null,
      "outputs": [
        {
          "output_type": "execute_result",
          "data": {
            "text/html": [
              "<div>\n",
              "<style scoped>\n",
              "    .dataframe tbody tr th:only-of-type {\n",
              "        vertical-align: middle;\n",
              "    }\n",
              "\n",
              "    .dataframe tbody tr th {\n",
              "        vertical-align: top;\n",
              "    }\n",
              "\n",
              "    .dataframe thead th {\n",
              "        text-align: right;\n",
              "    }\n",
              "</style>\n",
              "<table border=\"1\" class=\"dataframe\">\n",
              "  <thead>\n",
              "    <tr style=\"text-align: right;\">\n",
              "      <th></th>\n",
              "      <th>accuracy</th>\n",
              "      <th>f1_score</th>\n",
              "    </tr>\n",
              "    <tr>\n",
              "      <th>Classifier</th>\n",
              "      <th></th>\n",
              "      <th></th>\n",
              "    </tr>\n",
              "  </thead>\n",
              "  <tbody>\n",
              "    <tr>\n",
              "      <th>SGDClassifier</th>\n",
              "      <td>0.541176</td>\n",
              "      <td>0.493565</td>\n",
              "    </tr>\n",
              "    <tr>\n",
              "      <th>LinearSVC</th>\n",
              "      <td>0.685882</td>\n",
              "      <td>0.684834</td>\n",
              "    </tr>\n",
              "    <tr>\n",
              "      <th>LogisticRegression</th>\n",
              "      <td>0.692941</td>\n",
              "      <td>0.702324</td>\n",
              "    </tr>\n",
              "    <tr>\n",
              "      <th>MultinomialNB</th>\n",
              "      <td>0.664706</td>\n",
              "      <td>0.788874</td>\n",
              "    </tr>\n",
              "  </tbody>\n",
              "</table>\n",
              "</div>"
            ],
            "text/plain": [
              "                    accuracy  f1_score\n",
              "Classifier                            \n",
              "SGDClassifier       0.541176  0.493565\n",
              "LinearSVC           0.685882  0.684834\n",
              "LogisticRegression  0.692941  0.702324\n",
              "MultinomialNB       0.664706  0.788874"
            ]
          },
          "metadata": {
            "tags": []
          },
          "execution_count": 25
        }
      ]
    },
    {
      "cell_type": "code",
      "metadata": {
        "colab": {
          "base_uri": "https://localhost:8080/",
          "height": 391
        },
        "id": "2Rw_N0MOzll3",
        "outputId": "bf93b6a7-bb69-4faa-ac59-f4c07f6b33a7"
      },
      "source": [
        "log2.sort_values(by=['f1_score']).plot(kind='barh',figsize=[7,6])"
      ],
      "execution_count": null,
      "outputs": [
        {
          "output_type": "execute_result",
          "data": {
            "text/plain": [
              "<matplotlib.axes._subplots.AxesSubplot at 0x7f2fbebe29b0>"
            ]
          },
          "metadata": {
            "tags": []
          },
          "execution_count": 26
        },
        {
          "output_type": "display_data",
          "data": {
            "image/png": "[encoded data removed]",
            "text/plain": [
              "<Figure size 504x432 with 1 Axes>"
            ]
          },
          "metadata": {
            "tags": [],
            "needs_background": "light"
          }
        }
      ]
    },
    {
      "cell_type": "code",
      "metadata": {
        "colab": {
          "base_uri": "https://localhost:8080/"
        },
        "id": "a_EeNas1zll4",
        "outputId": "b7855eaf-3985-4da9-ba21-0ddf1465c330"
      },
      "source": [
        "\n",
        "### Save the model\n",
        "from sklearn.externals import joblib\n",
        "joblib.dump(logreg_1, 'model_l1_l2.pkl', compress=1)"
      ],
      "execution_count": null,
      "outputs": [
        {
          "output_type": "execute_result",
          "data": {
            "text/plain": [
              "['model_l1_l2.pkl']"
            ]
          },
          "metadata": {
            "tags": []
          },
          "execution_count": 27
        }
      ]
    },
    {
      "cell_type": "code",
      "metadata": {
        "colab": {
          "base_uri": "https://localhost:8080/"
        },
        "id": "2yhnqXy7zll4",
        "outputId": "6c9d1193-a94c-4434-bc84-be70b1aca6c8"
      },
      "source": [
        "le_name_mapping = dict(zip(encoder.classes_, encoder.transform(encoder.classes_)))\n",
        "le_name_mapping"
      ],
      "execution_count": null,
      "outputs": [
        {
          "output_type": "execute_result",
          "data": {
            "text/plain": [
              "{'GRP_0': 0,\n",
              " 'GRP_10': 1,\n",
              " 'GRP_12': 2,\n",
              " 'GRP_13': 3,\n",
              " 'GRP_14': 4,\n",
              " 'GRP_16': 5,\n",
              " 'GRP_17': 6,\n",
              " 'GRP_18': 7,\n",
              " 'GRP_19': 8,\n",
              " 'GRP_2': 9,\n",
              " 'GRP_24': 10,\n",
              " 'GRP_25': 11,\n",
              " 'GRP_26': 12,\n",
              " 'GRP_29': 13,\n",
              " 'GRP_3': 14,\n",
              " 'GRP_31': 15,\n",
              " 'GRP_33': 16,\n",
              " 'GRP_34': 17,\n",
              " 'GRP_4': 18,\n",
              " 'GRP_5': 19,\n",
              " 'GRP_6': 20,\n",
              " 'GRP_7': 21,\n",
              " 'GRP_8': 22,\n",
              " 'GRP_9': 23}"
            ]
          },
          "metadata": {
            "tags": []
          },
          "execution_count": 28
        }
      ]
    },
    {
      "cell_type": "code",
      "metadata": {
        "colab": {
          "base_uri": "https://localhost:8080/"
        },
        "id": "XB0pRl1Vzll4",
        "outputId": "3ba13ab8-a05f-4085-ae4f-36512cb6d99b"
      },
      "source": [
        "\n",
        "from sklearn.externals import joblib\n",
        "model = joblib.load('model_l1_l2.pkl')\n",
        "\n",
        "sentence = 'job failed in scheduler'\n",
        "encoder.inverse_transform(model.predict([sentence]))"
      ],
      "execution_count": null,
      "outputs": [
        {
          "output_type": "execute_result",
          "data": {
            "text/plain": [
              "array(['GRP_5'], dtype=object)"
            ]
          },
          "metadata": {
            "tags": []
          },
          "execution_count": 29
        }
      ]
    },
    {
      "cell_type": "markdown",
      "metadata": {
        "id": "eRCedFk0zll4"
      },
      "source": [
        "## Model to classify L3 tickets\n",
        "\n",
        "Lets's now train the models to classify the L3 tickets into one of the assignement groups."
      ]
    },
    {
      "cell_type": "code",
      "metadata": {
        "id": "h6TxNEcbzll4"
      },
      "source": [
        "df_incidents_l3 = df_incidents_level[df_incidents_level['Target'] == 'L3']\n",
        "df_incidents_l3 = df_incidents_l3[df_incidents_l3['Assignment_group'].map(df_incidents_l3['Assignment_group'].value_counts()) > 50]\n",
        "x = df_incidents_l3['token_desc']\n",
        "y = df_incidents_l3['Assignment_group']\n",
        "\n",
        "from sklearn import preprocessing\n",
        "encoder = preprocessing.LabelEncoder()\n",
        "# encoding train labels \n",
        "encoder.fit(y)\n",
        "y = encoder.transform(y)\n",
        "\n",
        "\n",
        "from sklearn.model_selection import train_test_split\n",
        "X_train, X_test, y_train, y_test = train_test_split(x, y, test_size= 0.2, random_state=13,stratify=y)\n",
        "\n",
        "from sklearn.utils.class_weight import compute_class_weight\n",
        "class_weights = compute_class_weight('balanced', np.unique(y_train), y_train)\n",
        "class_weights\n",
        "\n",
        "w_array = np.ones(y_train.shape[0], dtype = 'float')\n",
        "for i, val in enumerate(y_train):\n",
        "    w_array[i] = class_weights[val]\n",
        "    \n",
        "log_cols=[\"Classifier\", \"accuracy\",\"f1_score\"]\n",
        "log = pd.DataFrame(columns=log_cols)"
      ],
      "execution_count": null,
      "outputs": []
    },
    {
      "cell_type": "markdown",
      "metadata": {
        "id": "xdGE6yhBzll4"
      },
      "source": [
        "### Naive Bayes"
      ]
    },
    {
      "cell_type": "code",
      "metadata": {
        "colab": {
          "base_uri": "https://localhost:8080/"
        },
        "id": "Tyq4jPy4zll4",
        "outputId": "7e5b188d-397e-4cf0-b9de-0656eb66ef8a"
      },
      "source": [
        "from sklearn.naive_bayes import MultinomialNB\n",
        "from sklearn.pipeline import Pipeline\n",
        "from sklearn.feature_extraction.text import TfidfTransformer\n",
        "from sklearn.feature_extraction.text import CountVectorizer\n",
        "from sklearn.metrics import accuracy_score, confusion_matrix, f1_score\n",
        "from sklearn.metrics import classification_report\n",
        "\n",
        "\n",
        "nb = Pipeline([('vect', CountVectorizer()),\n",
        "               ('tfidf', TfidfTransformer()),\n",
        "               ('clf', MultinomialNB()),\n",
        "              ])\n",
        "nb.fit(X_train, y_train)\n",
        "\n",
        "\n",
        "y_pred = nb.predict(X_test)\n",
        "predictions = nb.predict_proba(X_test)\n",
        "\n",
        "print('accuracy %s' % accuracy_score(y_pred, y_test)) \n",
        "print('f1 score %s' % f1_score(y_pred, y_test,average='weighted')) \n",
        "print (\"logloss: %0.3f \" % multiclass_logloss(y_test,predictions))\n",
        "\n",
        "print(classification_report(y_test, y_pred))\n",
        "\n",
        "print(confusion_matrix(y_test,y_pred))\n",
        "\n",
        "log_entry = pd.DataFrame([[\"MultinomialNB\",accuracy_score(y_pred, y_test),f1_score(y_pred, y_test,average='weighted')]], columns=log_cols)\n",
        "log = log.append(log_entry)"
      ],
      "execution_count": null,
      "outputs": [
        {
          "output_type": "stream",
          "text": [
            "accuracy 0.5816485225505443\n",
            "f1 score 0.7132671735077503\n",
            "logloss: 1.526 \n",
            "              precision    recall  f1-score   support\n",
            "\n",
            "           0       0.59      1.00      0.74       308\n",
            "           1       0.00      0.00      0.00        15\n",
            "           2       1.00      0.20      0.33        25\n",
            "           3       0.00      0.00      0.00        14\n",
            "           4       0.00      0.00      0.00        11\n",
            "           5       0.00      0.00      0.00        11\n",
            "           6       0.00      0.00      0.00        23\n",
            "           7       0.67      0.07      0.13        28\n",
            "           8       1.00      0.28      0.43        29\n",
            "           9       0.00      0.00      0.00        12\n",
            "          10       0.00      0.00      0.00        11\n",
            "          11       0.00      0.00      0.00        22\n",
            "          12       0.00      0.00      0.00        12\n",
            "          13       0.00      0.00      0.00        16\n",
            "          14       0.00      0.00      0.00        20\n",
            "          15       0.49      0.88      0.63        58\n",
            "          16       0.00      0.00      0.00        28\n",
            "\n",
            "    accuracy                           0.58       643\n",
            "   macro avg       0.22      0.14      0.13       643\n",
            "weighted avg       0.44      0.58      0.45       643\n",
            "\n",
            "[[308   0   0   0   0   0   0   0   0   0   0   0   0   0   0   0   0]\n",
            " [  5   0   0   0   0   0   0   0   0   0   0   0   0   0   0  10   0]\n",
            " [ 20   0   5   0   0   0   0   0   0   0   0   0   0   0   0   0   0]\n",
            " [ 14   0   0   0   0   0   0   0   0   0   0   0   0   0   0   0   0]\n",
            " [ 11   0   0   0   0   0   0   0   0   0   0   0   0   0   0   0   0]\n",
            " [ 11   0   0   0   0   0   0   0   0   0   0   0   0   0   0   0   0]\n",
            " [ 23   0   0   0   0   0   0   0   0   0   0   0   0   0   0   0   0]\n",
            " [ 26   0   0   0   0   0   0   2   0   0   0   0   0   0   0   0   0]\n",
            " [ 21   0   0   0   0   0   0   0   8   0   0   0   0   0   0   0   0]\n",
            " [ 12   0   0   0   0   0   0   0   0   0   0   0   0   0   0   0   0]\n",
            " [ 10   0   0   0   0   0   0   0   0   0   0   0   0   0   0   1   0]\n",
            " [ 21   0   0   0   0   0   0   1   0   0   0   0   0   0   0   0   0]\n",
            " [ 12   0   0   0   0   0   0   0   0   0   0   0   0   0   0   0   0]\n",
            " [  2   0   0   0   0   0   0   0   0   0   0   0   0   0   0  14   0]\n",
            " [  5   0   0   0   0   0   0   0   0   0   0   0   0   0   0  15   0]\n",
            " [  7   0   0   0   0   0   0   0   0   0   0   0   0   0   0  51   0]\n",
            " [ 14   0   0   0   0   0   0   0   0   0   0   0   0   0   0  14   0]]\n"
          ],
          "name": "stdout"
        }
      ]
    },
    {
      "cell_type": "markdown",
      "metadata": {
        "id": "ZSi-F_kvzll5"
      },
      "source": [
        "### Linear Support Vector Machine"
      ]
    },
    {
      "cell_type": "code",
      "metadata": {
        "colab": {
          "base_uri": "https://localhost:8080/"
        },
        "id": "aCUAv-h7zll5",
        "outputId": "6f4e39dd-b26b-4ace-9702-064ced89fa78"
      },
      "source": [
        "from sklearn.svm import LinearSVC\n",
        "from sklearn.multiclass import OneVsRestClassifier\n",
        "\n",
        "\n",
        "svc = Pipeline([('vect', CountVectorizer()),\n",
        "                ('tfidf', TfidfTransformer()),\n",
        "                ('clf', OneVsRestClassifier(LinearSVC(loss='hinge',random_state=42,class_weight='balanced'))),\n",
        "               ])\n",
        "svc.fit(X_train, y_train)\n",
        "\n",
        "y_pred = svc.predict(X_test)\n",
        "print('Test accuracy %s' % accuracy_score(y_pred, y_test))\n",
        "print('Test f1 score %s' % f1_score(y_pred, y_test,average='weighted')) \n",
        "\n",
        "print(classification_report(y_test, y_pred))\n",
        "\n",
        "print(confusion_matrix(y_test,y_pred))\n",
        "\n",
        "log_entry = pd.DataFrame([[\"LinearSVC\",accuracy_score(y_pred, y_test),f1_score(y_pred, y_test,average='weighted')]], columns=log_cols)\n",
        "log = log.append(log_entry)"
      ],
      "execution_count": null,
      "outputs": [
        {
          "output_type": "stream",
          "text": [
            "Test accuracy 0.6671850699844479\n",
            "Test f1 score 0.669417117147617\n",
            "              precision    recall  f1-score   support\n",
            "\n",
            "           0       0.83      0.87      0.85       308\n",
            "           1       0.50      0.33      0.40        15\n",
            "           2       0.70      0.76      0.73        25\n",
            "           3       0.90      0.64      0.75        14\n",
            "           4       0.33      0.18      0.24        11\n",
            "           5       0.78      0.64      0.70        11\n",
            "           6       0.25      0.30      0.27        23\n",
            "           7       0.41      0.43      0.42        28\n",
            "           8       0.84      0.90      0.87        29\n",
            "           9       0.67      0.67      0.67        12\n",
            "          10       0.60      0.55      0.57        11\n",
            "          11       0.38      0.23      0.29        22\n",
            "          12       0.64      0.58      0.61        12\n",
            "          13       0.33      0.06      0.11        16\n",
            "          14       0.20      0.90      0.33        20\n",
            "          15       0.95      0.34      0.51        58\n",
            "          16       0.73      0.29      0.41        28\n",
            "\n",
            "    accuracy                           0.67       643\n",
            "   macro avg       0.59      0.51      0.51       643\n",
            "weighted avg       0.72      0.67      0.66       643\n",
            "\n",
            "[[269   0   3   0   1   0  12  13   2   1   1   4   1   0   1   0   0]\n",
            " [  0   5   0   0   0   0   0   0   0   1   0   0   0   0   9   0   0]\n",
            " [  2   0  19   0   0   0   1   0   2   0   0   0   1   0   0   0   0]\n",
            " [  1   2   0   9   0   1   0   0   0   0   1   0   0   0   0   0   0]\n",
            " [  3   0   3   0   2   0   0   0   0   0   0   0   0   0   0   1   2]\n",
            " [  3   0   0   0   0   7   0   0   0   0   0   0   0   0   1   0   0]\n",
            " [ 14   0   0   0   0   0   7   0   0   1   0   1   0   0   0   0   0]\n",
            " [ 12   0   1   0   0   0   1  12   0   1   1   0   0   0   0   0   0]\n",
            " [  1   0   0   0   0   0   0   0  26   0   0   1   1   0   0   0   0]\n",
            " [  3   0   0   0   0   0   0   0   0   8   0   0   1   0   0   0   0]\n",
            " [  2   2   0   0   0   0   0   0   0   0   6   0   0   0   1   0   0]\n",
            " [  7   0   0   0   0   0   7   3   0   0   0   5   0   0   0   0   0]\n",
            " [  3   0   0   0   0   0   0   0   1   0   0   1   7   0   0   0   0]\n",
            " [  1   0   0   0   0   0   0   0   0   0   0   1   0   1  13   0   0]\n",
            " [  0   0   0   0   0   0   0   1   0   0   1   0   0   0  18   0   0]\n",
            " [  1   0   1   0   2   0   0   0   0   0   0   0   0   2  31  20   1]\n",
            " [  2   1   0   1   1   1   0   0   0   0   0   0   0   0  14   0   8]]\n"
          ],
          "name": "stdout"
        }
      ]
    },
    {
      "cell_type": "markdown",
      "metadata": {
        "id": "VgpOMGL5zll5"
      },
      "source": [
        "### SGD Classifier"
      ]
    },
    {
      "cell_type": "code",
      "metadata": {
        "colab": {
          "base_uri": "https://localhost:8080/"
        },
        "id": "3WrPpc-Wzll5",
        "outputId": "bbf3f5b1-f8a6-4f3b-faf7-960d738415b8"
      },
      "source": [
        "from sklearn.linear_model import SGDClassifier\n",
        "\n",
        "sgd = Pipeline([('vect', CountVectorizer()),\n",
        "                ('tfidf', TfidfTransformer()),\n",
        "                ('clf', SGDClassifier(loss='hinge', penalty='l2',alpha=1e-3, random_state=42, max_iter=100, tol=None,class_weight='balanced')),\n",
        "               ])\n",
        "sgd.fit(X_train, y_train)\n",
        "\n",
        "y_pred = sgd.predict(X_test)\n",
        "print('accuracy %s' % accuracy_score(y_pred, y_test))\n",
        "print('f1 score %s' % f1_score(y_pred, y_test,average='weighted')) \n",
        "\n",
        "\n",
        "print(classification_report(y_test, y_pred))\n",
        "\n",
        "print(confusion_matrix(y_test,y_pred))\n",
        "\n",
        "log_entry = pd.DataFrame([[\"SGDClassifier\",accuracy_score(y_pred, y_test),f1_score(y_pred, y_test,average='weighted')]], columns=log_cols)\n",
        "log = log.append(log_entry)"
      ],
      "execution_count": null,
      "outputs": [
        {
          "output_type": "stream",
          "text": [
            "accuracy 0.6236391912908242\n",
            "f1 score 0.6191631913481135\n",
            "              precision    recall  f1-score   support\n",
            "\n",
            "           0       0.92      0.71      0.80       308\n",
            "           1       0.14      0.20      0.16        15\n",
            "           2       0.58      0.76      0.66        25\n",
            "           3       0.47      0.64      0.55        14\n",
            "           4       0.20      0.18      0.19        11\n",
            "           5       0.31      0.73      0.43        11\n",
            "           6       0.33      0.43      0.38        23\n",
            "           7       0.41      0.46      0.43        28\n",
            "           8       0.62      0.86      0.72        29\n",
            "           9       0.52      1.00      0.69        12\n",
            "          10       0.33      0.55      0.41        11\n",
            "          11       0.33      0.27      0.30        22\n",
            "          12       0.41      0.75      0.53        12\n",
            "          13       0.33      0.06      0.11        16\n",
            "          14       0.80      0.40      0.53        20\n",
            "          15       0.51      0.79      0.62        58\n",
            "          16       0.62      0.18      0.28        28\n",
            "\n",
            "    accuracy                           0.62       643\n",
            "   macro avg       0.46      0.53      0.46       643\n",
            "weighted avg       0.68      0.62      0.63       643\n",
            "\n",
            "[[219   5   7   3   4  10  13  14   4   5   4   8  10   0   1   0   1]\n",
            " [  0   3   0   2   0   0   0   0   0   1   0   0   0   0   0   9   0]\n",
            " [  0   0  19   0   0   0   1   0   3   1   0   0   1   0   0   0   0]\n",
            " [  0   1   0   9   0   1   0   0   0   0   3   0   0   0   0   0   0]\n",
            " [  2   0   3   0   2   0   0   0   0   0   0   0   0   0   0   2   2]\n",
            " [  1   0   0   0   0   8   0   0   0   0   1   1   0   0   0   0   0]\n",
            " [  6   0   0   1   0   0  10   3   1   1   0   0   1   0   0   0   0]\n",
            " [  6   0   1   1   1   0   1  13   0   1   2   1   0   0   1   0   0]\n",
            " [  1   0   0   0   0   0   0   0  25   1   0   1   1   0   0   0   0]\n",
            " [  0   0   0   0   0   0   0   0   0  12   0   0   0   0   0   0   0]\n",
            " [  0   2   0   1   0   0   0   0   1   0   6   0   0   0   0   1   0]\n",
            " [  2   0   0   0   1   1   5   2   3   0   2   6   0   0   0   0   0]\n",
            " [  0   0   0   0   0   0   0   0   3   0   0   0   9   0   0   0   0]\n",
            " [  0   1   0   0   0   1   0   0   0   0   0   1   0   1   0  12   0]\n",
            " [  0   2   0   0   0   1   0   0   0   0   0   0   0   0   8   9   0]\n",
            " [  1   5   1   0   2   1   0   0   0   0   0   0   0   2   0  46   0]\n",
            " [  0   3   2   2   0   3   0   0   0   1   0   0   0   0   0  12   5]]\n"
          ],
          "name": "stdout"
        }
      ]
    },
    {
      "cell_type": "markdown",
      "metadata": {
        "id": "Rw02nOXUzll5"
      },
      "source": [
        "### Logistic Regression"
      ]
    },
    {
      "cell_type": "code",
      "metadata": {
        "colab": {
          "base_uri": "https://localhost:8080/"
        },
        "id": "pkCop8QGzll5",
        "outputId": "edac359a-8ea0-4f4b-b43f-062eb46d74e5"
      },
      "source": [
        "from sklearn.linear_model import LogisticRegression\n",
        "\n",
        "logreg_1 = Pipeline([('vect', CountVectorizer()),\n",
        "                ('tfidf', TfidfTransformer()),\n",
        "                ('clf', LogisticRegression(n_jobs=1, C=1e5,class_weight='balanced')),\n",
        "               ])\n",
        "logreg_1.fit(X_train, y_train)\n",
        "\n",
        "y_pred = logreg_1.predict(X_test)\n",
        "predictions = logreg_1.predict_proba(X_test)\n",
        "\n",
        "print('accuracy %s' % accuracy_score(y_pred, y_test))\n",
        "print('f1 score %s' % f1_score(y_pred, y_test,average='weighted')) \n",
        "print (\"logloss: %0.3f \" % multiclass_logloss(y_test,predictions))\n",
        "\n",
        "print(classification_report(y_test, y_pred))\n",
        "\n",
        "print(confusion_matrix(y_test,y_pred))\n",
        "\n",
        "log_entry = pd.DataFrame([[\"LogisticRegression\",accuracy_score(y_pred, y_test),f1_score(y_pred, y_test,average='weighted')]], columns=log_cols)\n",
        "log = log.append(log_entry)"
      ],
      "execution_count": null,
      "outputs": [
        {
          "output_type": "stream",
          "text": [
            "accuracy 0.6594090202177294\n",
            "f1 score 0.6593670411339798\n",
            "logloss: 1.675 \n",
            "              precision    recall  f1-score   support\n",
            "\n",
            "           0       0.79      0.85      0.82       308\n",
            "           1       0.50      0.20      0.29        15\n",
            "           2       0.67      0.56      0.61        25\n",
            "           3       0.75      0.64      0.69        14\n",
            "           4       0.60      0.27      0.37        11\n",
            "           5       0.83      0.45      0.59        11\n",
            "           6       0.26      0.30      0.28        23\n",
            "           7       0.46      0.43      0.44        28\n",
            "           8       0.76      0.90      0.83        29\n",
            "           9       0.89      0.67      0.76        12\n",
            "          10       0.62      0.45      0.53        11\n",
            "          11       0.53      0.41      0.46        22\n",
            "          12       0.57      0.67      0.62        12\n",
            "          13       0.19      0.88      0.31        16\n",
            "          14       0.47      0.45      0.46        20\n",
            "          15       0.95      0.36      0.53        58\n",
            "          16       0.73      0.29      0.41        28\n",
            "\n",
            "    accuracy                           0.66       643\n",
            "   macro avg       0.62      0.52      0.53       643\n",
            "weighted avg       0.71      0.66      0.66       643\n",
            "\n",
            "[[263   0   3   1   1   0  16  10   3   0   0   6   3   0   1   1   0]\n",
            " [  2   3   0   1   0   0   0   0   0   0   0   0   0   9   0   0   0]\n",
            " [  4   0  14   0   0   0   1   1   3   1   0   0   1   0   0   0   0]\n",
            " [  2   2   0   9   0   0   0   0   0   0   1   0   0   0   0   0   0]\n",
            " [  3   0   3   0   3   0   0   0   0   0   0   0   0   0   0   0   2]\n",
            " [  4   0   0   1   0   5   0   0   0   0   0   0   0   0   1   0   0]\n",
            " [ 14   0   0   0   0   0   7   0   0   0   0   2   0   0   0   0   0]\n",
            " [ 14   0   0   0   0   0   1  12   0   0   1   0   0   0   0   0   0]\n",
            " [  2   0   0   0   0   0   0   0  26   0   0   0   1   0   0   0   0]\n",
            " [  3   0   0   0   0   0   0   0   0   8   0   0   1   0   0   0   0]\n",
            " [  4   1   0   0   0   0   0   0   0   0   5   0   0   1   0   0   0]\n",
            " [  9   0   0   0   0   0   2   2   0   0   0   9   0   0   0   0   0]\n",
            " [  2   0   0   0   0   0   0   0   2   0   0   0   8   0   0   0   0]\n",
            " [  1   0   0   0   0   0   0   0   0   0   0   0   0  14   1   0   0]\n",
            " [  0   0   0   0   0   0   0   1   0   0   1   0   0   9   9   0   0]\n",
            " [  1   0   1   0   1   0   0   0   0   0   0   0   0  28   5  21   1]\n",
            " [  5   0   0   0   0   1   0   0   0   0   0   0   0  12   2   0   8]]\n"
          ],
          "name": "stdout"
        }
      ]
    },
    {
      "cell_type": "code",
      "metadata": {
        "colab": {
          "base_uri": "https://localhost:8080/",
          "height": 204
        },
        "id": "UO9h8iHRzll5",
        "outputId": "432f70fd-d57d-4d4d-a6d7-366a3ab1af7a"
      },
      "source": [
        "log.set_index([\"Classifier\"],inplace=True)\n",
        "log.sort_values(by=['f1_score'])"
      ],
      "execution_count": null,
      "outputs": [
        {
          "output_type": "execute_result",
          "data": {
            "text/html": [
              "<div>\n",
              "<style scoped>\n",
              "    .dataframe tbody tr th:only-of-type {\n",
              "        vertical-align: middle;\n",
              "    }\n",
              "\n",
              "    .dataframe tbody tr th {\n",
              "        vertical-align: top;\n",
              "    }\n",
              "\n",
              "    .dataframe thead th {\n",
              "        text-align: right;\n",
              "    }\n",
              "</style>\n",
              "<table border=\"1\" class=\"dataframe\">\n",
              "  <thead>\n",
              "    <tr style=\"text-align: right;\">\n",
              "      <th></th>\n",
              "      <th>accuracy</th>\n",
              "      <th>f1_score</th>\n",
              "    </tr>\n",
              "    <tr>\n",
              "      <th>Classifier</th>\n",
              "      <th></th>\n",
              "      <th></th>\n",
              "    </tr>\n",
              "  </thead>\n",
              "  <tbody>\n",
              "    <tr>\n",
              "      <th>SGDClassifier</th>\n",
              "      <td>0.623639</td>\n",
              "      <td>0.619163</td>\n",
              "    </tr>\n",
              "    <tr>\n",
              "      <th>LogisticRegression</th>\n",
              "      <td>0.659409</td>\n",
              "      <td>0.659367</td>\n",
              "    </tr>\n",
              "    <tr>\n",
              "      <th>LinearSVC</th>\n",
              "      <td>0.667185</td>\n",
              "      <td>0.669417</td>\n",
              "    </tr>\n",
              "    <tr>\n",
              "      <th>MultinomialNB</th>\n",
              "      <td>0.581649</td>\n",
              "      <td>0.713267</td>\n",
              "    </tr>\n",
              "  </tbody>\n",
              "</table>\n",
              "</div>"
            ],
            "text/plain": [
              "                    accuracy  f1_score\n",
              "Classifier                            \n",
              "SGDClassifier       0.623639  0.619163\n",
              "LogisticRegression  0.659409  0.659367\n",
              "LinearSVC           0.667185  0.669417\n",
              "MultinomialNB       0.581649  0.713267"
            ]
          },
          "metadata": {
            "tags": []
          },
          "execution_count": 35
        }
      ]
    },
    {
      "cell_type": "code",
      "metadata": {
        "colab": {
          "base_uri": "https://localhost:8080/",
          "height": 391
        },
        "id": "4m8nOQSHzll5",
        "outputId": "ade4dd34-fc16-4510-92b3-86a47159d2ea"
      },
      "source": [
        "log.sort_values(by=['f1_score']).plot(kind='barh',figsize=[7,6])"
      ],
      "execution_count": null,
      "outputs": [
        {
          "output_type": "execute_result",
          "data": {
            "text/plain": [
              "<matplotlib.axes._subplots.AxesSubplot at 0x7f2fc20ee630>"
            ]
          },
          "metadata": {
            "tags": []
          },
          "execution_count": 36
        },
        {
          "output_type": "display_data",
          "data": {
            "image/png": "[encoded data removed]",
            "text/plain": [
              "<Figure size 504x432 with 1 Axes>"
            ]
          },
          "metadata": {
            "tags": [],
            "needs_background": "light"
          }
        }
      ]
    },
    {
      "cell_type": "markdown",
      "metadata": {
        "id": "tD9jkE8tzll6"
      },
      "source": [
        "## Hyperparameter Tune GridSearchCV \n",
        "\n",
        "Let's tune each of the models using GridsearchCV to identify the best parameters"
      ]
    },
    {
      "cell_type": "markdown",
      "metadata": {
        "id": "KEeBAnotzll6"
      },
      "source": [
        "### Linear SVC"
      ]
    },
    {
      "cell_type": "code",
      "metadata": {
        "colab": {
          "base_uri": "https://localhost:8080/"
        },
        "id": "hjDb756dzll6",
        "outputId": "d72f6d12-776d-4894-bf96-738cfad4a72c"
      },
      "source": [
        "from sklearn.model_selection import GridSearchCV\n",
        "\n",
        "params = {\"clf__estimator__C\": [0.1, 1, 10, 100, 1000],  \n",
        "              'clf__estimator__loss': ['hinge','squared_hinge'],}  \n",
        "  \n",
        "clf_svc = GridSearchCV(svc, param_grid=params, refit = True, verbose = 1,scoring='f1_weighted') \n",
        "# fitting the model for grid search \n",
        "clf_svc.fit(X_train, y_train)\n",
        "\n",
        "print(\"Best Score: \", clf_svc.best_score_)\n",
        "print(\"Best Params: \", clf_svc.best_params_)"
      ],
      "execution_count": null,
      "outputs": [
        {
          "output_type": "stream",
          "text": [
            "Fitting 5 folds for each of 10 candidates, totalling 50 fits\n"
          ],
          "name": "stdout"
        },
        {
          "output_type": "stream",
          "text": [
            "[Parallel(n_jobs=1)]: Using backend SequentialBackend with 1 concurrent workers.\n",
            "[Parallel(n_jobs=1)]: Done  50 out of  50 | elapsed:   24.2s finished\n"
          ],
          "name": "stderr"
        },
        {
          "output_type": "stream",
          "text": [
            "Best Score:  0.6676060726042718\n",
            "Best Params:  {'clf__estimator__C': 1, 'clf__estimator__loss': 'hinge'}\n"
          ],
          "name": "stdout"
        }
      ]
    },
    {
      "cell_type": "code",
      "metadata": {
        "colab": {
          "base_uri": "https://localhost:8080/"
        },
        "id": "xui4KHobzll6",
        "outputId": "eeae768b-4950-465e-8305-e97c44bcbf27"
      },
      "source": [
        "y_pred = clf_svc.best_estimator_.predict(X_test)\n",
        "#predictions = clf_svc.best_estimator_.predict_proba(X_test)\n",
        "\n",
        "print('accuracy %s' % accuracy_score(y_pred, y_test))\n",
        "print('f1 score %s' % f1_score(y_pred, y_test,average='weighted')) \n",
        "#print (\"logloss: %0.3f \" % multiclass_logloss(y_test,predictions))\n",
        "\n",
        "print(classification_report(y_test, y_pred))\n",
        "\n",
        "print(confusion_matrix(y_test,y_pred))\n",
        "\n",
        "log_entry = pd.DataFrame([[\"LinearSVC_best_estimator\",accuracy_score(y_pred, y_test),f1_score(y_pred, y_test,average='weighted')]], columns=log_cols,index=['LinearSVC_best_estimator'])\n",
        "log = log.append(log_entry)"
      ],
      "execution_count": null,
      "outputs": [
        {
          "output_type": "stream",
          "text": [
            "accuracy 0.6671850699844479\n",
            "f1 score 0.669417117147617\n",
            "              precision    recall  f1-score   support\n",
            "\n",
            "           0       0.83      0.87      0.85       308\n",
            "           1       0.50      0.33      0.40        15\n",
            "           2       0.70      0.76      0.73        25\n",
            "           3       0.90      0.64      0.75        14\n",
            "           4       0.33      0.18      0.24        11\n",
            "           5       0.78      0.64      0.70        11\n",
            "           6       0.25      0.30      0.27        23\n",
            "           7       0.41      0.43      0.42        28\n",
            "           8       0.84      0.90      0.87        29\n",
            "           9       0.67      0.67      0.67        12\n",
            "          10       0.60      0.55      0.57        11\n",
            "          11       0.38      0.23      0.29        22\n",
            "          12       0.64      0.58      0.61        12\n",
            "          13       0.33      0.06      0.11        16\n",
            "          14       0.20      0.90      0.33        20\n",
            "          15       0.95      0.34      0.51        58\n",
            "          16       0.73      0.29      0.41        28\n",
            "\n",
            "    accuracy                           0.67       643\n",
            "   macro avg       0.59      0.51      0.51       643\n",
            "weighted avg       0.72      0.67      0.66       643\n",
            "\n",
            "[[269   0   3   0   1   0  12  13   2   1   1   4   1   0   1   0   0]\n",
            " [  0   5   0   0   0   0   0   0   0   1   0   0   0   0   9   0   0]\n",
            " [  2   0  19   0   0   0   1   0   2   0   0   0   1   0   0   0   0]\n",
            " [  1   2   0   9   0   1   0   0   0   0   1   0   0   0   0   0   0]\n",
            " [  3   0   3   0   2   0   0   0   0   0   0   0   0   0   0   1   2]\n",
            " [  3   0   0   0   0   7   0   0   0   0   0   0   0   0   1   0   0]\n",
            " [ 14   0   0   0   0   0   7   0   0   1   0   1   0   0   0   0   0]\n",
            " [ 12   0   1   0   0   0   1  12   0   1   1   0   0   0   0   0   0]\n",
            " [  1   0   0   0   0   0   0   0  26   0   0   1   1   0   0   0   0]\n",
            " [  3   0   0   0   0   0   0   0   0   8   0   0   1   0   0   0   0]\n",
            " [  2   2   0   0   0   0   0   0   0   0   6   0   0   0   1   0   0]\n",
            " [  7   0   0   0   0   0   7   3   0   0   0   5   0   0   0   0   0]\n",
            " [  3   0   0   0   0   0   0   0   1   0   0   1   7   0   0   0   0]\n",
            " [  1   0   0   0   0   0   0   0   0   0   0   1   0   1  13   0   0]\n",
            " [  0   0   0   0   0   0   0   1   0   0   1   0   0   0  18   0   0]\n",
            " [  1   0   1   0   2   0   0   0   0   0   0   0   0   2  31  20   1]\n",
            " [  2   1   0   1   1   1   0   0   0   0   0   0   0   0  14   0   8]]\n"
          ],
          "name": "stdout"
        }
      ]
    },
    {
      "cell_type": "markdown",
      "metadata": {
        "id": "6nrVkd47zll6"
      },
      "source": [
        "### SGD Classifier"
      ]
    },
    {
      "cell_type": "code",
      "metadata": {
        "colab": {
          "base_uri": "https://localhost:8080/"
        },
        "id": "mVyIa1T4zll6",
        "outputId": "21c5e913-0883-4f12-a71e-2e1dbccbdf42"
      },
      "source": [
        "\n",
        "params = {\n",
        "    \"clf__loss\" : [\"hinge\", \"log\", \"squared_hinge\", \"modified_huber\"],\n",
        "    \"clf__alpha\" : [0.0001, 0.001, 0.01, 0.1],\n",
        "    \"clf__penalty\" : [\"l2\", \"l1\", \"none\"],\n",
        "}\n",
        "\n",
        "clf_sgd = GridSearchCV(sgd, param_grid=params,refit = True, verbose = 1,scoring='f1_weighted')\n",
        "clf_sgd.fit(X_train, y_train)\n",
        "\n",
        "print(\"Best Score: \", clf_sgd.best_score_)\n",
        "print(\"Best Params: \", clf_sgd.best_params_)"
      ],
      "execution_count": null,
      "outputs": [
        {
          "output_type": "stream",
          "text": [
            "Fitting 5 folds for each of 48 candidates, totalling 240 fits\n"
          ],
          "name": "stdout"
        },
        {
          "output_type": "stream",
          "text": [
            "[Parallel(n_jobs=1)]: Using backend SequentialBackend with 1 concurrent workers.\n",
            "[Parallel(n_jobs=1)]: Done 240 out of 240 | elapsed:  1.7min finished\n"
          ],
          "name": "stderr"
        },
        {
          "output_type": "stream",
          "text": [
            "Best Score:  0.6636979641698132\n",
            "Best Params:  {'clf__alpha': 0.0001, 'clf__loss': 'log', 'clf__penalty': 'l2'}\n"
          ],
          "name": "stdout"
        }
      ]
    },
    {
      "cell_type": "code",
      "metadata": {
        "colab": {
          "base_uri": "https://localhost:8080/"
        },
        "id": "DFlBGONvzll6",
        "outputId": "7844fbe1-2868-469c-be69-9fbb40f2a8a0"
      },
      "source": [
        "y_pred = clf_sgd.best_estimator_.predict(X_test)\n",
        "#predictions = clf_svc.best_estimator_.predict_proba(X_test)\n",
        "\n",
        "print('accuracy %s' % accuracy_score(y_pred, y_test))\n",
        "print('f1 score %s' % f1_score(y_pred, y_test,average='weighted')) \n",
        "#print (\"logloss: %0.3f \" % multiclass_logloss(y_test,predictions))\n",
        "\n",
        "print(classification_report(y_test, y_pred))\n",
        "\n",
        "print(confusion_matrix(y_test,y_pred))\n",
        "\n",
        "log_entry = pd.DataFrame([[\"SGD_best_estimator\",accuracy_score(y_pred, y_test),f1_score(y_pred, y_test,average='weighted')]], columns=log_cols,index=['SGD_best_estimator'])\n",
        "log = log.append(log_entry)"
      ],
      "execution_count": null,
      "outputs": [
        {
          "output_type": "stream",
          "text": [
            "accuracy 0.6547433903576982\n",
            "f1 score 0.6546864611127663\n",
            "              precision    recall  f1-score   support\n",
            "\n",
            "           0       0.84      0.83      0.84       308\n",
            "           1       0.57      0.27      0.36        15\n",
            "           2       0.67      0.64      0.65        25\n",
            "           3       0.69      0.64      0.67        14\n",
            "           4       0.33      0.18      0.24        11\n",
            "           5       0.64      0.64      0.64        11\n",
            "           6       0.29      0.35      0.31        23\n",
            "           7       0.40      0.50      0.44        28\n",
            "           8       0.74      0.90      0.81        29\n",
            "           9       0.62      0.83      0.71        12\n",
            "          10       0.50      0.55      0.52        11\n",
            "          11       0.29      0.23      0.26        22\n",
            "          12       0.56      0.75      0.64        12\n",
            "          13       0.33      0.06      0.11        16\n",
            "          14       0.50      0.45      0.47        20\n",
            "          15       1.00      0.36      0.53        58\n",
            "          16       0.24      0.68      0.36        28\n",
            "\n",
            "    accuracy                           0.65       643\n",
            "   macro avg       0.54      0.52      0.50       643\n",
            "weighted avg       0.70      0.65      0.65       643\n",
            "\n",
            "[[255   1   3   1   1   1  12  16   3   1   1   7   5   0   1   0   0]\n",
            " [  1   4   0   1   0   0   0   0   0   0   0   0   0   0   0   0   9]\n",
            " [  2   0  16   0   0   0   1   1   3   1   0   0   1   0   0   0   0]\n",
            " [  1   1   0   9   0   1   0   0   0   0   2   0   0   0   0   0   0]\n",
            " [  3   0   4   0   2   0   0   0   0   0   0   0   0   0   0   0   2]\n",
            " [  2   0   0   1   0   7   0   0   0   0   0   1   0   0   0   0   0]\n",
            " [ 12   0   0   0   0   0   8   1   0   1   0   1   0   0   0   0   0]\n",
            " [ 11   0   0   0   0   0   1  14   0   1   1   0   0   0   0   0   0]\n",
            " [  1   0   0   0   0   0   0   0  26   0   0   1   1   0   0   0   0]\n",
            " [  2   0   0   0   0   0   0   0   0  10   0   0   0   0   0   0   0]\n",
            " [  2   1   0   0   0   0   0   0   0   1   6   0   0   0   0   0   1]\n",
            " [  7   0   0   0   0   0   6   2   1   0   1   5   0   0   0   0   0]\n",
            " [  0   0   0   0   0   0   0   0   2   0   0   1   9   0   0   0   0]\n",
            " [  1   0   0   0   0   0   0   0   0   0   0   1   0   1   1   0  12]\n",
            " [  0   0   0   0   0   0   0   1   0   0   1   0   0   0   9   0   9]\n",
            " [  0   0   1   0   2   0   0   0   0   0   0   0   0   2   5  21  27]\n",
            " [  2   0   0   1   1   2   0   0   0   1   0   0   0   0   2   0  19]]\n"
          ],
          "name": "stdout"
        }
      ]
    },
    {
      "cell_type": "markdown",
      "metadata": {
        "id": "WQ7YvfVpzll6"
      },
      "source": [
        "### Logistic Regression"
      ]
    },
    {
      "cell_type": "code",
      "metadata": {
        "colab": {
          "base_uri": "https://localhost:8080/"
        },
        "id": "1FCdRCoXzll7",
        "outputId": "1b6f808c-1af2-43da-811d-5577729d665e"
      },
      "source": [
        "params = {\n",
        "  'clf__penalty': ['l2'],\n",
        "  'clf__C': [1e-6, 1e-5, 1e-4, 1e-3, 1e-2, 1e-1, 1e0,1e2,1e4,1e5],\n",
        "  'clf__max_iter': [100,4000,5000],\n",
        "}\n",
        "\n",
        "clf_lr = GridSearchCV(logreg_1, param_grid=params,refit = True,verbose = 1,scoring='f1_weighted')\n",
        "clf_lr.fit(X_train, y_train)\n",
        "\n",
        "print(\"Best Score: \", clf_lr.best_score_)\n",
        "print(\"Best Params: \", clf_lr.best_params_)"
      ],
      "execution_count": null,
      "outputs": [
        {
          "output_type": "stream",
          "text": [
            "Fitting 5 folds for each of 30 candidates, totalling 150 fits\n"
          ],
          "name": "stdout"
        },
        {
          "output_type": "stream",
          "text": [
            "[Parallel(n_jobs=1)]: Using backend SequentialBackend with 1 concurrent workers.\n",
            "[Parallel(n_jobs=1)]: Done 150 out of 150 | elapsed: 18.2min finished\n"
          ],
          "name": "stderr"
        },
        {
          "output_type": "stream",
          "text": [
            "Best Score:  0.6530367667820494\n",
            "Best Params:  {'clf__C': 100.0, 'clf__max_iter': 4000, 'clf__penalty': 'l2'}\n"
          ],
          "name": "stdout"
        }
      ]
    },
    {
      "cell_type": "code",
      "metadata": {
        "colab": {
          "base_uri": "https://localhost:8080/"
        },
        "id": "zk6zexlQzll7",
        "outputId": "967552ee-d245-4991-f865-9d2edb4f7ed8"
      },
      "source": [
        "y_pred = clf_lr.best_estimator_.predict(X_test)\n",
        "#predictions = clf_svc.best_estimator_.predict_proba(X_test)\n",
        "\n",
        "print('accuracy %s' % accuracy_score(y_pred, y_test))\n",
        "print('f1 score %s' % f1_score(y_pred, y_test,average='weighted')) \n",
        "#print (\"logloss: %0.3f \" % multiclass_logloss(y_test,predictions))\n",
        "\n",
        "print(classification_report(y_test, y_pred))\n",
        "\n",
        "print(confusion_matrix(y_test,y_pred))\n",
        "\n",
        "log_entry = pd.DataFrame([[\"LogisticRegression_best_estimator\",accuracy_score(y_pred, y_test),f1_score(y_pred, y_test,average='weighted')]], columns=log_cols,index=['LogisticRegression_best_estimator'])\n",
        "log = log.append(log_entry)"
      ],
      "execution_count": null,
      "outputs": [
        {
          "output_type": "stream",
          "text": [
            "accuracy 0.6625194401244168\n",
            "f1 score 0.6544892649396113\n",
            "              precision    recall  f1-score   support\n",
            "\n",
            "           0       0.83      0.83      0.83       308\n",
            "           1       0.56      0.33      0.42        15\n",
            "           2       0.72      0.72      0.72        25\n",
            "           3       0.90      0.64      0.75        14\n",
            "           4       0.43      0.27      0.33        11\n",
            "           5       0.67      0.55      0.60        11\n",
            "           6       0.29      0.35      0.31        23\n",
            "           7       0.39      0.46      0.43        28\n",
            "           8       0.76      0.90      0.83        29\n",
            "           9       0.82      0.75      0.78        12\n",
            "          10       0.55      0.55      0.55        11\n",
            "          11       0.39      0.41      0.40        22\n",
            "          12       0.62      0.67      0.64        12\n",
            "          13       0.18      0.81      0.30        16\n",
            "          14       0.47      0.45      0.46        20\n",
            "          15       1.00      0.34      0.51        58\n",
            "          16       0.73      0.29      0.41        28\n",
            "\n",
            "    accuracy                           0.66       643\n",
            "   macro avg       0.61      0.55      0.54       643\n",
            "weighted avg       0.73      0.66      0.67       643\n",
            "\n",
            "[[256   0   3   0   1   1  15  14   3   1   2   9   2   0   1   0   0]\n",
            " [  1   5   0   0   0   0   0   0   0   0   0   0   0   9   0   0   0]\n",
            " [  2   0  18   0   0   0   1   1   2   0   0   0   1   0   0   0   0]\n",
            " [  1   2   0   9   0   1   0   0   0   0   1   0   0   0   0   0   0]\n",
            " [  3   0   3   0   3   0   0   0   0   0   0   0   0   0   0   0   2]\n",
            " [  4   0   0   0   0   6   0   0   0   0   0   0   0   0   1   0   0]\n",
            " [ 12   0   0   0   0   0   8   0   0   1   0   2   0   0   0   0   0]\n",
            " [ 12   0   0   0   0   0   2  13   0   0   1   0   0   0   0   0   0]\n",
            " [  1   0   0   0   0   0   0   0  26   0   0   1   1   0   0   0   0]\n",
            " [  1   0   0   0   0   0   0   1   0   9   0   0   1   0   0   0   0]\n",
            " [  3   1   0   0   0   0   0   0   0   0   6   0   0   1   0   0   0]\n",
            " [  7   0   0   0   0   0   2   3   1   0   0   9   0   0   0   0   0]\n",
            " [  1   0   0   0   0   0   0   0   2   0   0   1   8   0   0   0   0]\n",
            " [  1   0   0   0   0   0   0   0   0   0   0   1   0  13   1   0   0]\n",
            " [  0   0   0   0   0   0   0   1   0   0   1   0   0   9   9   0   0]\n",
            " [  1   0   1   0   2   0   0   0   0   0   0   0   0  28   5  20   1]\n",
            " [  2   1   0   1   1   1   0   0   0   0   0   0   0  12   2   0   8]]\n"
          ],
          "name": "stdout"
        }
      ]
    },
    {
      "cell_type": "code",
      "metadata": {
        "colab": {
          "base_uri": "https://localhost:8080/",
          "height": 266
        },
        "id": "YWlWF2cUzll7",
        "outputId": "6018dc4f-7dd4-4588-9391-12c9a6597857"
      },
      "source": [
        "log.sort_values(by=['f1_score'])"
      ],
      "execution_count": null,
      "outputs": [
        {
          "output_type": "execute_result",
          "data": {
            "text/html": [
              "<div>\n",
              "<style scoped>\n",
              "    .dataframe tbody tr th:only-of-type {\n",
              "        vertical-align: middle;\n",
              "    }\n",
              "\n",
              "    .dataframe tbody tr th {\n",
              "        vertical-align: top;\n",
              "    }\n",
              "\n",
              "    .dataframe thead th {\n",
              "        text-align: right;\n",
              "    }\n",
              "</style>\n",
              "<table border=\"1\" class=\"dataframe\">\n",
              "  <thead>\n",
              "    <tr style=\"text-align: right;\">\n",
              "      <th></th>\n",
              "      <th>accuracy</th>\n",
              "      <th>f1_score</th>\n",
              "      <th>Classifier</th>\n",
              "    </tr>\n",
              "  </thead>\n",
              "  <tbody>\n",
              "    <tr>\n",
              "      <th>SGDClassifier</th>\n",
              "      <td>0.623639</td>\n",
              "      <td>0.619163</td>\n",
              "      <td>NaN</td>\n",
              "    </tr>\n",
              "    <tr>\n",
              "      <th>LogisticRegression_best_estimator</th>\n",
              "      <td>0.662519</td>\n",
              "      <td>0.654489</td>\n",
              "      <td>LogisticRegression_best_estimator</td>\n",
              "    </tr>\n",
              "    <tr>\n",
              "      <th>SGD_best_estimator</th>\n",
              "      <td>0.654743</td>\n",
              "      <td>0.654686</td>\n",
              "      <td>SGD_best_estimator</td>\n",
              "    </tr>\n",
              "    <tr>\n",
              "      <th>LogisticRegression</th>\n",
              "      <td>0.659409</td>\n",
              "      <td>0.659367</td>\n",
              "      <td>NaN</td>\n",
              "    </tr>\n",
              "    <tr>\n",
              "      <th>LinearSVC</th>\n",
              "      <td>0.667185</td>\n",
              "      <td>0.669417</td>\n",
              "      <td>NaN</td>\n",
              "    </tr>\n",
              "    <tr>\n",
              "      <th>LinearSVC_best_estimator</th>\n",
              "      <td>0.667185</td>\n",
              "      <td>0.669417</td>\n",
              "      <td>LinearSVC_best_estimator</td>\n",
              "    </tr>\n",
              "    <tr>\n",
              "      <th>MultinomialNB</th>\n",
              "      <td>0.581649</td>\n",
              "      <td>0.713267</td>\n",
              "      <td>NaN</td>\n",
              "    </tr>\n",
              "  </tbody>\n",
              "</table>\n",
              "</div>"
            ],
            "text/plain": [
              "                                   accuracy  ...                         Classifier\n",
              "SGDClassifier                      0.623639  ...                                NaN\n",
              "LogisticRegression_best_estimator  0.662519  ...  LogisticRegression_best_estimator\n",
              "SGD_best_estimator                 0.654743  ...                 SGD_best_estimator\n",
              "LogisticRegression                 0.659409  ...                                NaN\n",
              "LinearSVC                          0.667185  ...                                NaN\n",
              "LinearSVC_best_estimator           0.667185  ...           LinearSVC_best_estimator\n",
              "MultinomialNB                      0.581649  ...                                NaN\n",
              "\n",
              "[7 rows x 3 columns]"
            ]
          },
          "metadata": {
            "tags": []
          },
          "execution_count": 43
        }
      ]
    },
    {
      "cell_type": "code",
      "metadata": {
        "colab": {
          "base_uri": "https://localhost:8080/",
          "height": 391
        },
        "id": "Ep9LIzkPzll7",
        "outputId": "cbd25723-7b18-430f-9670-f31bbffa5f64"
      },
      "source": [
        "log.sort_values(by=['f1_score']).plot(kind='barh',figsize=[7,6])"
      ],
      "execution_count": null,
      "outputs": [
        {
          "output_type": "execute_result",
          "data": {
            "text/plain": [
              "<matplotlib.axes._subplots.AxesSubplot at 0x7f2fc1fc3f98>"
            ]
          },
          "metadata": {
            "tags": []
          },
          "execution_count": 44
        },
        {
          "output_type": "display_data",
          "data": {
            "image/png": "[encoded data removed]",
            "text/plain": [
              "<Figure size 504x432 with 1 Axes>"
            ]
          },
          "metadata": {
            "tags": [],
            "needs_background": "light"
          }
        }
      ]
    },
    {
      "cell_type": "markdown",
      "metadata": {
        "id": "r8ZV3JiHzll7"
      },
      "source": [
        "## Keras implementation"
      ]
    },
    {
      "cell_type": "code",
      "metadata": {
        "id": "dAp1feq0zll7"
      },
      "source": [
        "from tensorflow import keras\n",
        "\n",
        "\n",
        "class FocalLoss(keras.losses.Loss):\n",
        "    def __init__(self, gamma=2., alpha=4.,\n",
        "                 reduction=keras.losses.Reduction.AUTO, name='focal_loss'):\n",
        "        \"\"\"Focal loss for multi-classification\n",
        "        FL(p_t)=-alpha(1-p_t)^{gamma}ln(p_t)\n",
        "        Notice: y_pred is probability after softmax\n",
        "        gradient is d(Fl)/d(p_t) not d(Fl)/d(x) as described in paper\n",
        "        d(Fl)/d(p_t) * [p_t(1-p_t)] = d(Fl)/d(x)\n",
        "        Focal Loss for Dense Object Detection\n",
        "        https://arxiv.org/abs/1708.02002\n",
        "\n",
        "        Keyword Arguments:\n",
        "            gamma {float} -- (default: {2.0})\n",
        "            alpha {float} -- (default: {4.0})\n",
        "        \"\"\"\n",
        "        super(FocalLoss, self).__init__(reduction=reduction,\n",
        "                                        name=name)\n",
        "        self.gamma = float(gamma)\n",
        "        self.alpha = float(alpha)\n",
        "\n",
        "    def call(self, y_true, y_pred):\n",
        "        \"\"\"\n",
        "        Arguments:\n",
        "            y_true {tensor} -- ground truth labels, shape of [batch_size, num_cls]\n",
        "            y_pred {tensor} -- model's output, shape of [batch_size, num_cls]\n",
        "\n",
        "        Returns:\n",
        "            [tensor] -- loss.\n",
        "        \"\"\"\n",
        "        epsilon = 1.e-9\n",
        "        y_true = tf.convert_to_tensor(y_true, tf.float32)\n",
        "        y_pred = tf.convert_to_tensor(y_pred, tf.float32)\n",
        "\n",
        "        model_out = tf.add(y_pred, epsilon)\n",
        "        ce = tf.multiply(y_true, -tf.math.log(model_out))\n",
        "        weight = tf.multiply(y_true, tf.pow(\n",
        "            tf.subtract(1., model_out), self.gamma))\n",
        "        fl = tf.multiply(self.alpha, tf.multiply(weight, ce))\n",
        "        reduced_fl = tf.reduce_max(fl, axis=1)\n",
        "        return reduced_fl"
      ],
      "execution_count": null,
      "outputs": []
    },
    {
      "cell_type": "code",
      "metadata": {
        "id": "qwRYllyHzll7"
      },
      "source": [
        "from keras.preprocessing.text import Tokenizer\n",
        "from keras.models import Sequential\n",
        "from keras.layers import Activation, Dense, Dropout\n",
        "from sklearn.preprocessing import LabelBinarizer\n",
        "import sklearn.datasets as skds\n",
        "from pathlib import Path\n",
        "import tensorflow as tf\n",
        "\n",
        "x = df_incidents_l3['token_desc']\n",
        "y = df_incidents_l3['Assignment_group']\n",
        "\n",
        "from sklearn.model_selection import train_test_split\n",
        "X_train, X_test, y_train, y_test = train_test_split(x, y, test_size= 0.3, random_state=13,stratify=y)\n",
        "\n",
        "num_labels = 22\n",
        "vocab_size = 50000\n",
        "batch_size = 64\n",
        " \n",
        "# define Tokenizer with Vocab Size\n",
        "tokenizer = Tokenizer(num_words=vocab_size)\n",
        "tokenizer.fit_on_texts(X_train)\n",
        " \n",
        "x_train = tokenizer.texts_to_matrix(X_train, mode='tfidf')\n",
        "x_test = tokenizer.texts_to_matrix(X_test, mode='tfidf')\n",
        "\n",
        "encoder = LabelBinarizer()\n",
        "encoder.fit(y_train)\n",
        "y_train = encoder.transform(y_train)\n",
        "y_test = encoder.transform(y_test)"
      ],
      "execution_count": null,
      "outputs": []
    },
    {
      "cell_type": "code",
      "metadata": {
        "colab": {
          "base_uri": "https://localhost:8080/",
          "height": 969
        },
        "id": "4_nikmRyzll8",
        "outputId": "d71a7b33-98c8-4cb9-9744-caaa799baffd"
      },
      "source": [
        "\n",
        "es_callback = keras.callbacks.EarlyStopping(monitor='val_loss', patience=3)\n",
        "model = Sequential()\n",
        "model.add(Dense(50, input_shape=(vocab_size,)))\n",
        "model.add(Activation('relu'))\n",
        "model.add(Dropout(0.3))\n",
        "model.add(Dense(30))\n",
        "model.add(Activation('relu'))\n",
        "model.add(Dropout(0.3))\n",
        "model.add(Dense(num_labels))\n",
        "model.add(Activation('softmax'))\n",
        "model.summary()\n",
        " \n",
        "model.compile(loss=FocalLoss(alpha=1),\n",
        "              optimizer='nadam',\n",
        "              metrics=['accuracy'])\n",
        " \n",
        "history = model.fit(x_train, y_train,\n",
        "                    batch_size=batch_size,\n",
        "                    epochs=30,\n",
        "                    verbose=1,validation_split=0.2,callbacks=[es_callback])"
      ],
      "execution_count": null,
      "outputs": [
        {
          "output_type": "stream",
          "text": [
            "Model: \"sequential\"\n",
            "_________________________________________________________________\n",
            "Layer (type)                 Output Shape              Param #   \n",
            "=================================================================\n",
            "dense (Dense)                (None, 50)                2500050   \n",
            "_________________________________________________________________\n",
            "activation (Activation)      (None, 50)                0         \n",
            "_________________________________________________________________\n",
            "dropout (Dropout)            (None, 50)                0         \n",
            "_________________________________________________________________\n",
            "dense_1 (Dense)              (None, 30)                1530      \n",
            "_________________________________________________________________\n",
            "activation_1 (Activation)    (None, 30)                0         \n",
            "_________________________________________________________________\n",
            "dropout_1 (Dropout)          (None, 30)                0         \n",
            "_________________________________________________________________\n",
            "dense_2 (Dense)              (None, 22)                682       \n",
            "_________________________________________________________________\n",
            "activation_2 (Activation)    (None, 22)                0         \n",
            "=================================================================\n",
            "Total params: 2,502,262\n",
            "Trainable params: 2,502,262\n",
            "Non-trainable params: 0\n",
            "_________________________________________________________________\n",
            "Epoch 1/30\n"
          ],
          "name": "stdout"
        },
        {
          "output_type": "error",
          "ename": "ValueError",
          "evalue": "ignored",
          "traceback": [
            "\u001b[0;31m---------------------------------------------------------------------------\u001b[0m",
            "\u001b[0;31mValueError\u001b[0m                                Traceback (most recent call last)",
            "\u001b[0;32m<ipython-input-47-20835e2a50b3>\u001b[0m in \u001b[0;36m<module>\u001b[0;34m()\u001b[0m\n\u001b[1;32m     19\u001b[0m                     \u001b[0mbatch_size\u001b[0m\u001b[0;34m=\u001b[0m\u001b[0mbatch_size\u001b[0m\u001b[0;34m,\u001b[0m\u001b[0;34m\u001b[0m\u001b[0;34m\u001b[0m\u001b[0m\n\u001b[1;32m     20\u001b[0m                     \u001b[0mepochs\u001b[0m\u001b[0;34m=\u001b[0m\u001b[0;36m30\u001b[0m\u001b[0;34m,\u001b[0m\u001b[0;34m\u001b[0m\u001b[0;34m\u001b[0m\u001b[0m\n\u001b[0;32m---> 21\u001b[0;31m                     verbose=1,validation_split=0.2,callbacks=[es_callback])\n\u001b[0m",
            "\u001b[0;32m/usr/local/lib/python3.6/dist-packages/tensorflow/python/keras/engine/training.py\u001b[0m in \u001b[0;36m_method_wrapper\u001b[0;34m(self, *args, **kwargs)\u001b[0m\n\u001b[1;32m    106\u001b[0m   \u001b[0;32mdef\u001b[0m \u001b[0m_method_wrapper\u001b[0m\u001b[0;34m(\u001b[0m\u001b[0mself\u001b[0m\u001b[0;34m,\u001b[0m \u001b[0;34m*\u001b[0m\u001b[0margs\u001b[0m\u001b[0;34m,\u001b[0m \u001b[0;34m**\u001b[0m\u001b[0mkwargs\u001b[0m\u001b[0;34m)\u001b[0m\u001b[0;34m:\u001b[0m\u001b[0;34m\u001b[0m\u001b[0;34m\u001b[0m\u001b[0m\n\u001b[1;32m    107\u001b[0m     \u001b[0;32mif\u001b[0m \u001b[0;32mnot\u001b[0m \u001b[0mself\u001b[0m\u001b[0;34m.\u001b[0m\u001b[0m_in_multi_worker_mode\u001b[0m\u001b[0;34m(\u001b[0m\u001b[0;34m)\u001b[0m\u001b[0;34m:\u001b[0m  \u001b[0;31m# pylint: disable=protected-access\u001b[0m\u001b[0;34m\u001b[0m\u001b[0;34m\u001b[0m\u001b[0m\n\u001b[0;32m--> 108\u001b[0;31m       \u001b[0;32mreturn\u001b[0m \u001b[0mmethod\u001b[0m\u001b[0;34m(\u001b[0m\u001b[0mself\u001b[0m\u001b[0;34m,\u001b[0m \u001b[0;34m*\u001b[0m\u001b[0margs\u001b[0m\u001b[0;34m,\u001b[0m \u001b[0;34m**\u001b[0m\u001b[0mkwargs\u001b[0m\u001b[0;34m)\u001b[0m\u001b[0;34m\u001b[0m\u001b[0;34m\u001b[0m\u001b[0m\n\u001b[0m\u001b[1;32m    109\u001b[0m \u001b[0;34m\u001b[0m\u001b[0m\n\u001b[1;32m    110\u001b[0m     \u001b[0;31m# Running inside `run_distribute_coordinator` already.\u001b[0m\u001b[0;34m\u001b[0m\u001b[0;34m\u001b[0m\u001b[0;34m\u001b[0m\u001b[0m\n",
            "\u001b[0;32m/usr/local/lib/python3.6/dist-packages/tensorflow/python/keras/engine/training.py\u001b[0m in \u001b[0;36mfit\u001b[0;34m(self, x, y, batch_size, epochs, verbose, callbacks, validation_split, validation_data, shuffle, class_weight, sample_weight, initial_epoch, steps_per_epoch, validation_steps, validation_batch_size, validation_freq, max_queue_size, workers, use_multiprocessing)\u001b[0m\n\u001b[1;32m   1096\u001b[0m                 batch_size=batch_size):\n\u001b[1;32m   1097\u001b[0m               \u001b[0mcallbacks\u001b[0m\u001b[0;34m.\u001b[0m\u001b[0mon_train_batch_begin\u001b[0m\u001b[0;34m(\u001b[0m\u001b[0mstep\u001b[0m\u001b[0;34m)\u001b[0m\u001b[0;34m\u001b[0m\u001b[0;34m\u001b[0m\u001b[0m\n\u001b[0;32m-> 1098\u001b[0;31m               \u001b[0mtmp_logs\u001b[0m \u001b[0;34m=\u001b[0m \u001b[0mtrain_function\u001b[0m\u001b[0;34m(\u001b[0m\u001b[0miterator\u001b[0m\u001b[0;34m)\u001b[0m\u001b[0;34m\u001b[0m\u001b[0;34m\u001b[0m\u001b[0m\n\u001b[0m\u001b[1;32m   1099\u001b[0m               \u001b[0;32mif\u001b[0m \u001b[0mdata_handler\u001b[0m\u001b[0;34m.\u001b[0m\u001b[0mshould_sync\u001b[0m\u001b[0;34m:\u001b[0m\u001b[0;34m\u001b[0m\u001b[0;34m\u001b[0m\u001b[0m\n\u001b[1;32m   1100\u001b[0m                 \u001b[0mcontext\u001b[0m\u001b[0;34m.\u001b[0m\u001b[0masync_wait\u001b[0m\u001b[0;34m(\u001b[0m\u001b[0;34m)\u001b[0m\u001b[0;34m\u001b[0m\u001b[0;34m\u001b[0m\u001b[0m\n",
            "\u001b[0;32m/usr/local/lib/python3.6/dist-packages/tensorflow/python/eager/def_function.py\u001b[0m in \u001b[0;36m__call__\u001b[0;34m(self, *args, **kwds)\u001b[0m\n\u001b[1;32m    778\u001b[0m       \u001b[0;32melse\u001b[0m\u001b[0;34m:\u001b[0m\u001b[0;34m\u001b[0m\u001b[0;34m\u001b[0m\u001b[0m\n\u001b[1;32m    779\u001b[0m         \u001b[0mcompiler\u001b[0m \u001b[0;34m=\u001b[0m \u001b[0;34m\"nonXla\"\u001b[0m\u001b[0;34m\u001b[0m\u001b[0;34m\u001b[0m\u001b[0m\n\u001b[0;32m--> 780\u001b[0;31m         \u001b[0mresult\u001b[0m \u001b[0;34m=\u001b[0m \u001b[0mself\u001b[0m\u001b[0;34m.\u001b[0m\u001b[0m_call\u001b[0m\u001b[0;34m(\u001b[0m\u001b[0;34m*\u001b[0m\u001b[0margs\u001b[0m\u001b[0;34m,\u001b[0m \u001b[0;34m**\u001b[0m\u001b[0mkwds\u001b[0m\u001b[0;34m)\u001b[0m\u001b[0;34m\u001b[0m\u001b[0;34m\u001b[0m\u001b[0m\n\u001b[0m\u001b[1;32m    781\u001b[0m \u001b[0;34m\u001b[0m\u001b[0m\n\u001b[1;32m    782\u001b[0m       \u001b[0mnew_tracing_count\u001b[0m \u001b[0;34m=\u001b[0m \u001b[0mself\u001b[0m\u001b[0;34m.\u001b[0m\u001b[0m_get_tracing_count\u001b[0m\u001b[0;34m(\u001b[0m\u001b[0;34m)\u001b[0m\u001b[0;34m\u001b[0m\u001b[0;34m\u001b[0m\u001b[0m\n",
            "\u001b[0;32m/usr/local/lib/python3.6/dist-packages/tensorflow/python/eager/def_function.py\u001b[0m in \u001b[0;36m_call\u001b[0;34m(self, *args, **kwds)\u001b[0m\n\u001b[1;32m    821\u001b[0m       \u001b[0;31m# This is the first call of __call__, so we have to initialize.\u001b[0m\u001b[0;34m\u001b[0m\u001b[0;34m\u001b[0m\u001b[0;34m\u001b[0m\u001b[0m\n\u001b[1;32m    822\u001b[0m       \u001b[0minitializers\u001b[0m \u001b[0;34m=\u001b[0m \u001b[0;34m[\u001b[0m\u001b[0;34m]\u001b[0m\u001b[0;34m\u001b[0m\u001b[0;34m\u001b[0m\u001b[0m\n\u001b[0;32m--> 823\u001b[0;31m       \u001b[0mself\u001b[0m\u001b[0;34m.\u001b[0m\u001b[0m_initialize\u001b[0m\u001b[0;34m(\u001b[0m\u001b[0margs\u001b[0m\u001b[0;34m,\u001b[0m \u001b[0mkwds\u001b[0m\u001b[0;34m,\u001b[0m \u001b[0madd_initializers_to\u001b[0m\u001b[0;34m=\u001b[0m\u001b[0minitializers\u001b[0m\u001b[0;34m)\u001b[0m\u001b[0;34m\u001b[0m\u001b[0;34m\u001b[0m\u001b[0m\n\u001b[0m\u001b[1;32m    824\u001b[0m     \u001b[0;32mfinally\u001b[0m\u001b[0;34m:\u001b[0m\u001b[0;34m\u001b[0m\u001b[0;34m\u001b[0m\u001b[0m\n\u001b[1;32m    825\u001b[0m       \u001b[0;31m# At this point we know that the initialization is complete (or less\u001b[0m\u001b[0;34m\u001b[0m\u001b[0;34m\u001b[0m\u001b[0;34m\u001b[0m\u001b[0m\n",
            "\u001b[0;32m/usr/local/lib/python3.6/dist-packages/tensorflow/python/eager/def_function.py\u001b[0m in \u001b[0;36m_initialize\u001b[0;34m(self, args, kwds, add_initializers_to)\u001b[0m\n\u001b[1;32m    695\u001b[0m     self._concrete_stateful_fn = (\n\u001b[1;32m    696\u001b[0m         self._stateful_fn._get_concrete_function_internal_garbage_collected(  # pylint: disable=protected-access\n\u001b[0;32m--> 697\u001b[0;31m             *args, **kwds))\n\u001b[0m\u001b[1;32m    698\u001b[0m \u001b[0;34m\u001b[0m\u001b[0m\n\u001b[1;32m    699\u001b[0m     \u001b[0;32mdef\u001b[0m \u001b[0minvalid_creator_scope\u001b[0m\u001b[0;34m(\u001b[0m\u001b[0;34m*\u001b[0m\u001b[0munused_args\u001b[0m\u001b[0;34m,\u001b[0m \u001b[0;34m**\u001b[0m\u001b[0munused_kwds\u001b[0m\u001b[0;34m)\u001b[0m\u001b[0;34m:\u001b[0m\u001b[0;34m\u001b[0m\u001b[0;34m\u001b[0m\u001b[0m\n",
            "\u001b[0;32m/usr/local/lib/python3.6/dist-packages/tensorflow/python/eager/function.py\u001b[0m in \u001b[0;36m_get_concrete_function_internal_garbage_collected\u001b[0;34m(self, *args, **kwargs)\u001b[0m\n\u001b[1;32m   2853\u001b[0m       \u001b[0margs\u001b[0m\u001b[0;34m,\u001b[0m \u001b[0mkwargs\u001b[0m \u001b[0;34m=\u001b[0m \u001b[0;32mNone\u001b[0m\u001b[0;34m,\u001b[0m \u001b[0;32mNone\u001b[0m\u001b[0;34m\u001b[0m\u001b[0;34m\u001b[0m\u001b[0m\n\u001b[1;32m   2854\u001b[0m     \u001b[0;32mwith\u001b[0m \u001b[0mself\u001b[0m\u001b[0;34m.\u001b[0m\u001b[0m_lock\u001b[0m\u001b[0;34m:\u001b[0m\u001b[0;34m\u001b[0m\u001b[0;34m\u001b[0m\u001b[0m\n\u001b[0;32m-> 2855\u001b[0;31m       \u001b[0mgraph_function\u001b[0m\u001b[0;34m,\u001b[0m \u001b[0m_\u001b[0m\u001b[0;34m,\u001b[0m \u001b[0m_\u001b[0m \u001b[0;34m=\u001b[0m \u001b[0mself\u001b[0m\u001b[0;34m.\u001b[0m\u001b[0m_maybe_define_function\u001b[0m\u001b[0;34m(\u001b[0m\u001b[0margs\u001b[0m\u001b[0;34m,\u001b[0m \u001b[0mkwargs\u001b[0m\u001b[0;34m)\u001b[0m\u001b[0;34m\u001b[0m\u001b[0;34m\u001b[0m\u001b[0m\n\u001b[0m\u001b[1;32m   2856\u001b[0m     \u001b[0;32mreturn\u001b[0m \u001b[0mgraph_function\u001b[0m\u001b[0;34m\u001b[0m\u001b[0;34m\u001b[0m\u001b[0m\n\u001b[1;32m   2857\u001b[0m \u001b[0;34m\u001b[0m\u001b[0m\n",
            "\u001b[0;32m/usr/local/lib/python3.6/dist-packages/tensorflow/python/eager/function.py\u001b[0m in \u001b[0;36m_maybe_define_function\u001b[0;34m(self, args, kwargs)\u001b[0m\n\u001b[1;32m   3211\u001b[0m \u001b[0;34m\u001b[0m\u001b[0m\n\u001b[1;32m   3212\u001b[0m       \u001b[0mself\u001b[0m\u001b[0;34m.\u001b[0m\u001b[0m_function_cache\u001b[0m\u001b[0;34m.\u001b[0m\u001b[0mmissed\u001b[0m\u001b[0;34m.\u001b[0m\u001b[0madd\u001b[0m\u001b[0;34m(\u001b[0m\u001b[0mcall_context_key\u001b[0m\u001b[0;34m)\u001b[0m\u001b[0;34m\u001b[0m\u001b[0;34m\u001b[0m\u001b[0m\n\u001b[0;32m-> 3213\u001b[0;31m       \u001b[0mgraph_function\u001b[0m \u001b[0;34m=\u001b[0m \u001b[0mself\u001b[0m\u001b[0;34m.\u001b[0m\u001b[0m_create_graph_function\u001b[0m\u001b[0;34m(\u001b[0m\u001b[0margs\u001b[0m\u001b[0;34m,\u001b[0m \u001b[0mkwargs\u001b[0m\u001b[0;34m)\u001b[0m\u001b[0;34m\u001b[0m\u001b[0;34m\u001b[0m\u001b[0m\n\u001b[0m\u001b[1;32m   3214\u001b[0m       \u001b[0mself\u001b[0m\u001b[0;34m.\u001b[0m\u001b[0m_function_cache\u001b[0m\u001b[0;34m.\u001b[0m\u001b[0mprimary\u001b[0m\u001b[0;34m[\u001b[0m\u001b[0mcache_key\u001b[0m\u001b[0;34m]\u001b[0m \u001b[0;34m=\u001b[0m \u001b[0mgraph_function\u001b[0m\u001b[0;34m\u001b[0m\u001b[0;34m\u001b[0m\u001b[0m\n\u001b[1;32m   3215\u001b[0m       \u001b[0;32mreturn\u001b[0m \u001b[0mgraph_function\u001b[0m\u001b[0;34m,\u001b[0m \u001b[0margs\u001b[0m\u001b[0;34m,\u001b[0m \u001b[0mkwargs\u001b[0m\u001b[0;34m\u001b[0m\u001b[0;34m\u001b[0m\u001b[0m\n",
            "\u001b[0;32m/usr/local/lib/python3.6/dist-packages/tensorflow/python/eager/function.py\u001b[0m in \u001b[0;36m_create_graph_function\u001b[0;34m(self, args, kwargs, override_flat_arg_shapes)\u001b[0m\n\u001b[1;32m   3073\u001b[0m             \u001b[0marg_names\u001b[0m\u001b[0;34m=\u001b[0m\u001b[0marg_names\u001b[0m\u001b[0;34m,\u001b[0m\u001b[0;34m\u001b[0m\u001b[0;34m\u001b[0m\u001b[0m\n\u001b[1;32m   3074\u001b[0m             \u001b[0moverride_flat_arg_shapes\u001b[0m\u001b[0;34m=\u001b[0m\u001b[0moverride_flat_arg_shapes\u001b[0m\u001b[0;34m,\u001b[0m\u001b[0;34m\u001b[0m\u001b[0;34m\u001b[0m\u001b[0m\n\u001b[0;32m-> 3075\u001b[0;31m             capture_by_value=self._capture_by_value),\n\u001b[0m\u001b[1;32m   3076\u001b[0m         \u001b[0mself\u001b[0m\u001b[0;34m.\u001b[0m\u001b[0m_function_attributes\u001b[0m\u001b[0;34m,\u001b[0m\u001b[0;34m\u001b[0m\u001b[0;34m\u001b[0m\u001b[0m\n\u001b[1;32m   3077\u001b[0m         \u001b[0mfunction_spec\u001b[0m\u001b[0;34m=\u001b[0m\u001b[0mself\u001b[0m\u001b[0;34m.\u001b[0m\u001b[0mfunction_spec\u001b[0m\u001b[0;34m,\u001b[0m\u001b[0;34m\u001b[0m\u001b[0;34m\u001b[0m\u001b[0m\n",
            "\u001b[0;32m/usr/local/lib/python3.6/dist-packages/tensorflow/python/framework/func_graph.py\u001b[0m in \u001b[0;36mfunc_graph_from_py_func\u001b[0;34m(name, python_func, args, kwargs, signature, func_graph, autograph, autograph_options, add_control_dependencies, arg_names, op_return_value, collections, capture_by_value, override_flat_arg_shapes)\u001b[0m\n\u001b[1;32m    984\u001b[0m         \u001b[0m_\u001b[0m\u001b[0;34m,\u001b[0m \u001b[0moriginal_func\u001b[0m \u001b[0;34m=\u001b[0m \u001b[0mtf_decorator\u001b[0m\u001b[0;34m.\u001b[0m\u001b[0munwrap\u001b[0m\u001b[0;34m(\u001b[0m\u001b[0mpython_func\u001b[0m\u001b[0;34m)\u001b[0m\u001b[0;34m\u001b[0m\u001b[0;34m\u001b[0m\u001b[0m\n\u001b[1;32m    985\u001b[0m \u001b[0;34m\u001b[0m\u001b[0m\n\u001b[0;32m--> 986\u001b[0;31m       \u001b[0mfunc_outputs\u001b[0m \u001b[0;34m=\u001b[0m \u001b[0mpython_func\u001b[0m\u001b[0;34m(\u001b[0m\u001b[0;34m*\u001b[0m\u001b[0mfunc_args\u001b[0m\u001b[0;34m,\u001b[0m \u001b[0;34m**\u001b[0m\u001b[0mfunc_kwargs\u001b[0m\u001b[0;34m)\u001b[0m\u001b[0;34m\u001b[0m\u001b[0;34m\u001b[0m\u001b[0m\n\u001b[0m\u001b[1;32m    987\u001b[0m \u001b[0;34m\u001b[0m\u001b[0m\n\u001b[1;32m    988\u001b[0m       \u001b[0;31m# invariant: `func_outputs` contains only Tensors, CompositeTensors,\u001b[0m\u001b[0;34m\u001b[0m\u001b[0;34m\u001b[0m\u001b[0;34m\u001b[0m\u001b[0m\n",
            "\u001b[0;32m/usr/local/lib/python3.6/dist-packages/tensorflow/python/eager/def_function.py\u001b[0m in \u001b[0;36mwrapped_fn\u001b[0;34m(*args, **kwds)\u001b[0m\n\u001b[1;32m    598\u001b[0m         \u001b[0;31m# __wrapped__ allows AutoGraph to swap in a converted function. We give\u001b[0m\u001b[0;34m\u001b[0m\u001b[0;34m\u001b[0m\u001b[0;34m\u001b[0m\u001b[0m\n\u001b[1;32m    599\u001b[0m         \u001b[0;31m# the function a weak reference to itself to avoid a reference cycle.\u001b[0m\u001b[0;34m\u001b[0m\u001b[0;34m\u001b[0m\u001b[0;34m\u001b[0m\u001b[0m\n\u001b[0;32m--> 600\u001b[0;31m         \u001b[0;32mreturn\u001b[0m \u001b[0mweak_wrapped_fn\u001b[0m\u001b[0;34m(\u001b[0m\u001b[0;34m)\u001b[0m\u001b[0;34m.\u001b[0m\u001b[0m__wrapped__\u001b[0m\u001b[0;34m(\u001b[0m\u001b[0;34m*\u001b[0m\u001b[0margs\u001b[0m\u001b[0;34m,\u001b[0m \u001b[0;34m**\u001b[0m\u001b[0mkwds\u001b[0m\u001b[0;34m)\u001b[0m\u001b[0;34m\u001b[0m\u001b[0;34m\u001b[0m\u001b[0m\n\u001b[0m\u001b[1;32m    601\u001b[0m     \u001b[0mweak_wrapped_fn\u001b[0m \u001b[0;34m=\u001b[0m \u001b[0mweakref\u001b[0m\u001b[0;34m.\u001b[0m\u001b[0mref\u001b[0m\u001b[0;34m(\u001b[0m\u001b[0mwrapped_fn\u001b[0m\u001b[0;34m)\u001b[0m\u001b[0;34m\u001b[0m\u001b[0;34m\u001b[0m\u001b[0m\n\u001b[1;32m    602\u001b[0m \u001b[0;34m\u001b[0m\u001b[0m\n",
            "\u001b[0;32m/usr/local/lib/python3.6/dist-packages/tensorflow/python/framework/func_graph.py\u001b[0m in \u001b[0;36mwrapper\u001b[0;34m(*args, **kwargs)\u001b[0m\n\u001b[1;32m    971\u001b[0m           \u001b[0;32mexcept\u001b[0m \u001b[0mException\u001b[0m \u001b[0;32mas\u001b[0m \u001b[0me\u001b[0m\u001b[0;34m:\u001b[0m  \u001b[0;31m# pylint:disable=broad-except\u001b[0m\u001b[0;34m\u001b[0m\u001b[0;34m\u001b[0m\u001b[0m\n\u001b[1;32m    972\u001b[0m             \u001b[0;32mif\u001b[0m \u001b[0mhasattr\u001b[0m\u001b[0;34m(\u001b[0m\u001b[0me\u001b[0m\u001b[0;34m,\u001b[0m \u001b[0;34m\"ag_error_metadata\"\u001b[0m\u001b[0;34m)\u001b[0m\u001b[0;34m:\u001b[0m\u001b[0;34m\u001b[0m\u001b[0;34m\u001b[0m\u001b[0m\n\u001b[0;32m--> 973\u001b[0;31m               \u001b[0;32mraise\u001b[0m \u001b[0me\u001b[0m\u001b[0;34m.\u001b[0m\u001b[0mag_error_metadata\u001b[0m\u001b[0;34m.\u001b[0m\u001b[0mto_exception\u001b[0m\u001b[0;34m(\u001b[0m\u001b[0me\u001b[0m\u001b[0;34m)\u001b[0m\u001b[0;34m\u001b[0m\u001b[0;34m\u001b[0m\u001b[0m\n\u001b[0m\u001b[1;32m    974\u001b[0m             \u001b[0;32melse\u001b[0m\u001b[0;34m:\u001b[0m\u001b[0;34m\u001b[0m\u001b[0;34m\u001b[0m\u001b[0m\n\u001b[1;32m    975\u001b[0m               \u001b[0;32mraise\u001b[0m\u001b[0;34m\u001b[0m\u001b[0;34m\u001b[0m\u001b[0m\n",
            "\u001b[0;31mValueError\u001b[0m: in user code:\n\n    /usr/local/lib/python3.6/dist-packages/tensorflow/python/keras/engine/training.py:806 train_function  *\n        return step_function(self, iterator)\n    <ipython-input-45-0531a73c92ec>:34 call  *\n        y_true = tf.convert_to_tensor(y_true, tf.float32)\n    /usr/local/lib/python3.6/dist-packages/tensorflow/python/framework/ops.py:1382 convert_to_tensor_v2  **\n        as_ref=False)\n    /usr/local/lib/python3.6/dist-packages/tensorflow/python/framework/ops.py:1475 convert_to_tensor\n        (dtype.name, value.dtype.name, value))\n\n    ValueError: Tensor conversion requested dtype float32 for Tensor with dtype int64: <tf.Tensor 'IteratorGetNext:1' shape=(None, 17) dtype=int64>\n"
          ]
        }
      ]
    },
    {
      "cell_type": "code",
      "metadata": {
        "id": "t_OXgwzAzll8"
      },
      "source": [
        "score = model.evaluate(x_test, y_test,\n",
        "                       batch_size=batch_size, verbose=1)\n",
        " \n",
        "print('Test accuracy:', score[1])"
      ],
      "execution_count": null,
      "outputs": []
    },
    {
      "cell_type": "code",
      "metadata": {
        "id": "58_x2nnLzll8",
        "colab": {
          "base_uri": "https://localhost:8080/"
        },
        "outputId": "46880c86-3771-4052-ab6f-0e3412693a12"
      },
      "source": [
        "\n",
        "### Save the model\n",
        "from sklearn.externals import joblib\n",
        "joblib.dump(clf_lr.best_estimator_, 'model_l3.pkl', compress=1)"
      ],
      "execution_count": null,
      "outputs": [
        {
          "output_type": "execute_result",
          "data": {
            "text/plain": [
              "['model_l3.pkl']"
            ]
          },
          "metadata": {
            "tags": []
          },
          "execution_count": 48
        }
      ]
    },
    {
      "cell_type": "markdown",
      "metadata": {
        "id": "y_w32XsPzll8"
      },
      "source": [
        "# Finals Conclusions fo Approach2\n",
        "\n",
        "- We first analysed the dataset provided to us, undestood the structure of the data provided - number of columns, field , datatypes etc.\n",
        "- We did Exploratory Data Analysis to derive further insights from this data set and we found that\n",
        "    - Data is very much imbalanced, there are around ~45% of the Groups with less than 20 tickets.\n",
        "    - Few of the tickets are in foreign language like German\n",
        "    - The data has lot of noise in it, for eg- few tickets related to account setup are spread across multiple assignment groups.\n",
        "    \n",
        "- We performed the data cleaning and preprocessing\n",
        "    - Translation: A small number of tickets were written in German. Hence, we used the Google translate python api  to convert German to English to generate the input data for the next steps. However, the google translator rest api can only process a limited number of texts on a daily basis, so we translated the text in batches and saved the file for further processing.\n",
        "    - Make text all lowercase so that the algorithm does not treat the same words in different cases as different\n",
        "    - Removing Noise i.e everything that isn’t in a standard number or letter i.e Punctuation, Numerical values\n",
        "    - Removing extract spaces\n",
        "    - Removed punctuations\n",
        "    - Removed words containing numbers\n",
        "    - Stopword Removal: Sometimes, some extremely common words which would appear to be of little value in helping select documents matching a user need are excluded from the vocabulary entirely. These words are called stop words\n",
        "    - Lemmatization\n",
        "    - Tokenization: Tokenization is just the term used to describe the process of converting the normal text strings into a list of tokens i.e words that we actually want. Sentence tokenizer can be used to find the list of sentences and Word tokenizer can be used to find the list of words in strings.\n",
        "    \n",
        "\n",
        "- We then ran a basic benchmarck model using the cleaned and preprocessed dataset\n",
        "    - Since the dataset is very imbalanced, We considered a subset of groups for predictions.  In 74 groups, 46% of tickets belong to group 1 and 16 groups just have more than 100 tickets, rest of the Assignment groups have very less ticket counts which might not add much value to the model prediction. If we conducted random sampling towards all the subcategories, then we would face a problem that we might miss all the tickets in some categories. Hence, we considered the groups that have more than 100 tickets. \n",
        "    - We trained the data using below models:\n",
        "        - Multinomial NB\n",
        "        - Linear Support vector Machine\n",
        "        - Logistic regression\n",
        "        - Xgboost\n",
        "        \n",
        "-  LinearSVC gives better performance with \n",
        "    accuracy 0.833642\n",
        "    f1 score 0.818053\n",
        "\n",
        "<b> Although, it seems like the call is biased towards GRP_0 which has a majority of samples. </b>\n",
        "\n",
        "\n",
        "\n",
        "\n",
        "\n",
        "- Even after downsampling the data we see that the predictions are biased towards GRP_0 which has a majority of samples.\n",
        "- Imbalance causes two problems:\n",
        "    - Training is inefficient as most samples are easy examples that contribute no useful learning signal;\n",
        "    - The easy examples can overwhelm training and lead to degenerate models.\n",
        "    A common solution is to perform some form of hard negative mining that samples hard examples during training or more complex sampling/re weighing schemes.In order to handle the imbalance problem  we used class_weight=balanced hyperparameter while training the model, which tells the model to \"pay more attention\" to samples from an under-represented class.  \n",
        "- Although, the accuracy and f1_score went down. This ensured that the classes were being correctly classified with lesser number of missclassification and good precision/recall scores for all the classes\n",
        "\n",
        "- Next, we used Approach 2 where the ticket would be classified into L1/L2 or L3 classes and then it would be further classified into one of the given assignment groups. \n",
        "\n",
        "- We first created a model to classify the given tickets as l1/l2 or l3 ticket, we found that Linear SVC was giving a better score.\n",
        "- Next, another model was trained considering only l1/l2 level of incidents consisting of GRP_0 and GRP_8.\n",
        "- Finally, a third model was trained considering l3 level of tickets.\n",
        "\n",
        "- We also used hyperparameter tuning, to identify the best classifier with best parameters. We found that LinearSVC was performing the best among all the other classifiers.\n",
        "- We also tried keras implementation with focal loss as a loss function to handle the class imbalance problem, which helps in giving more weightage to groups will less samples, but the results were not satifactory.\n",
        "  \n",
        " - Finally, Logistic Regression gave better performance with hyperparameter tuning and this model would be used for classifying the L3 tickets into one of the groups.\n",
        "    - accuracy 0.706260\n",
        "    - f1 score 0.705392\n",
        "\n",
        "\n",
        "The performance can be further improved by collecting more data for tickets and by running deep learning models like RNN and LSTM's."
      ]
    },
    {
      "cell_type": "code",
      "metadata": {
        "id": "npBFqqU-XKtb"
      },
      "source": [
        ""
      ],
      "execution_count": null,
      "outputs": []
    }
  ]
}